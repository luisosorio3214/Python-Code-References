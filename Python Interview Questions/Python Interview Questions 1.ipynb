{
 "cells": [
  {
   "cell_type": "markdown",
   "id": "111db8b4",
   "metadata": {},
   "source": [
    "## Python Interview Questions"
   ]
  },
  {
   "cell_type": "code",
   "execution_count": 1,
   "id": "8f60e4aa",
   "metadata": {},
   "outputs": [],
   "source": [
    "import numpy as np"
   ]
  },
  {
   "cell_type": "code",
   "execution_count": 2,
   "id": "bc7e324f",
   "metadata": {},
   "outputs": [
    {
     "data": {
      "text/plain": [
       "'abcdefghijk'"
      ]
     },
     "execution_count": 2,
     "metadata": {},
     "output_type": "execute_result"
    }
   ],
   "source": [
    "# Output a string that has no repetitive values \n",
    "string = 'abcdefgabcdhijk'\n",
    "out_string = ''\n",
    "\n",
    "seen = set()\n",
    "\n",
    "for i in string:\n",
    "    if i not in seen:\n",
    "        out_string += i \n",
    "        seen.add(i)\n",
    "        \n",
    "out_string"
   ]
  },
  {
   "cell_type": "code",
   "execution_count": 3,
   "id": "053732bf",
   "metadata": {},
   "outputs": [
    {
     "data": {
      "text/plain": [
       "'abcdefghijk'"
      ]
     },
     "execution_count": 3,
     "metadata": {},
     "output_type": "execute_result"
    }
   ],
   "source": [
    "# Creating a function for output a string for the above\n",
    "string = 'abcdefgabcdhijk'\n",
    "\n",
    "def deduper(string):\n",
    "    out_string = ''\n",
    "    seen = set()\n",
    "\n",
    "    for i in string:\n",
    "        if i not in seen:\n",
    "            out_string += i \n",
    "            seen.add(i)\n",
    "        \n",
    "    return out_string\n",
    "\n",
    "deduper(string)"
   ]
  },
  {
   "cell_type": "code",
   "execution_count": 4,
   "id": "7cb8bee5",
   "metadata": {},
   "outputs": [
    {
     "name": "stdout",
     "output_type": "stream",
     "text": [
      "probability of list 1 is 0.49897, probability of list 2 is 0.50028\n",
      "0.2496247116\n",
      "0.250018\n"
     ]
    },
    {
     "data": {
      "text/plain": [
       "True"
      ]
     },
     "execution_count": 4,
     "metadata": {},
     "output_type": "execute_result"
    }
   ],
   "source": [
    "# Show that two random sets containing 0's and 1's are independent of each other\n",
    "\n",
    "import random\n",
    "import numpy as np\n",
    "list1 = []\n",
    "list2 = []\n",
    "list3 = []\n",
    "\n",
    "epsilon = 1e-3\n",
    "\n",
    "for i in range(1000000):\n",
    "    randint_1 = random.randint(0,1)\n",
    "    randint_2 = random.randint(0,1)\n",
    "    #print(randint_1)\n",
    "    list1.append(randint_1)\n",
    "    list2.append(randint_2)\n",
    "\n",
    "    list3.append(randint_1 * randint_2)\n",
    "\n",
    "prob1 = sum(list1)/len(list1)\n",
    "prob2 = sum(list2)/len(list2)\n",
    "prob_intersect = sum(list3)/len(list3)\n",
    "\n",
    "print(f\"probability of list 1 is {prob1}, probability of list 2 is {prob2}\")\n",
    "print(prob2*prob1)\n",
    "print(prob_intersect)\n",
    "abs(prob2*prob1 - prob_intersect) < epsilon"
   ]
  },
  {
   "cell_type": "code",
   "execution_count": 5,
   "id": "991fd70b",
   "metadata": {},
   "outputs": [
    {
     "data": {
      "text/plain": [
       "{'Lebron': 5, 'c++': 4, 'c+++': 1, 'Lbron': 1}"
      ]
     },
     "execution_count": 5,
     "metadata": {},
     "output_type": "execute_result"
    }
   ],
   "source": [
    "#Count the items in the list\n",
    "search_keyword = ['Lebron','Lebron','c++','c++','c++','Lebron','c+++','Lebron','Lebron','c++','Lbron']\n",
    "dict1 = dict()\n",
    "\n",
    "for i in search_keyword:\n",
    "    if i not in dict1:\n",
    "        dict1[i] = 1\n",
    "    else:\n",
    "        dict1[i] += 1\n",
    "dict1"
   ]
  },
  {
   "cell_type": "code",
   "execution_count": 6,
   "id": "ab7bd419",
   "metadata": {},
   "outputs": [
    {
     "data": {
      "text/plain": [
       "'Lebron'"
      ]
     },
     "execution_count": 6,
     "metadata": {},
     "output_type": "execute_result"
    }
   ],
   "source": [
    "max(dict1, key = dict1.get)"
   ]
  },
  {
   "cell_type": "code",
   "execution_count": 7,
   "id": "66bdbe60",
   "metadata": {},
   "outputs": [
    {
     "name": "stdout",
     "output_type": "stream",
     "text": [
      "Lebron 5\n"
     ]
    }
   ],
   "source": [
    "print(max(dict1, key = dict1.get),dict1[max(dict1, key = dict1.get)])"
   ]
  },
  {
   "cell_type": "code",
   "execution_count": 8,
   "id": "9a8f2ec0",
   "metadata": {},
   "outputs": [
    {
     "name": "stdout",
     "output_type": "stream",
     "text": [
      "Lebron 5\n",
      "c++ 4\n",
      "c+++ 1\n",
      "Lbron 1\n"
     ]
    }
   ],
   "source": [
    "for key, value in dict1.items():\n",
    "    print(key,value)"
   ]
  },
  {
   "cell_type": "code",
   "execution_count": 9,
   "id": "2eecbdc6",
   "metadata": {},
   "outputs": [
    {
     "name": "stdout",
     "output_type": "stream",
     "text": [
      "Lebron 5\n"
     ]
    }
   ],
   "source": [
    "max_key = ''\n",
    "max_value = float('-inf')\n",
    "for key, value in dict1.items():\n",
    "    if value > max_value:\n",
    "        max_value =  value \n",
    "        max_key = key\n",
    "print(max_key,max_value)"
   ]
  },
  {
   "cell_type": "code",
   "execution_count": 10,
   "id": "a98d3e9b",
   "metadata": {},
   "outputs": [
    {
     "data": {
      "text/plain": [
       "(dict_items([('Lebron', 5), ('c++', 4), ('c+++', 1), ('Lbron', 1)]),\n",
       " {'Lebron': 5, 'c++': 4, 'c+++': 1, 'Lbron': 1})"
      ]
     },
     "execution_count": 10,
     "metadata": {},
     "output_type": "execute_result"
    }
   ],
   "source": [
    "dict1.items(), dict1\n",
    "# What is the difference?"
   ]
  },
  {
   "cell_type": "code",
   "execution_count": 11,
   "id": "e6e0445d",
   "metadata": {},
   "outputs": [],
   "source": [
    "#Example 3\n",
    "lst = [1,2,3,4,5,[6,7,[8,9]]]\n",
    "\n",
    "# want a flattened list e.g. [1,2,3,4,5,6,7,8,9]"
   ]
  },
  {
   "cell_type": "code",
   "execution_count": 12,
   "id": "deecaba4",
   "metadata": {},
   "outputs": [],
   "source": [
    "a = [1,2,4]\n",
    "b = [6,7,8]\n",
    "\n",
    "# what happens if a.append(b)?"
   ]
  },
  {
   "cell_type": "code",
   "execution_count": 13,
   "id": "f704c7ea",
   "metadata": {},
   "outputs": [
    {
     "data": {
      "text/plain": [
       "[1, 2, 4, 6, 7, 8]"
      ]
     },
     "execution_count": 13,
     "metadata": {},
     "output_type": "execute_result"
    }
   ],
   "source": [
    "a.extend(b)\n",
    "a"
   ]
  },
  {
   "cell_type": "code",
   "execution_count": 14,
   "id": "575a7ae6",
   "metadata": {},
   "outputs": [
    {
     "data": {
      "text/plain": [
       "[1, 2, 3, 4, 5, 6, 7, 8, 9]"
      ]
     },
     "execution_count": 14,
     "metadata": {},
     "output_type": "execute_result"
    }
   ],
   "source": [
    "def flatten(lst):\n",
    "    out_list = []\n",
    "    for i in lst:\n",
    "        if type(i) == type([]):\n",
    "            out_list.extend(flatten(i))\n",
    "        else:\n",
    "            out_list.append(i)\n",
    "    return out_list\n",
    "\n",
    "out_list =  flatten(lst)\n",
    "out_list"
   ]
  },
  {
   "cell_type": "code",
   "execution_count": 15,
   "id": "5678affa",
   "metadata": {},
   "outputs": [],
   "source": [
    "#Example 4\n",
    "lst = [-1,2,-3,0,1,0,4,0,5,6]\n",
    "\n",
    "#How to get [0,0,0,-1,2,-3,1,4,5,6]"
   ]
  },
  {
   "cell_type": "code",
   "execution_count": 16,
   "id": "e68b72e6",
   "metadata": {},
   "outputs": [],
   "source": [
    "#sorted(lst)"
   ]
  },
  {
   "cell_type": "code",
   "execution_count": 17,
   "id": "e4341067",
   "metadata": {},
   "outputs": [],
   "source": [
    "def front_zeros(lst):\n",
    "    out_list = []\n",
    "    for i in lst:\n",
    "        if i == 0:\n",
    "            out_list[:0] = [i] # can also do out_list.insert(0,i) or use .pop\n",
    "        else:\n",
    "            out_list.append(i)\n",
    "    return out_list"
   ]
  },
  {
   "cell_type": "code",
   "execution_count": 18,
   "id": "a097350f",
   "metadata": {},
   "outputs": [
    {
     "data": {
      "text/plain": [
       "[0, 0, 0, -1, 2, -3, 1, 4, 5, 6]"
      ]
     },
     "execution_count": 18,
     "metadata": {},
     "output_type": "execute_result"
    }
   ],
   "source": [
    "front_zeros(lst)"
   ]
  },
  {
   "cell_type": "code",
   "execution_count": 19,
   "id": "0c23046b",
   "metadata": {},
   "outputs": [],
   "source": [
    "dict1 = {'A':2,'B':4,'C':4,'D':5}"
   ]
  },
  {
   "cell_type": "code",
   "execution_count": 21,
   "id": "a37e640d",
   "metadata": {},
   "outputs": [
    {
     "data": {
      "text/plain": [
       "dict_keys(['A', 'B', 'C', 'D'])"
      ]
     },
     "execution_count": 21,
     "metadata": {},
     "output_type": "execute_result"
    }
   ],
   "source": [
    "dict1.keys()"
   ]
  },
  {
   "cell_type": "code",
   "execution_count": 22,
   "id": "80d4d145",
   "metadata": {},
   "outputs": [
    {
     "data": {
      "text/plain": [
       "dict_values([2, 4, 4, 5])"
      ]
     },
     "execution_count": 22,
     "metadata": {},
     "output_type": "execute_result"
    }
   ],
   "source": [
    "dict1.values()"
   ]
  },
  {
   "cell_type": "code",
   "execution_count": 23,
   "id": "9e80d8c7",
   "metadata": {},
   "outputs": [
    {
     "name": "stdout",
     "output_type": "stream",
     "text": [
      "A\n",
      "B\n",
      "C\n",
      "D\n"
     ]
    }
   ],
   "source": [
    "for key in dict1.keys():\n",
    "    print(key)"
   ]
  },
  {
   "cell_type": "code",
   "execution_count": 25,
   "id": "6f01cd5e",
   "metadata": {},
   "outputs": [
    {
     "name": "stdout",
     "output_type": "stream",
     "text": [
      "A 2\n",
      "B 4\n",
      "C 4\n",
      "D 5\n"
     ]
    }
   ],
   "source": [
    "for key, value in dict1.items():\n",
    "    print(key,value)"
   ]
  },
  {
   "cell_type": "code",
   "execution_count": 26,
   "id": "da272c89",
   "metadata": {},
   "outputs": [
    {
     "data": {
      "text/plain": [
       "2"
      ]
     },
     "execution_count": 26,
     "metadata": {},
     "output_type": "execute_result"
    }
   ],
   "source": [
    "dict1.pop(\"A\",\"none\")"
   ]
  },
  {
   "cell_type": "code",
   "execution_count": 27,
   "id": "deeccd7a",
   "metadata": {},
   "outputs": [
    {
     "data": {
      "text/plain": [
       "{'B': 4, 'C': 4, 'D': 5}"
      ]
     },
     "execution_count": 27,
     "metadata": {},
     "output_type": "execute_result"
    }
   ],
   "source": [
    "dict1"
   ]
  },
  {
   "cell_type": "code",
   "execution_count": 29,
   "id": "fac1158d",
   "metadata": {},
   "outputs": [],
   "source": [
    "del dict1[\"B\"]"
   ]
  },
  {
   "cell_type": "code",
   "execution_count": 30,
   "id": "40118ed9",
   "metadata": {},
   "outputs": [
    {
     "data": {
      "text/plain": [
       "{'C': 4, 'D': 5}"
      ]
     },
     "execution_count": 30,
     "metadata": {},
     "output_type": "execute_result"
    }
   ],
   "source": [
    "dict1"
   ]
  },
  {
   "cell_type": "code",
   "execution_count": 31,
   "id": "29def108",
   "metadata": {},
   "outputs": [],
   "source": [
    "dict1 = {'A':2,'BBBB':4,'CC':4,'D':5}  # Not ordered"
   ]
  },
  {
   "cell_type": "code",
   "execution_count": 32,
   "id": "b3d4adfb",
   "metadata": {},
   "outputs": [],
   "source": [
    "from collections import OrderedDict"
   ]
  },
  {
   "cell_type": "code",
   "execution_count": 33,
   "id": "5ef9d041",
   "metadata": {},
   "outputs": [],
   "source": [
    "dict2 = OrderedDict({'A':2,'BBBB':4,'CC':4,'D':5})"
   ]
  },
  {
   "cell_type": "code",
   "execution_count": 34,
   "id": "be622b04",
   "metadata": {},
   "outputs": [
    {
     "data": {
      "text/plain": [
       "OrderedDict([('A', 2), ('BBBB', 4), ('CC', 4), ('D', 5)])"
      ]
     },
     "execution_count": 34,
     "metadata": {},
     "output_type": "execute_result"
    }
   ],
   "source": [
    "dict2"
   ]
  },
  {
   "cell_type": "code",
   "execution_count": 35,
   "id": "622bfe80",
   "metadata": {},
   "outputs": [
    {
     "data": {
      "text/plain": [
       "[('A', 2), ('BBBB', 4), ('CC', 4), ('D', 5)]"
      ]
     },
     "execution_count": 35,
     "metadata": {},
     "output_type": "execute_result"
    }
   ],
   "source": [
    "list(dict2.items())"
   ]
  },
  {
   "cell_type": "code",
   "execution_count": 37,
   "id": "b48913e0",
   "metadata": {},
   "outputs": [
    {
     "data": {
      "text/plain": [
       "('A', 2)"
      ]
     },
     "execution_count": 37,
     "metadata": {},
     "output_type": "execute_result"
    }
   ],
   "source": [
    "list(dict2.items())[0]"
   ]
  },
  {
   "cell_type": "code",
   "execution_count": 38,
   "id": "4f0d1c8c",
   "metadata": {},
   "outputs": [],
   "source": [
    "from collections import defaultdict"
   ]
  },
  {
   "cell_type": "code",
   "execution_count": 39,
   "id": "2e77fa62",
   "metadata": {},
   "outputs": [],
   "source": [
    "dict3 = defaultdict(int)"
   ]
  },
  {
   "cell_type": "code",
   "execution_count": 40,
   "id": "0ca91590",
   "metadata": {},
   "outputs": [
    {
     "data": {
      "text/plain": [
       "defaultdict(int, {})"
      ]
     },
     "execution_count": 40,
     "metadata": {},
     "output_type": "execute_result"
    }
   ],
   "source": [
    "dict3"
   ]
  },
  {
   "cell_type": "code",
   "execution_count": 41,
   "id": "aceedfe3",
   "metadata": {},
   "outputs": [
    {
     "data": {
      "text/plain": [
       "0"
      ]
     },
     "execution_count": 41,
     "metadata": {},
     "output_type": "execute_result"
    }
   ],
   "source": [
    "dict3['A']"
   ]
  },
  {
   "cell_type": "code",
   "execution_count": 42,
   "id": "0a665ed2",
   "metadata": {},
   "outputs": [
    {
     "data": {
      "text/plain": [
       "defaultdict(int, {'A': 0})"
      ]
     },
     "execution_count": 42,
     "metadata": {},
     "output_type": "execute_result"
    }
   ],
   "source": [
    "dict3"
   ]
  },
  {
   "cell_type": "code",
   "execution_count": 45,
   "id": "e0269962",
   "metadata": {},
   "outputs": [
    {
     "data": {
      "text/plain": [
       "defaultdict(int, {'A': 0, 'B': 1})"
      ]
     },
     "execution_count": 45,
     "metadata": {},
     "output_type": "execute_result"
    }
   ],
   "source": [
    "dict3['B'] += 1\n",
    "dict3"
   ]
  },
  {
   "cell_type": "code",
   "execution_count": 46,
   "id": "d0810d0e",
   "metadata": {},
   "outputs": [
    {
     "data": {
      "text/plain": [
       "defaultdict(list, {'T': [2]})"
      ]
     },
     "execution_count": 46,
     "metadata": {},
     "output_type": "execute_result"
    }
   ],
   "source": [
    "dict3 = defaultdict(list)\n",
    "dict3['T'] += [2]\n",
    "dict3"
   ]
  },
  {
   "cell_type": "code",
   "execution_count": 47,
   "id": "28ca8c94",
   "metadata": {},
   "outputs": [],
   "source": [
    "dict3['V'].append(5)"
   ]
  },
  {
   "cell_type": "code",
   "execution_count": 48,
   "id": "ae473eac",
   "metadata": {},
   "outputs": [
    {
     "data": {
      "text/plain": [
       "defaultdict(list, {'T': [2], 'V': [5]})"
      ]
     },
     "execution_count": 48,
     "metadata": {},
     "output_type": "execute_result"
    }
   ],
   "source": [
    "dict3"
   ]
  },
  {
   "cell_type": "code",
   "execution_count": 49,
   "id": "8ed3bf97",
   "metadata": {},
   "outputs": [
    {
     "data": {
      "text/plain": [
       "[5]"
      ]
     },
     "execution_count": 49,
     "metadata": {},
     "output_type": "execute_result"
    }
   ],
   "source": [
    "dict3['V']"
   ]
  },
  {
   "cell_type": "code",
   "execution_count": 50,
   "id": "94e64b2c",
   "metadata": {},
   "outputs": [],
   "source": [
    "dict3['V'].append(6)"
   ]
  },
  {
   "cell_type": "code",
   "execution_count": 51,
   "id": "713a8ce0",
   "metadata": {},
   "outputs": [
    {
     "data": {
      "text/plain": [
       "defaultdict(list, {'T': [2], 'V': [5, 6]})"
      ]
     },
     "execution_count": 51,
     "metadata": {},
     "output_type": "execute_result"
    }
   ],
   "source": [
    "dict3"
   ]
  },
  {
   "cell_type": "code",
   "execution_count": 52,
   "id": "2f54958b",
   "metadata": {},
   "outputs": [],
   "source": [
    "lst = ['A','B','C','D','A','A','A']\n",
    "dict3 = defaultdict(list)"
   ]
  },
  {
   "cell_type": "code",
   "execution_count": 53,
   "id": "979ab686",
   "metadata": {},
   "outputs": [
    {
     "name": "stdout",
     "output_type": "stream",
     "text": [
      "0 A\n",
      "1 B\n",
      "2 C\n",
      "3 D\n",
      "4 A\n",
      "5 A\n",
      "6 A\n"
     ]
    }
   ],
   "source": [
    "for i, j in enumerate(lst):\n",
    "    print(i,j)"
   ]
  },
  {
   "cell_type": "code",
   "execution_count": 54,
   "id": "b12c45a2",
   "metadata": {},
   "outputs": [],
   "source": [
    "for i, v in enumerate(lst):\n",
    "    dict3[v].append(i)"
   ]
  },
  {
   "cell_type": "code",
   "execution_count": 55,
   "id": "12a99e12",
   "metadata": {},
   "outputs": [
    {
     "data": {
      "text/plain": [
       "defaultdict(list, {'A': [0, 4, 5, 6], 'B': [1], 'C': [2], 'D': [3]})"
      ]
     },
     "execution_count": 55,
     "metadata": {},
     "output_type": "execute_result"
    }
   ],
   "source": [
    "dict3"
   ]
  },
  {
   "cell_type": "code",
   "execution_count": 57,
   "id": "2eb6f491",
   "metadata": {},
   "outputs": [],
   "source": [
    "from collections import Counter"
   ]
  },
  {
   "cell_type": "code",
   "execution_count": 58,
   "id": "83d1f332",
   "metadata": {},
   "outputs": [
    {
     "data": {
      "text/plain": [
       "Counter({'A': 4, 'B': 1, 'C': 1, 'D': 1})"
      ]
     },
     "execution_count": 58,
     "metadata": {},
     "output_type": "execute_result"
    }
   ],
   "source": [
    "lst = ['A','B','C','D','A','A','A']\n",
    "Counter(lst)"
   ]
  },
  {
   "cell_type": "code",
   "execution_count": 59,
   "id": "84d5dd15",
   "metadata": {},
   "outputs": [
    {
     "data": {
      "text/plain": [
       "['G', 'F', 'E', 'D', 'C', 'B', 'A']"
      ]
     },
     "execution_count": 59,
     "metadata": {},
     "output_type": "execute_result"
    }
   ],
   "source": [
    "lst = ['A','B','C','D','E','F','G']\n",
    "lst.reverse()\n",
    "lst"
   ]
  },
  {
   "cell_type": "code",
   "execution_count": 60,
   "id": "bd42451d",
   "metadata": {},
   "outputs": [
    {
     "data": {
      "text/plain": [
       "6"
      ]
     },
     "execution_count": 60,
     "metadata": {},
     "output_type": "execute_result"
    }
   ],
   "source": [
    "lst = ['A','B','A','A','A','A','A']\n",
    "lst.count('A')"
   ]
  },
  {
   "cell_type": "code",
   "execution_count": 61,
   "id": "e0732307",
   "metadata": {},
   "outputs": [
    {
     "data": {
      "text/plain": [
       "['B', 'A', 'A', 'A', 'A', 'A']"
      ]
     },
     "execution_count": 61,
     "metadata": {},
     "output_type": "execute_result"
    }
   ],
   "source": [
    "lst.remove('A')\n",
    "lst"
   ]
  },
  {
   "cell_type": "code",
   "execution_count": 62,
   "id": "7e44f449",
   "metadata": {},
   "outputs": [
    {
     "data": {
      "text/plain": [
       "'A'"
      ]
     },
     "execution_count": 62,
     "metadata": {},
     "output_type": "execute_result"
    }
   ],
   "source": [
    "lst.pop(3)"
   ]
  },
  {
   "cell_type": "code",
   "execution_count": 63,
   "id": "2cc0dae3",
   "metadata": {},
   "outputs": [
    {
     "data": {
      "text/plain": [
       "['B', 'A', 'A', 'A', 'A']"
      ]
     },
     "execution_count": 63,
     "metadata": {},
     "output_type": "execute_result"
    }
   ],
   "source": [
    "lst"
   ]
  },
  {
   "cell_type": "code",
   "execution_count": 64,
   "id": "ff6ac141",
   "metadata": {},
   "outputs": [],
   "source": [
    "lst.insert(0,'A')"
   ]
  },
  {
   "cell_type": "code",
   "execution_count": 65,
   "id": "3c473305",
   "metadata": {},
   "outputs": [
    {
     "data": {
      "text/plain": [
       "['A', 'B', 'A', 'A', 'A', 'A']"
      ]
     },
     "execution_count": 65,
     "metadata": {},
     "output_type": "execute_result"
    }
   ],
   "source": [
    "lst"
   ]
  },
  {
   "cell_type": "code",
   "execution_count": 66,
   "id": "a702f42b",
   "metadata": {},
   "outputs": [
    {
     "data": {
      "text/plain": [
       "1"
      ]
     },
     "execution_count": 66,
     "metadata": {},
     "output_type": "execute_result"
    }
   ],
   "source": [
    "lst.index('B')"
   ]
  },
  {
   "cell_type": "code",
   "execution_count": 67,
   "id": "4f1660e7",
   "metadata": {},
   "outputs": [],
   "source": [
    "lst.append('T')"
   ]
  },
  {
   "cell_type": "code",
   "execution_count": 68,
   "id": "93031a7c",
   "metadata": {},
   "outputs": [
    {
     "data": {
      "text/plain": [
       "['A', 'B', 'A', 'A', 'A', 'A', 'T']"
      ]
     },
     "execution_count": 68,
     "metadata": {},
     "output_type": "execute_result"
    }
   ],
   "source": [
    "lst"
   ]
  },
  {
   "cell_type": "code",
   "execution_count": 69,
   "id": "cc910ff9",
   "metadata": {},
   "outputs": [],
   "source": [
    "lst.extend(['x','y','z'])"
   ]
  },
  {
   "cell_type": "code",
   "execution_count": 70,
   "id": "ec4aa4c0",
   "metadata": {},
   "outputs": [
    {
     "data": {
      "text/plain": [
       "['A', 'B', 'A', 'A', 'A', 'A', 'T', 'x', 'y', 'z']"
      ]
     },
     "execution_count": 70,
     "metadata": {},
     "output_type": "execute_result"
    }
   ],
   "source": [
    "lst"
   ]
  },
  {
   "cell_type": "code",
   "execution_count": 71,
   "id": "3d9a4c77",
   "metadata": {},
   "outputs": [],
   "source": [
    "lst.sort()"
   ]
  },
  {
   "cell_type": "code",
   "execution_count": 72,
   "id": "4702811a",
   "metadata": {},
   "outputs": [
    {
     "data": {
      "text/plain": [
       "['A', 'A', 'A', 'A', 'A', 'B', 'T', 'x', 'y', 'z']"
      ]
     },
     "execution_count": 72,
     "metadata": {},
     "output_type": "execute_result"
    }
   ],
   "source": [
    "lst"
   ]
  },
  {
   "cell_type": "code",
   "execution_count": 73,
   "id": "b2548b87",
   "metadata": {},
   "outputs": [
    {
     "data": {
      "text/plain": [
       "['A', 'B', 'C', 'D', 'E', 'F', 'G']"
      ]
     },
     "execution_count": 73,
     "metadata": {},
     "output_type": "execute_result"
    }
   ],
   "source": [
    "lst = ['A','B','C','D','E','F','G']\n",
    "sorted(lst)"
   ]
  },
  {
   "cell_type": "code",
   "execution_count": null,
   "id": "abb6dc61",
   "metadata": {},
   "outputs": [],
   "source": []
  }
 ],
 "metadata": {
  "kernelspec": {
   "display_name": "Python 3 (ipykernel)",
   "language": "python",
   "name": "python3"
  },
  "language_info": {
   "codemirror_mode": {
    "name": "ipython",
    "version": 3
   },
   "file_extension": ".py",
   "mimetype": "text/x-python",
   "name": "python",
   "nbconvert_exporter": "python",
   "pygments_lexer": "ipython3",
   "version": "3.10.9"
  }
 },
 "nbformat": 4,
 "nbformat_minor": 5
}
