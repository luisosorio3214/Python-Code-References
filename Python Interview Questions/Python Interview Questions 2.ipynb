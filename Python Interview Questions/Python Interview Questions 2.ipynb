{
 "cells": [
  {
   "cell_type": "code",
   "execution_count": 1,
   "id": "504cd21f",
   "metadata": {},
   "outputs": [],
   "source": [
    "import numpy as np"
   ]
  },
  {
   "cell_type": "code",
   "execution_count": 2,
   "id": "e441d4c3",
   "metadata": {},
   "outputs": [
    {
     "data": {
      "text/plain": [
       "'hgfhgfedba'"
      ]
     },
     "execution_count": 2,
     "metadata": {},
     "output_type": "execute_result"
    }
   ],
   "source": [
    "string = 'abdefghfgh'\n",
    "string[::-1]"
   ]
  },
  {
   "cell_type": "code",
   "execution_count": 3,
   "id": "d71d311a",
   "metadata": {},
   "outputs": [
    {
     "data": {
      "text/plain": [
       "True"
      ]
     },
     "execution_count": 3,
     "metadata": {},
     "output_type": "execute_result"
    }
   ],
   "source": [
    "string.startswith('abd')"
   ]
  },
  {
   "cell_type": "code",
   "execution_count": 4,
   "id": "771fd368",
   "metadata": {},
   "outputs": [
    {
     "data": {
      "text/plain": [
       "False"
      ]
     },
     "execution_count": 4,
     "metadata": {},
     "output_type": "execute_result"
    }
   ],
   "source": [
    "string.endswith('hgf')"
   ]
  },
  {
   "cell_type": "code",
   "execution_count": 5,
   "id": "c6037231",
   "metadata": {},
   "outputs": [],
   "source": [
    "#Example 1\n",
    "strings = ['catdog','catpillow','caterpillar','catering']\n",
    "#Get the common prefix- cat"
   ]
  },
  {
   "cell_type": "code",
   "execution_count": 6,
   "id": "9a2a4557",
   "metadata": {},
   "outputs": [
    {
     "name": "stdout",
     "output_type": "stream",
     "text": [
      "cat\n"
     ]
    }
   ],
   "source": [
    "prefix = min(strings, key=len)\n",
    "#prefix[:-1]\n",
    "#print(prefix)\n",
    "while not all(string.startswith(prefix) for string in strings):\n",
    "       prefix = prefix[:-1]\n",
    "        \n",
    "print(prefix)"
   ]
  },
  {
   "cell_type": "code",
   "execution_count": 7,
   "id": "1ad98d11",
   "metadata": {},
   "outputs": [],
   "source": [
    "string = '    abd efg    '"
   ]
  },
  {
   "cell_type": "code",
   "execution_count": 8,
   "id": "89780125",
   "metadata": {},
   "outputs": [
    {
     "data": {
      "text/plain": [
       "'abd efg'"
      ]
     },
     "execution_count": 8,
     "metadata": {},
     "output_type": "execute_result"
    }
   ],
   "source": [
    "string.strip()"
   ]
  },
  {
   "cell_type": "code",
   "execution_count": 9,
   "id": "a0dabd91",
   "metadata": {},
   "outputs": [
    {
     "data": {
      "text/plain": [
       "'egfedcba'"
      ]
     },
     "execution_count": 9,
     "metadata": {},
     "output_type": "execute_result"
    }
   ],
   "source": [
    "string = 'abcdefge'\n",
    "\n",
    "def reverse_it(string):\n",
    "    if len(string) == 1:\n",
    "        return string \n",
    "    return reverse_it(string[1:]) + string[0]\n",
    "\n",
    "reverse_it(string)"
   ]
  },
  {
   "cell_type": "code",
   "execution_count": 10,
   "id": "f66833fa",
   "metadata": {},
   "outputs": [
    {
     "data": {
      "text/plain": [
       "[2, 4, 8, 10]"
      ]
     },
     "execution_count": 10,
     "metadata": {},
     "output_type": "execute_result"
    }
   ],
   "source": [
    "#Example 2\n",
    "#return all the even numbers from the list\n",
    "lst = [2,3,4,5,7,8,9,10]\n",
    "out = []\n",
    "for i in lst:\n",
    "    if i%2 == 0:\n",
    "        out.append(i)\n",
    "out"
   ]
  },
  {
   "cell_type": "code",
   "execution_count": 11,
   "id": "b0893539",
   "metadata": {},
   "outputs": [
    {
     "data": {
      "text/plain": [
       "[2, 4, 8, 10]"
      ]
     },
     "execution_count": 11,
     "metadata": {},
     "output_type": "execute_result"
    }
   ],
   "source": [
    "[x for x in lst if x%2==0]"
   ]
  },
  {
   "cell_type": "code",
   "execution_count": 12,
   "id": "ec80d27c",
   "metadata": {},
   "outputs": [
    {
     "data": {
      "text/plain": [
       "[2, nan, 4, nan, nan, 8, nan, 10]"
      ]
     },
     "execution_count": 12,
     "metadata": {},
     "output_type": "execute_result"
    }
   ],
   "source": [
    "lst = [2,3,4,5,7,8,9,10]\n",
    "out = []\n",
    "for i in lst:\n",
    "    if i%2 == 0:\n",
    "        out.append(i)\n",
    "    else:\n",
    "        out.append(np.nan)\n",
    "out"
   ]
  },
  {
   "cell_type": "code",
   "execution_count": 13,
   "id": "d9fe5481",
   "metadata": {},
   "outputs": [
    {
     "data": {
      "text/plain": [
       "[2, nan, 4, nan, nan, 8, nan, 10]"
      ]
     },
     "execution_count": 13,
     "metadata": {},
     "output_type": "execute_result"
    }
   ],
   "source": [
    "[x if x%2 == 0 else np.nan for x in lst]"
   ]
  },
  {
   "cell_type": "code",
   "execution_count": 14,
   "id": "d88ab470",
   "metadata": {},
   "outputs": [
    {
     "name": "stdout",
     "output_type": "stream",
     "text": [
      "4\n"
     ]
    }
   ],
   "source": [
    "#Example 3\n",
    "\n",
    "lst = ['A','B','distance','distance','C','D','distance','element','C']\n",
    "#want the distance between the first distance to the last distance \n",
    "\n",
    "left, right = {}, {}\n",
    "\n",
    "for i, v in enumerate(lst):\n",
    "    if v == 'distance':\n",
    "        if 'distance' not in left:\n",
    "            left['distance'] = i \n",
    "        right['distance'] = i\n",
    "        \n",
    "print(right['distance']-left['distance'])"
   ]
  },
  {
   "cell_type": "code",
   "execution_count": 15,
   "id": "8cae1070",
   "metadata": {},
   "outputs": [],
   "source": [
    "#Example 4 \n",
    "#Find the maximum height for the bars of size height \n",
    "height = [1,8,6,2,5,4,8,3,7]\n",
    "#Answer: 49"
   ]
  },
  {
   "cell_type": "code",
   "execution_count": 16,
   "id": "35757dbb",
   "metadata": {},
   "outputs": [
    {
     "name": "stdout",
     "output_type": "stream",
     "text": [
      "49\n"
     ]
    }
   ],
   "source": [
    "left = 0\n",
    "right = len(height)-1\n",
    "max_area = 0\n",
    "\n",
    "while left < right:\n",
    "    \n",
    "    width =  right - left \n",
    "    current_area = width * min(height[left],height[right])\n",
    "    max_area = max(max_area,current_area)\n",
    "    \n",
    "    if height[left] <= height[right]:\n",
    "        left += 1 \n",
    "    else:\n",
    "        right -= 1\n",
    "print(max_area)"
   ]
  },
  {
   "cell_type": "code",
   "execution_count": 17,
   "id": "5c6562e2",
   "metadata": {},
   "outputs": [
    {
     "name": "stdout",
     "output_type": "stream",
     "text": [
      "3 2\n"
     ]
    }
   ],
   "source": [
    "#Example 5\n",
    "#Given a string of UPs, Downs, Lefts, Rights\n",
    "#What is the final position of (x,y)\n",
    "x, y = 0, 0\n",
    "string = 'uuUdrrr'\n",
    "\n",
    "for i in string:\n",
    "    i = i.lower()\n",
    "    if i == 'u':\n",
    "        y+=1\n",
    "    elif i == 'd':\n",
    "        y-=1\n",
    "    elif i == 'r':\n",
    "        x+=1\n",
    "    elif i == 'l':\n",
    "        x-=1\n",
    "print(x,y)"
   ]
  },
  {
   "cell_type": "code",
   "execution_count": 18,
   "id": "e8bb2e0a",
   "metadata": {},
   "outputs": [
    {
     "name": "stdout",
     "output_type": "stream",
     "text": [
      "4\n"
     ]
    }
   ],
   "source": [
    "#Example 6\n",
    "#Count how many evens and odds and subtract them\n",
    "lst = [1,5,7,8,8,10,2,5,7]\n",
    "summation = 0\n",
    "for i, v in enumerate(lst):\n",
    "    if i%2 == 0:\n",
    "        summation += i\n",
    "    else:\n",
    "        summation -= i \n",
    "print(summation)"
   ]
  },
  {
   "cell_type": "code",
   "execution_count": 19,
   "id": "84fdeb54",
   "metadata": {},
   "outputs": [
    {
     "data": {
      "text/plain": [
       "4"
      ]
     },
     "execution_count": 19,
     "metadata": {},
     "output_type": "execute_result"
    }
   ],
   "source": [
    "#Example 7\n",
    "#Find two specific numbers in the list that sum up to the given target value\n",
    "#You need to give the indices of the two numbers that sum up to the target value\n",
    "#If there are no couple of numbers that add up to target return -1\n",
    "a = [1,5,7,7,9,10,2,5,7]\n",
    "target = 16\n",
    "a.index(9)"
   ]
  },
  {
   "cell_type": "code",
   "execution_count": 20,
   "id": "5bf8a343",
   "metadata": {},
   "outputs": [],
   "source": [
    "b = [1,5,2,3]"
   ]
  },
  {
   "cell_type": "code",
   "execution_count": 21,
   "id": "06c00b8e",
   "metadata": {},
   "outputs": [
    {
     "name": "stdout",
     "output_type": "stream",
     "text": [
      "Pair of indices that add up to: 16\n",
      "(8,4)\n"
     ]
    }
   ],
   "source": [
    "def findvalues(lst,target):\n",
    "    hashmap = {}\n",
    "    for i, v in enumerate(lst):\n",
    "        hashmap[target-v] = i\n",
    "    print(\"Pair of indices that add up to:\",target)\n",
    "    for j in hashmap.keys():\n",
    "        if (j in lst):\n",
    "            return print(f\"({hashmap[j]},{lst.index(j)})\")\n",
    "    return print(\"-1 \\nno such pairs exist!\")  \n",
    "        \n",
    "\n",
    "findvalues(a,target)"
   ]
  },
  {
   "cell_type": "code",
   "execution_count": 22,
   "id": "28067083",
   "metadata": {},
   "outputs": [
    {
     "data": {
      "text/plain": [
       "'queue stacks and deque'"
      ]
     },
     "execution_count": 22,
     "metadata": {},
     "output_type": "execute_result"
    }
   ],
   "source": [
    "'queue stacks and deque'"
   ]
  },
  {
   "cell_type": "code",
   "execution_count": 23,
   "id": "df3d870d",
   "metadata": {},
   "outputs": [
    {
     "data": {
      "text/plain": [
       "[5, 1, 2, 3, 4]"
      ]
     },
     "execution_count": 23,
     "metadata": {},
     "output_type": "execute_result"
    }
   ],
   "source": [
    "list1 = [1,2,3,4]\n",
    "list1.insert(0,5)\n",
    "list1"
   ]
  },
  {
   "cell_type": "code",
   "execution_count": 24,
   "id": "a83039b4",
   "metadata": {},
   "outputs": [
    {
     "name": "stdout",
     "output_type": "stream",
     "text": [
      "['a', 'b', 'c', 'd', 'e', 'f', 'g', 'g', 'g', 'g', 'g']\n"
     ]
    },
    {
     "data": {
      "text/plain": [
       "'gggggfedcba'"
      ]
     },
     "execution_count": 24,
     "metadata": {},
     "output_type": "execute_result"
    }
   ],
   "source": [
    "string = 'abcdefggggg'\n",
    "out = []\n",
    "out_string = ''\n",
    "for i in string:\n",
    "    out.append(i)\n",
    "print(out)\n",
    "for j in range(len(string)):\n",
    "    out_string += out.pop()\n",
    "out_string"
   ]
  },
  {
   "cell_type": "code",
   "execution_count": 25,
   "id": "7509de7f",
   "metadata": {},
   "outputs": [],
   "source": [
    "from collections import deque"
   ]
  },
  {
   "cell_type": "code",
   "execution_count": 26,
   "id": "04ccd58a",
   "metadata": {},
   "outputs": [
    {
     "data": {
      "text/plain": [
       "deque([1, 2, 3, 4, 5, 6])"
      ]
     },
     "execution_count": 26,
     "metadata": {},
     "output_type": "execute_result"
    }
   ],
   "source": [
    "deque([1,2,3,4,5,6])"
   ]
  },
  {
   "cell_type": "code",
   "execution_count": 27,
   "id": "744cba23",
   "metadata": {},
   "outputs": [
    {
     "data": {
      "text/plain": [
       "{1, 3, 4, 5, 6}"
      ]
     },
     "execution_count": 27,
     "metadata": {},
     "output_type": "execute_result"
    }
   ],
   "source": [
    "a = set([1,3,4,4,4,5,6])\n",
    "a"
   ]
  },
  {
   "cell_type": "code",
   "execution_count": 28,
   "id": "f26bf7d3",
   "metadata": {},
   "outputs": [
    {
     "data": {
      "text/plain": [
       "{1, 3, 7, 8, 9}"
      ]
     },
     "execution_count": 28,
     "metadata": {},
     "output_type": "execute_result"
    }
   ],
   "source": [
    "b = set([1,3,7,8,9])\n",
    "b"
   ]
  },
  {
   "cell_type": "code",
   "execution_count": 29,
   "id": "0d317ad0",
   "metadata": {},
   "outputs": [
    {
     "data": {
      "text/plain": [
       "{1, 3, 4, 5, 6, 7, 8, 9}"
      ]
     },
     "execution_count": 29,
     "metadata": {},
     "output_type": "execute_result"
    }
   ],
   "source": [
    "a.union(b)"
   ]
  },
  {
   "cell_type": "code",
   "execution_count": 30,
   "id": "912cba3e",
   "metadata": {},
   "outputs": [
    {
     "data": {
      "text/plain": [
       "{1, 3}"
      ]
     },
     "execution_count": 30,
     "metadata": {},
     "output_type": "execute_result"
    }
   ],
   "source": [
    "a.intersection(b)"
   ]
  },
  {
   "cell_type": "code",
   "execution_count": 31,
   "id": "c22aa10f",
   "metadata": {},
   "outputs": [],
   "source": [
    "a = set([1,3,3,3,4,4,4,5,6])\n",
    "b = set([1,3,4])"
   ]
  },
  {
   "cell_type": "code",
   "execution_count": 32,
   "id": "76f2fb06",
   "metadata": {},
   "outputs": [
    {
     "data": {
      "text/plain": [
       "True"
      ]
     },
     "execution_count": 32,
     "metadata": {},
     "output_type": "execute_result"
    }
   ],
   "source": [
    "a >=b"
   ]
  },
  {
   "cell_type": "code",
   "execution_count": 33,
   "id": "bbbd8965",
   "metadata": {},
   "outputs": [
    {
     "data": {
      "text/plain": [
       "{5, 6}"
      ]
     },
     "execution_count": 33,
     "metadata": {},
     "output_type": "execute_result"
    }
   ],
   "source": [
    "a.difference(b)"
   ]
  },
  {
   "cell_type": "code",
   "execution_count": 34,
   "id": "7d36ce49",
   "metadata": {},
   "outputs": [
    {
     "data": {
      "text/plain": [
       "{1, 4, 5, 6}"
      ]
     },
     "execution_count": 34,
     "metadata": {},
     "output_type": "execute_result"
    }
   ],
   "source": [
    "a.remove(3)\n",
    "a"
   ]
  },
  {
   "cell_type": "code",
   "execution_count": 35,
   "id": "5c17aa80",
   "metadata": {},
   "outputs": [
    {
     "data": {
      "text/plain": [
       "[1, 2, 3, 4, 200, 6, 7, 8]"
      ]
     },
     "execution_count": 35,
     "metadata": {},
     "output_type": "execute_result"
    }
   ],
   "source": [
    "lst = [1,2,3,4,5,6,7,8]\n",
    "lst1 = lst \n",
    "lst1[4]= 200\n",
    "lst1"
   ]
  },
  {
   "cell_type": "code",
   "execution_count": 36,
   "id": "704c01d3",
   "metadata": {},
   "outputs": [
    {
     "data": {
      "text/plain": [
       "[1, 2, 3, 4, 200, 6, 7, 8]"
      ]
     },
     "execution_count": 36,
     "metadata": {},
     "output_type": "execute_result"
    }
   ],
   "source": [
    "lst"
   ]
  },
  {
   "cell_type": "code",
   "execution_count": 37,
   "id": "651640b6",
   "metadata": {},
   "outputs": [],
   "source": [
    "#to fix this do \n",
    "lst1 = lst.copy()"
   ]
  },
  {
   "cell_type": "code",
   "execution_count": 38,
   "id": "e5342bd3",
   "metadata": {},
   "outputs": [
    {
     "data": {
      "text/plain": [
       "2"
      ]
     },
     "execution_count": 38,
     "metadata": {},
     "output_type": "execute_result"
    }
   ],
   "source": [
    "#tuples\n",
    "a = (1,2,3,4,5,2,2,2,2)\n",
    "a[1]"
   ]
  },
  {
   "cell_type": "code",
   "execution_count": 39,
   "id": "aa6720b6",
   "metadata": {},
   "outputs": [
    {
     "data": {
      "text/plain": [
       "5"
      ]
     },
     "execution_count": 39,
     "metadata": {},
     "output_type": "execute_result"
    }
   ],
   "source": [
    "a.count(2)"
   ]
  },
  {
   "cell_type": "code",
   "execution_count": 40,
   "id": "d324c65c",
   "metadata": {},
   "outputs": [
    {
     "data": {
      "text/plain": [
       "4"
      ]
     },
     "execution_count": 40,
     "metadata": {},
     "output_type": "execute_result"
    }
   ],
   "source": [
    "a.index(5)"
   ]
  },
  {
   "cell_type": "code",
   "execution_count": 41,
   "id": "0e39f83b",
   "metadata": {},
   "outputs": [
    {
     "name": "stdout",
     "output_type": "stream",
     "text": [
      "[2, 14, 16, 8, 9]\n"
     ]
    }
   ],
   "source": [
    "#Example 8 \n",
    "#Add the first element and last element and keep going \n",
    "nums = [1,5,8,2,4,5,6,8,9,1]\n",
    "from collections import deque \n",
    "nums = deque(nums)\n",
    "out = []\n",
    "while nums != deque([]):\n",
    "    out.append(nums.pop()+nums.popleft())\n",
    "print(out)"
   ]
  },
  {
   "cell_type": "code",
   "execution_count": 42,
   "id": "62ac67c1",
   "metadata": {},
   "outputs": [
    {
     "data": {
      "text/plain": [
       "[2, 14, 16, 8, 9]"
      ]
     },
     "execution_count": 42,
     "metadata": {},
     "output_type": "execute_result"
    }
   ],
   "source": [
    "#Another way without using deques\n",
    "num = [1,5,8,2,4,5,6,8,9,1]\n",
    "out = []\n",
    "while num != []:\n",
    "    out.append(num.pop() + num.pop(0))\n",
    "out"
   ]
  },
  {
   "cell_type": "code",
   "execution_count": null,
   "id": "dbbf863b",
   "metadata": {},
   "outputs": [],
   "source": []
  }
 ],
 "metadata": {
  "kernelspec": {
   "display_name": "Python 3 (ipykernel)",
   "language": "python",
   "name": "python3"
  },
  "language_info": {
   "codemirror_mode": {
    "name": "ipython",
    "version": 3
   },
   "file_extension": ".py",
   "mimetype": "text/x-python",
   "name": "python",
   "nbconvert_exporter": "python",
   "pygments_lexer": "ipython3",
   "version": "3.10.9"
  }
 },
 "nbformat": 4,
 "nbformat_minor": 5
}
