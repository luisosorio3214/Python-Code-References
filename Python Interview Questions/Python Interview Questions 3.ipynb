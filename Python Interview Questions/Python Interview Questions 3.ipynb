{
 "cells": [
  {
   "cell_type": "code",
   "execution_count": 1,
   "id": "239c704c",
   "metadata": {},
   "outputs": [],
   "source": [
    "import numpy as np"
   ]
  },
  {
   "cell_type": "code",
   "execution_count": 2,
   "id": "e2369adc",
   "metadata": {},
   "outputs": [
    {
     "data": {
      "text/plain": [
       "4"
      ]
     },
     "execution_count": 2,
     "metadata": {},
     "output_type": "execute_result"
    }
   ],
   "source": [
    "#Example 1\n",
    "#return a pair of indices of the list that add up to the target\n",
    "a = [1,5,7,7,9,10,2,5,7] #return indices\n",
    "b = [1,5,2,6]       #return -1\n",
    "target = 16\n",
    "a.index(9)"
   ]
  },
  {
   "cell_type": "code",
   "execution_count": 3,
   "id": "d6d028fb",
   "metadata": {},
   "outputs": [
    {
     "name": "stdout",
     "output_type": "stream",
     "text": [
      "Pair of indices in the list that add up to: 16\n",
      "(2,4)\n",
      "(3,4)\n",
      "(4,2)\n",
      "(8,4)\n"
     ]
    }
   ],
   "source": [
    "def findvalues(lst,target):\n",
    "    hashmap = {}\n",
    "    out = []\n",
    "    print(\"Pair of indices in the list that add up to:\",target)\n",
    "    for i, v in enumerate(lst):\n",
    "        num = target - v\n",
    "        hashmap[num] = i\n",
    "        if (num in lst) and (num != i):\n",
    "            print(f\"({hashmap[num]},{lst.index(num)})\")\n",
    "            out.append(num)\n",
    "    if bool(out) == False:\n",
    "        return print(\"-1 \\nno such pairs exist!\")       \n",
    "\n",
    "findvalues(a,target)\n",
    "#findvalues(b,target)"
   ]
  },
  {
   "cell_type": "code",
   "execution_count": 4,
   "id": "9e0d611d",
   "metadata": {},
   "outputs": [
    {
     "name": "stdout",
     "output_type": "stream",
     "text": [
      "Pair of indices in the list that add up to: 16\n",
      "(8,4)\n"
     ]
    }
   ],
   "source": [
    "def findvalues(lst,target):\n",
    "    hashmap = {}\n",
    "    out = []\n",
    "    print(\"Pair of indices in the list that add up to:\",target)\n",
    "    for i, v in enumerate(lst):\n",
    "        num = target - v\n",
    "        hashmap[num] = i\n",
    "        if num in lst:\n",
    "             out.append(num)\n",
    "    if (num in lst) and (num != i):\n",
    "        print(f\"({hashmap[num]},{lst.index(num)})\")     \n",
    "    elif bool(out) == False:\n",
    "        return print(\"-1 \\nno such pairs exist!\")       \n",
    "\n",
    "findvalues(a,target)\n",
    "#findvalues(b,target)"
   ]
  },
  {
   "cell_type": "code",
   "execution_count": 8,
   "id": "0694d206",
   "metadata": {},
   "outputs": [
    {
     "name": "stdout",
     "output_type": "stream",
     "text": [
      "Pair of indices in the list that add up to: 16\n"
     ]
    },
    {
     "data": {
      "text/plain": [
       "(1, 8)"
      ]
     },
     "execution_count": 8,
     "metadata": {},
     "output_type": "execute_result"
    }
   ],
   "source": [
    "lst = [16,1,3,4,9,22,5,4,15]\n",
    "target = 16\n",
    "\n",
    "def findvalues(lst,target):\n",
    "        hashmap = {}\n",
    "        out = []\n",
    "        print(\"Pair of indices in the list that add up to:\",target)\n",
    "        for i, v in enumerate(lst):\n",
    "            if v not in hashmap:\n",
    "                hashmap[target-v] = i\n",
    "            else:\n",
    "                 #print(hashmap)\n",
    "                return hashmap[v], i\n",
    "        return -1\n",
    " \n",
    "findvalues(lst,target)"
   ]
  },
  {
   "cell_type": "code",
   "execution_count": 9,
   "id": "86b7c633",
   "metadata": {},
   "outputs": [
    {
     "name": "stdout",
     "output_type": "stream",
     "text": [
      "Pair of indices in the list that add up to: 16\n"
     ]
    },
    {
     "data": {
      "text/plain": [
       "(1, 8)"
      ]
     },
     "execution_count": 9,
     "metadata": {},
     "output_type": "execute_result"
    }
   ],
   "source": [
    "lst = [16,1,3,4,9,22,5,4,15,13,8,8,7,9,11]\n",
    "target = 16\n",
    "\n",
    "def findvalues(lst,target):\n",
    "    hashmap = {}\n",
    "    out = []\n",
    "    print(\"Pair of indices in the list that add up to:\",target)\n",
    "    for i, v in enumerate(lst):\n",
    "        if v not in hashmap:\n",
    "            hashmap[target-v] = i\n",
    "        else:\n",
    "            #print(hashmap)\n",
    "            return hashmap[v], i\n",
    "    out.append((hashmap[v], i))\n",
    "    return out\n",
    " \n",
    "findvalues(lst,target)"
   ]
  },
  {
   "cell_type": "code",
   "execution_count": null,
   "id": "75a6cec3",
   "metadata": {},
   "outputs": [],
   "source": []
  }
 ],
 "metadata": {
  "kernelspec": {
   "display_name": "Python 3 (ipykernel)",
   "language": "python",
   "name": "python3"
  },
  "language_info": {
   "codemirror_mode": {
    "name": "ipython",
    "version": 3
   },
   "file_extension": ".py",
   "mimetype": "text/x-python",
   "name": "python",
   "nbconvert_exporter": "python",
   "pygments_lexer": "ipython3",
   "version": "3.10.9"
  }
 },
 "nbformat": 4,
 "nbformat_minor": 5
}
