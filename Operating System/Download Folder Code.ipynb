{
 "cells": [
  {
   "cell_type": "markdown",
   "id": "88e9480c-628b-4628-8383-e1d6afd538af",
   "metadata": {},
   "source": [
    "# Download File From Local Path"
   ]
  },
  {
   "cell_type": "code",
   "execution_count": 1,
   "id": "f3ea5691",
   "metadata": {},
   "outputs": [],
   "source": [
    "# import libraries\n",
    "import os\n",
    "import shutil\n",
    "import requests"
   ]
  },
  {
   "cell_type": "code",
   "execution_count": 2,
   "id": "0bd67293",
   "metadata": {},
   "outputs": [
    {
     "data": {
      "text/plain": [
       "'/Users/luisosorio/Math578F22-Personal/Python Coding/Modules'"
      ]
     },
     "execution_count": 2,
     "metadata": {},
     "output_type": "execute_result"
    }
   ],
   "source": [
    "# get working directory\n",
    "os.getcwd()"
   ]
  },
  {
   "cell_type": "code",
   "execution_count": 3,
   "id": "c8d559db",
   "metadata": {},
   "outputs": [
    {
     "data": {
      "text/plain": [
       "['Operating System Module.ipynb',\n",
       " 'Download Folder Code.ipynb',\n",
       " 'sample',\n",
       " '.ipynb_checkpoints']"
      ]
     },
     "execution_count": 3,
     "metadata": {},
     "output_type": "execute_result"
    }
   ],
   "source": [
    "# list the folders in the working directory\n",
    "os.listdir()"
   ]
  },
  {
   "cell_type": "code",
   "execution_count": 4,
   "id": "95762a69",
   "metadata": {},
   "outputs": [
    {
     "data": {
      "text/plain": [
       "<module 'posixpath' from '/Users/luisosorio/anaconda3/lib/python3.10/posixpath.py'>"
      ]
     },
     "execution_count": 4,
     "metadata": {},
     "output_type": "execute_result"
    }
   ],
   "source": [
    "# get path\n",
    "os.path"
   ]
  },
  {
   "cell_type": "code",
   "execution_count": 5,
   "id": "ae50101b",
   "metadata": {},
   "outputs": [],
   "source": [
    "# function to download file\n",
    "def download_file(url, folder_name):\n",
    "    local_filename = url.split('/')[-1]\n",
    "    path = os.path.join(\"{}/{}/{}\".format(os.getcwd(),folder_name, local_filename))\n",
    "    with requests.get(url, stream=True) as r:\n",
    "        with open(path, 'wb') as f:\n",
    "            shutil.copyfileobj(r.raw, f)\n",
    "\n",
    "    return local_filename"
   ]
  },
  {
   "cell_type": "code",
   "execution_count": 6,
   "id": "58ff3133",
   "metadata": {},
   "outputs": [
    {
     "data": {
      "text/plain": [
       "'banklist.csv'"
      ]
     },
     "execution_count": 6,
     "metadata": {},
     "output_type": "execute_result"
    }
   ],
   "source": [
    "# download bank list file from data.gov\n",
    "link = 'https://www.fdic.gov/bank/individual/failed/banklist.csv'\n",
    "download_file(link,'sample')"
   ]
  },
  {
   "cell_type": "code",
   "execution_count": null,
   "id": "587b9fd2",
   "metadata": {},
   "outputs": [],
   "source": []
  }
 ],
 "metadata": {
  "kernelspec": {
   "display_name": "Python 3 (ipykernel)",
   "language": "python",
   "name": "python3"
  },
  "language_info": {
   "codemirror_mode": {
    "name": "ipython",
    "version": 3
   },
   "file_extension": ".py",
   "mimetype": "text/x-python",
   "name": "python",
   "nbconvert_exporter": "python",
   "pygments_lexer": "ipython3",
   "version": "3.10.9"
  }
 },
 "nbformat": 4,
 "nbformat_minor": 5
}
