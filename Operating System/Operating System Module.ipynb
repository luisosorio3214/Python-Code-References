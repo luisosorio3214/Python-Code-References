{
 "cells": [
  {
   "cell_type": "markdown",
   "id": "cb3dade5-ecec-428a-be78-89af03e01f41",
   "metadata": {},
   "source": [
    "# Operating System (OS Module)"
   ]
  },
  {
   "cell_type": "code",
   "execution_count": 1,
   "id": "cc403047",
   "metadata": {},
   "outputs": [],
   "source": [
    "# import libraries\n",
    "import os\n",
    "from datetime import datetime"
   ]
  },
  {
   "cell_type": "code",
   "execution_count": 2,
   "id": "b242b95c",
   "metadata": {},
   "outputs": [
    {
     "name": "stdout",
     "output_type": "stream",
     "text": [
      "['CLD_CONTINUED', 'CLD_DUMPED', 'CLD_EXITED', 'CLD_KILLED', 'CLD_STOPPED', 'CLD_TRAPPED', 'DirEntry', 'EX_CANTCREAT', 'EX_CONFIG', 'EX_DATAERR', 'EX_IOERR', 'EX_NOHOST', 'EX_NOINPUT', 'EX_NOPERM', 'EX_NOUSER', 'EX_OK', 'EX_OSERR', 'EX_OSFILE', 'EX_PROTOCOL', 'EX_SOFTWARE', 'EX_TEMPFAIL', 'EX_UNAVAILABLE', 'EX_USAGE', 'F_LOCK', 'F_OK', 'F_TEST', 'F_TLOCK', 'F_ULOCK', 'GenericAlias', 'Mapping', 'MutableMapping', 'NGROUPS_MAX', 'O_ACCMODE', 'O_APPEND', 'O_ASYNC', 'O_CLOEXEC', 'O_CREAT', 'O_DIRECTORY', 'O_DSYNC', 'O_EVTONLY', 'O_EXCL', 'O_EXLOCK', 'O_FSYNC', 'O_NDELAY', 'O_NOCTTY', 'O_NOFOLLOW', 'O_NONBLOCK', 'O_RDONLY', 'O_RDWR', 'O_SHLOCK', 'O_SYMLINK', 'O_SYNC', 'O_TRUNC', 'O_WRONLY', 'POSIX_SPAWN_CLOSE', 'POSIX_SPAWN_DUP2', 'POSIX_SPAWN_OPEN', 'PRIO_PGRP', 'PRIO_PROCESS', 'PRIO_USER', 'P_ALL', 'P_NOWAIT', 'P_NOWAITO', 'P_PGID', 'P_PID', 'P_WAIT', 'PathLike', 'RTLD_GLOBAL', 'RTLD_LAZY', 'RTLD_LOCAL', 'RTLD_NODELETE', 'RTLD_NOLOAD', 'RTLD_NOW', 'R_OK', 'SCHED_FIFO', 'SCHED_OTHER', 'SCHED_RR', 'SEEK_CUR', 'SEEK_END', 'SEEK_SET', 'ST_NOSUID', 'ST_RDONLY', 'TMP_MAX', 'WCONTINUED', 'WCOREDUMP', 'WEXITED', 'WEXITSTATUS', 'WIFCONTINUED', 'WIFEXITED', 'WIFSIGNALED', 'WIFSTOPPED', 'WNOHANG', 'WNOWAIT', 'WSTOPPED', 'WSTOPSIG', 'WTERMSIG', 'WUNTRACED', 'W_OK', 'X_OK', '_Environ', '__all__', '__builtins__', '__cached__', '__doc__', '__file__', '__loader__', '__name__', '__package__', '__spec__', '_check_methods', '_execvpe', '_exists', '_exit', '_fspath', '_fwalk', '_get_exports_list', '_spawnvef', '_walk', '_wrap_close', 'abc', 'abort', 'access', 'altsep', 'chdir', 'chflags', 'chmod', 'chown', 'chroot', 'close', 'closerange', 'confstr', 'confstr_names', 'cpu_count', 'ctermid', 'curdir', 'defpath', 'device_encoding', 'devnull', 'dup', 'dup2', 'environ', 'environb', 'error', 'execl', 'execle', 'execlp', 'execlpe', 'execv', 'execve', 'execvp', 'execvpe', 'extsep', 'fchdir', 'fchmod', 'fchown', 'fdopen', 'fork', 'forkpty', 'fpathconf', 'fsdecode', 'fsencode', 'fspath', 'fstat', 'fstatvfs', 'fsync', 'ftruncate', 'fwalk', 'get_blocking', 'get_exec_path', 'get_inheritable', 'get_terminal_size', 'getcwd', 'getcwdb', 'getegid', 'getenv', 'getenvb', 'geteuid', 'getgid', 'getgrouplist', 'getgroups', 'getloadavg', 'getlogin', 'getpgid', 'getpgrp', 'getpid', 'getppid', 'getpriority', 'getsid', 'getuid', 'initgroups', 'isatty', 'kill', 'killpg', 'lchflags', 'lchmod', 'lchown', 'linesep', 'link', 'listdir', 'lockf', 'lseek', 'lstat', 'major', 'makedev', 'makedirs', 'minor', 'mkdir', 'mkfifo', 'mknod', 'name', 'nice', 'open', 'openpty', 'pardir', 'path', 'pathconf', 'pathconf_names', 'pathsep', 'pipe', 'popen', 'posix_spawn', 'posix_spawnp', 'pread', 'putenv', 'pwrite', 'read', 'readlink', 'readv', 'register_at_fork', 'remove', 'removedirs', 'rename', 'renames', 'replace', 'rmdir', 'scandir', 'sched_get_priority_max', 'sched_get_priority_min', 'sched_yield', 'sendfile', 'sep', 'set_blocking', 'set_inheritable', 'setegid', 'seteuid', 'setgid', 'setgroups', 'setpgid', 'setpgrp', 'setpriority', 'setregid', 'setreuid', 'setsid', 'setuid', 'spawnl', 'spawnle', 'spawnlp', 'spawnlpe', 'spawnv', 'spawnve', 'spawnvp', 'spawnvpe', 'st', 'stat', 'stat_result', 'statvfs', 'statvfs_result', 'strerror', 'supports_bytes_environ', 'supports_dir_fd', 'supports_effective_ids', 'supports_fd', 'supports_follow_symlinks', 'symlink', 'sync', 'sys', 'sysconf', 'sysconf_names', 'system', 'tcgetpgrp', 'tcsetpgrp', 'terminal_size', 'times', 'times_result', 'truncate', 'ttyname', 'umask', 'uname', 'uname_result', 'unlink', 'unsetenv', 'urandom', 'utime', 'wait', 'wait3', 'wait4', 'waitpid', 'waitstatus_to_exitcode', 'walk', 'write', 'writev']\n"
     ]
    }
   ],
   "source": [
    "#attributes and methods of this module\n",
    "print(dir(os))"
   ]
  },
  {
   "cell_type": "code",
   "execution_count": 3,
   "id": "8da3e86c",
   "metadata": {},
   "outputs": [
    {
     "data": {
      "text/plain": [
       "'/Users/luisosorio/Math578F22-Personal/Python Coding/Modules'"
      ]
     },
     "execution_count": 3,
     "metadata": {},
     "output_type": "execute_result"
    }
   ],
   "source": [
    "#get current working directory\n",
    "os.getcwd()"
   ]
  },
  {
   "cell_type": "code",
   "execution_count": 4,
   "id": "704f1ec2",
   "metadata": {},
   "outputs": [],
   "source": [
    "#move up a file\n",
    "os.chdir('/Users/luisosorio/Math578F22-Personal')"
   ]
  },
  {
   "cell_type": "code",
   "execution_count": 5,
   "id": "a41c843b",
   "metadata": {},
   "outputs": [
    {
     "data": {
      "text/plain": [
       "'/Users/luisosorio/Math578F22-Personal'"
      ]
     },
     "execution_count": 5,
     "metadata": {},
     "output_type": "execute_result"
    }
   ],
   "source": [
    "os.getcwd()"
   ]
  },
  {
   "cell_type": "code",
   "execution_count": 6,
   "id": "f653ae58",
   "metadata": {},
   "outputs": [
    {
     "name": "stdout",
     "output_type": "stream",
     "text": [
      "['Kiaser Project', 'Math578 Project ', 'Machine Learning-Notes', '.DS_Store', 'Projects', 'lottery.ipynb', 'Applied AI', 'Time Series Projects', '.ipynb_checkpoints', 'Evil Geniuses', 'Python Coding', '.git', 'Machine Learning Projects', 'My Assignments', 'Real Estate']\n"
     ]
    }
   ],
   "source": [
    "#see the files and folders of the current directory\n",
    "print(os.listdir())"
   ]
  },
  {
   "cell_type": "code",
   "execution_count": 7,
   "id": "45e0da6c",
   "metadata": {},
   "outputs": [
    {
     "name": "stdout",
     "output_type": "stream",
     "text": [
      "['Kiaser Project', 'Math578 Project ', 'Machine Learning-Notes', '.DS_Store', 'Projects', 'lottery.ipynb', 'Applied AI', 'Time Series Projects', '.ipynb_checkpoints', 'Evil Geniuses', 'Python Coding', '.git', 'OS_DEMO', 'Machine Learning Projects', 'My Assignments', 'Real Estate']\n"
     ]
    }
   ],
   "source": [
    "#how to create a folder on the current directory\n",
    "\n",
    "os.mkdir('OS_DEMO') #create single folder\n",
    "os.makedirs('OS_DEMO/sub-dir') #create subfolders\n",
    "\n",
    "print(os.listdir())"
   ]
  },
  {
   "cell_type": "code",
   "execution_count": 8,
   "id": "29f7bfb5",
   "metadata": {},
   "outputs": [],
   "source": [
    "#now to delete folders (remove)\n",
    "#os.rmdir('OS_DEMO') #remove single folder\n",
    "\n",
    "os.removedirs('OS_DEMO/sub-dir') #remove folder and subfolder "
   ]
  },
  {
   "cell_type": "code",
   "execution_count": 9,
   "id": "ff92529d",
   "metadata": {},
   "outputs": [
    {
     "name": "stdout",
     "output_type": "stream",
     "text": [
      "['Kiaser Project', 'Math578 Project ', 'Machine Learning-Notes', '.DS_Store', 'Projects', 'lottery.ipynb', 'Applied AI', 'Time Series Projects', '.ipynb_checkpoints', 'Evil Geniuses', 'Python Coding', '.git', 'Machine Learning Projects', 'My Assignments', 'Real Estate']\n"
     ]
    }
   ],
   "source": [
    "print(os.listdir())"
   ]
  },
  {
   "cell_type": "code",
   "execution_count": 10,
   "id": "76e88f34",
   "metadata": {},
   "outputs": [],
   "source": [
    "#Now to rename file or folder\n",
    "\n",
    "#os.rename(old file name,new file name)"
   ]
  },
  {
   "cell_type": "code",
   "execution_count": 11,
   "id": "e5768387",
   "metadata": {},
   "outputs": [],
   "source": [
    "os.mkdir('Demo.txt')"
   ]
  },
  {
   "cell_type": "code",
   "execution_count": 12,
   "id": "c9f006fe",
   "metadata": {},
   "outputs": [
    {
     "name": "stdout",
     "output_type": "stream",
     "text": [
      "os.stat_result(st_mode=16877, st_ino=8646951489, st_dev=16777220, st_nlink=2, st_uid=501, st_gid=20, st_size=64, st_atime=1687131159, st_mtime=1687131159, st_ctime=1687131159)\n"
     ]
    }
   ],
   "source": [
    "#To get information on file\n",
    "print(os.stat('Demo.txt'))"
   ]
  },
  {
   "cell_type": "code",
   "execution_count": 13,
   "id": "8ba71cc6",
   "metadata": {},
   "outputs": [
    {
     "name": "stdout",
     "output_type": "stream",
     "text": [
      "64\n"
     ]
    }
   ],
   "source": [
    "print(os.stat('Demo.txt').st_size)\n",
    "#64 bytes"
   ]
  },
  {
   "cell_type": "code",
   "execution_count": 14,
   "id": "25fde8eb",
   "metadata": {},
   "outputs": [
    {
     "name": "stdout",
     "output_type": "stream",
     "text": [
      "1687131159.7474196\n"
     ]
    }
   ],
   "source": [
    "print(os.stat('Demo.txt').st_mtime)\n",
    "#timestamp"
   ]
  },
  {
   "cell_type": "code",
   "execution_count": 15,
   "id": "4c59aa44",
   "metadata": {},
   "outputs": [
    {
     "name": "stdout",
     "output_type": "stream",
     "text": [
      "2023-06-18 16:32:39.747420\n"
     ]
    }
   ],
   "source": [
    "mod_time = os.stat('Demo.txt').st_mtime\n",
    "print(datetime.fromtimestamp(mod_time))\n",
    "#readable timestamp"
   ]
  },
  {
   "cell_type": "code",
   "execution_count": 16,
   "id": "83e0cdc3",
   "metadata": {},
   "outputs": [
    {
     "name": "stdout",
     "output_type": "stream",
     "text": [
      "Current Path: /Users/luisosorio/Math578F22-Personal\n",
      "Directories: ['Kiaser Project', 'Math578 Project ', 'Machine Learning-Notes', 'Demo.txt', 'Projects', 'Applied AI', 'Time Series Projects', '.ipynb_checkpoints', 'Evil Geniuses', 'Python Coding', '.git', 'Machine Learning Projects', 'My Assignments', 'Real Estate']\n",
      "Files: ['.DS_Store', 'lottery.ipynb']\n",
      "\n",
      "Current Path: /Users/luisosorio/Math578F22-Personal/Kiaser Project\n",
      "Directories: ['.ipynb_checkpoints']\n",
      "Files: ['FEHBP KP Membership.xlsx', '.DS_Store', 'FEHBP KP Rates.xlsx', 'rates.xlsx', 'Memb_History.xlsx', 'Kaiser.ipynb']\n",
      "\n",
      "Current Path: /Users/luisosorio/Math578F22-Personal/Kiaser Project/.ipynb_checkpoints\n",
      "Directories: []\n",
      "Files: ['Kaiser-checkpoint.ipynb']\n",
      "\n",
      "Current Path: /Users/luisosorio/Math578F22-Personal/Math578 Project \n",
      "Directories: ['.ipynb_checkpoints']\n",
      "Files: ['Project_Heart_Data_v6-2.ipynb', 'Mushrooms_Classification_Poisonous_or_Edible_VF.ipynb', 'heart.csv', 'Mushrooms_Classification_Poisonous_or_Edible_vF-2.ipynb', 'giniRF_Heart.pdf', 'o2Saturation.csv', 'entropyRF_Heart.pdf', 'mushrooms.csv']\n",
      "\n",
      "Current Path: /Users/luisosorio/Math578F22-Personal/Math578 Project /.ipynb_checkpoints\n",
      "Directories: []\n",
      "Files: ['Project_Heart_Data_v6-2-checkpoint.ipynb', 'Mushrooms_Classification_Poisonous_or_Edible_vF-2-checkpoint.ipynb', 'Mushrooms_Classification_Poisonous_or_Edible_VF-checkpoint.ipynb']\n",
      "\n",
      "Current Path: /Users/luisosorio/Math578F22-Personal/Machine Learning-Notes\n",
      "Directories: ['training_checkpoints', '.ipynb_checkpoints']\n",
      "Files: ['image_at_epoch_0032.png', 'image_at_epoch_0026.png', 'Logistic Regression 1.ipynb', 'Support Vector Machine.ipynb', 'image_at_epoch_0027.png', 'Recurrent Neural Networks.ipynb', 'image_at_epoch_0033.png', 'image_at_epoch_0025.png', 'image_at_epoch_0031.png', 'image_at_epoch_0019.png', 'yelp_labeled.txt', 'Recursive Feature Elimination (RFE).ipynb', 'image_at_epoch_0018.png', 'image_at_epoch_0030.png', 'image_at_epoch_0024.png', 'image_at_epoch_0008.png', 'Convolutional Neural Network.ipynb', 'image_at_epoch_0020.png', 'image_at_epoch_0034.png', 'image_at_epoch_0035.png', 'image_at_epoch_0021.png', 'image_at_epoch_0009.png', 'image_at_epoch_0037.png', 'image_at_epoch_0023.png', 'Decision Trees.ipynb', 'Factor Analysis.ipynb', 'shampoo.csv', 'image_at_epoch_0022.png', 'image_at_epoch_0036.png', 'image_at_epoch_0051.png', 'image_at_epoch_0045.png', 'image_at_epoch_0079.png', 'FP Growth.ipynb', 'image_at_epoch_0092.png', 'image_at_epoch_0086.png', 'DBScan.ipynb', 'daily-min-temperatures.csv', 'Hierarchal Clustering.ipynb', 'Reinforcement Learning.ipynb', 'Generative Adversarial Networks.ipynb', 'K-Nearest Neighbors.ipynb', 'cancer.csv', 'image_at_epoch_0087.png', 'image_at_epoch_0093.png', 'image_at_epoch_0078.png', 'image_at_epoch_0044.png', 'image_at_epoch_0050.png', 'image_at_epoch_0046.png', 'image_at_epoch_0052.png', 'Neural Network.ipynb', 'image_at_epoch_0085.png', 'image_at_epoch_0091.png', 'Text Preprocessing.ipynb', 'Word2Vec.ipynb', 'image_at_epoch_0090.png', 'image_at_epoch_0084.png', 'Linear Regression.ipynb', 'image_at_epoch_0053.png', 'image_at_epoch_0047.png', 'image_at_epoch_0043.png', 'image_at_epoch_0057.png', 'image_at_epoch_0080.png', 'image_at_epoch_0094.png', 'decistion_tree_gini.png', 'image_at_epoch_0095.png', 'image_at_epoch_0081.png', 'image_at_epoch_0056.png', 'image_at_epoch_0042.png', 'image_at_epoch_0068.png', 'image_at_epoch_0054.png', 'image_at_epoch_0040.png', 'image_at_epoch_0097.png', 'image_at_epoch_0083.png', 'Sentiment Analysis.ipynb', 'image_at_epoch_0082.png', 'image_at_epoch_0096.png', 'image_at_epoch_0041.png', 'image_at_epoch_0055.png', 'image_at_epoch_0069.png', 'image_at_epoch_0070.png', 'image_at_epoch_0064.png', 'image_at_epoch_0058.png', 'Regularization - C value.ipynb', 'Arima Model.ipynb', 'AutoRegression(AR).ipynb', 'image_at_epoch_0059.png', 'image_at_epoch_0065.png', 'image_at_epoch_0071.png', 'image_at_epoch_0067.png', 'image_at_epoch_0073.png', 'image_at_epoch_0098.png', 'ROC.png', 'image_at_epoch_0099.png', 'image_at_epoch_0072.png', 'image_at_epoch_0066.png', 'image_at_epoch_0062.png', 'image_at_epoch_0076.png', 'heights.csv', 'image_at_epoch_0089.png', 'bfi.csv', \"Naive Baye's.ipynb\", 'tree.png', 'image_at_epoch_0088.png', 'cancer_full.csv', 'image_at_epoch_0077.png', 'Boosting.ipynb', 'image_at_epoch_0063.png', 'Douglass Article 2.txt', 'image_at_epoch_0049.png', 'image_at_epoch_0075.png', 'image_at_epoch_0061.png', 'image_at_epoch_0100.png', 'Topic Modeling.ipynb', 'image_at_epoch_0060.png', 'image_at_epoch_0074.png', 'Douglass Article 1.txt', 'image_at_epoch_0048.png', 'image_at_epoch_0013.png', 'image_at_epoch_0007.png', 'PCA.ipynb', 'Text Summarization.ipynb', 'image_at_epoch_0006.png', 'image_at_epoch_0012.png', 'image_at_epoch_0004.png', 'image_at_epoch_0010.png', 'image_at_epoch_0038.png', 'Regularization - L1 and L2 Penalty.ipynb', 'Word Cloud Generator.ipynb', 'segmentation data.csv', 'Apriori Algorithm.ipynb', 'image_at_epoch_0039.png', 'image_at_epoch_0011.png', 'image_at_epoch_0005.png', 'Feature Selection.ipynb', 'image_at_epoch_0029.png', 'image_at_epoch_0001.png', 'image_at_epoch_0015.png', 'decistion_tree_entropy.png', 'image_at_epoch_0014.png', 'image_at_epoch_0028.png', 'image_at_epoch_0016.png', 'image_at_epoch_0002.png', 'Recommendation System.ipynb', 'Logistic Regression - Note 2.ipynb', 'Clustering.ipynb', 'image_at_epoch_0003.png', 'image_at_epoch_0017.png']\n",
      "\n",
      "Current Path: /Users/luisosorio/Math578F22-Personal/Machine Learning-Notes/training_checkpoints\n",
      "Directories: []\n",
      "Files: ['ckpt-4.data-00000-of-00001', 'ckpt-5.data-00000-of-00001', 'ckpt-6.data-00000-of-00001', 'checkpoint', 'ckpt-1.data-00000-of-00001', 'ckpt-3.data-00000-of-00001', 'ckpt-2.data-00000-of-00001', 'ckpt-2.index', 'ckpt-4.index', 'ckpt-6.index', 'ckpt-1.index', 'ckpt-3.index', 'ckpt-5.index']\n",
      "\n",
      "Current Path: /Users/luisosorio/Math578F22-Personal/Machine Learning-Notes/.ipynb_checkpoints\n",
      "Directories: []\n",
      "Files: ['Arima Model-checkpoint.ipynb', 'Word Cloud Generator-checkpoint.ipynb', 'Logistic Regression 1-checkpoint.ipynb', 'Reinforcement Learning-checkpoint.ipynb', 'Regularization - C value-checkpoint.ipynb', 'Factor Analysis-checkpoint.ipynb', 'decistion_tree_entropy-checkpoint.png', 'Neural Network-checkpoint.ipynb', 'FP Growth-checkpoint.ipynb', 'Recurrent Neural Networks-checkpoint.ipynb', 'Boosting-checkpoint.ipynb', 'Clustering-checkpoint.ipynb', 'PCA-checkpoint.ipynb', 'K-Nearest Neighbors-checkpoint.ipynb', 'Apriori Algorithm-checkpoint.ipynb', 'Generative Adversarial Networks-checkpoint.ipynb', 'Feature Selection-checkpoint.ipynb', 'AutoRegression(AR)-checkpoint.ipynb', 'Recursive Feature Elimination (RFE)-checkpoint.ipynb', 'Text Preprocessing-checkpoint.ipynb', 'Hierarchal Clustering-checkpoint.ipynb', 'Linear Regression-checkpoint.ipynb', 'Sentiment Analysis-checkpoint.ipynb', 'Decision Trees-checkpoint.ipynb', 'DBScan-checkpoint.ipynb', 'Text Summarization-checkpoint.ipynb', 'Support Vector Machine-checkpoint.ipynb', 'Logistic Regression - Note 2-checkpoint.ipynb', 'image_at_epoch_0006-checkpoint.png', 'Recommendation System-checkpoint.ipynb', 'Regularization - L1 and L2 Penalty-checkpoint.ipynb', 'Word2Vec-checkpoint.ipynb', \"Naive Baye's-checkpoint.ipynb\", 'Topic Modeling-checkpoint.ipynb', 'Convolutional Neural Network-checkpoint.ipynb']\n",
      "\n",
      "Current Path: /Users/luisosorio/Math578F22-Personal/Demo.txt\n",
      "Directories: []\n",
      "Files: []\n",
      "\n",
      "Current Path: /Users/luisosorio/Math578F22-Personal/Projects\n",
      "Directories: ['.ipynb_checkpoints']\n",
      "Files: ['First Deep Learning project.ipynb', 'Loan-Approval.ipynb', 'loan.csv', 'Mall_Customers.csv', '.DS_Store', 'What are tensors?.ipynb', 'DJ_Data.ipynb', 'GridSearch_results.csv', 'Grid Search.ipynb', 'concrete_data.csv', 'Mall Customer Segmentation - Clustering.ipynb', 'Natural Language Processing (NLP).ipynb', 'Customer Personality Analysis_VF.ipynb', 'iris.csv', 'books.csv', 'Summary Text.ipynb', 'Titanic.csv', 'Book Reccomendation.ipynb', 'Penguins (Clustering).ipynb', 'marketcampaign_cl.csv', 'Titanic.ipynb', 'marketing_campaign.csv', 'music_genre_classification.csv']\n",
      "\n",
      "Current Path: /Users/luisosorio/Math578F22-Personal/Projects/.ipynb_checkpoints\n",
      "Directories: []\n",
      "Files: ['First Deep Learning project-checkpoint.ipynb', 'What are tensors?-checkpoint.ipynb', 'marketing_campaign-checkpoint.csv', 'Grid Search-checkpoint.ipynb', 'DJ_Data-checkpoint.ipynb', 'Mall Customer Segmentation - Clustering-checkpoint.ipynb', 'Penguins (Clustering)-checkpoint.ipynb', 'Titanic-checkpoint.csv', 'GridSearch_results-checkpoint.csv', 'Natural Language Processing (NLP)-checkpoint.ipynb', 'Summary Text-checkpoint.ipynb', 'Titanic-checkpoint.ipynb', 'Customer Personality Analysis_VF-checkpoint.ipynb', 'Loan-Approval-checkpoint.ipynb', 'Book Reccomendation-checkpoint.ipynb', 'marketcampaign_cl-checkpoint.csv']\n",
      "\n",
      "Current Path: /Users/luisosorio/Math578F22-Personal/Applied AI\n",
      "Directories: []\n",
      "Files: ['3_3-machinelearning.ipynb', 'Import the data.ipynb', '3_4-machinelearning.ipynb', 'PythonCheatSheet.ipynb', '3_2-machinelearning.ipynb', 'imports-85.csv']\n",
      "\n",
      "Current Path: /Users/luisosorio/Math578F22-Personal/Time Series Projects\n",
      "Directories: ['.ipynb_checkpoints']\n",
      "Files: ['.Rhistory', 'model.json', '.DS_Store', 'Prophet.ipynb', 'Stat450_Homework_3_pic.pdf', '01-Linear_Regression_with_Python.ipynb', 'Gasoline.xlsx', 'Walmart.csv', 'FACTOR_ANALYSIS.pdf', 'Energy Consumption Hourly Forecast.ipynb', 'PJME_hourly.csv', '.RData', 'Energy Consumption - Time Series Advanced.ipynb', 'Walmart Sales Predicition.ipynb', 'Gasoline Price Forecast.ipynb', 'AEP_hourly.csv', 'Gasoline.csv']\n",
      "\n",
      "Current Path: /Users/luisosorio/Math578F22-Personal/Time Series Projects/.ipynb_checkpoints\n",
      "Directories: []\n",
      "Files: ['Walmart Sales Predicition-checkpoint.ipynb', 'Gasoline-checkpoint.csv', '01-Linear_Regression_with_Python-checkpoint.ipynb', 'Gasoline Price Forecast-checkpoint.ipynb', 'Energy Consumption - Time Series Advanced-checkpoint.ipynb', 'Energy Consumption Hourly Forecast-checkpoint.ipynb', 'Prophet-checkpoint.ipynb']\n",
      "\n",
      "Current Path: /Users/luisosorio/Math578F22-Personal/.ipynb_checkpoints\n",
      "Directories: []\n",
      "Files: ['lottery-checkpoint.ipynb', 'Anaiss_Servin_Titanic_Machine_Learning_Final_Project-checkpoint.ipynb']\n",
      "\n",
      "Current Path: /Users/luisosorio/Math578F22-Personal/Evil Geniuses\n",
      "Directories: ['.ipynb_checkpoints']\n",
      "Files: ['Starcraft Players.ipynb', 'starcraft_player_data.csv']\n",
      "\n",
      "Current Path: /Users/luisosorio/Math578F22-Personal/Evil Geniuses/.ipynb_checkpoints\n",
      "Directories: []\n",
      "Files: ['Starcraft Players-checkpoint.ipynb']\n",
      "\n",
      "Current Path: /Users/luisosorio/Math578F22-Personal/Python Coding\n",
      "Directories: ['Seaborn', 'BeautifulSoup (web scraping)', 'Python Interview Questions', 'PANDAS LIBRARY', 'Object Oriented Programing (OOP)', '.ipynb_checkpoints', 'Modules', 'Statsmodels', 'Matplottlib (.pyplot)']\n",
      "Files: []\n",
      "\n",
      "Current Path: /Users/luisosorio/Math578F22-Personal/Python Coding/Seaborn\n",
      "Directories: ['.ipynb_checkpoints']\n",
      "Files: ['Seaborn Tutorial.ipynb', 'ComputerSales.csv']\n",
      "\n",
      "Current Path: /Users/luisosorio/Math578F22-Personal/Python Coding/Seaborn/.ipynb_checkpoints\n",
      "Directories: []\n",
      "Files: ['Seaborn Tutorial-checkpoint.ipynb']\n",
      "\n",
      "Current Path: /Users/luisosorio/Math578F22-Personal/Python Coding/BeautifulSoup (web scraping)\n",
      "Directories: ['posts', '.ipynb_checkpoints']\n",
      "Files: ['Scraping A Html File.ipynb', 'home.html', 'home.txt', 'scraping A Website.ipynb']\n",
      "\n",
      "Current Path: /Users/luisosorio/Math578F22-Personal/Python Coding/BeautifulSoup (web scraping)/posts\n",
      "Directories: ['.ipynb_checkpoints']\n",
      "Files: ['15.txt', '14.txt', '13.txt', '12.txt', '10.txt', '11.txt', '8.txt', '5.txt', '2.txt', '0.txt', '20.txt', '21.txt', '22.txt', '19.txt', '18.txt', '24.txt']\n",
      "\n",
      "Current Path: /Users/luisosorio/Math578F22-Personal/Python Coding/BeautifulSoup (web scraping)/posts/.ipynb_checkpoints\n",
      "Directories: []\n",
      "Files: ['24-checkpoint.txt']\n",
      "\n",
      "Current Path: /Users/luisosorio/Math578F22-Personal/Python Coding/BeautifulSoup (web scraping)/.ipynb_checkpoints\n",
      "Directories: []\n",
      "Files: ['scraping A Website-checkpoint.ipynb', 'home-checkpoint.html', 'home-checkpoint.txt', 'Scraping A Html File-checkpoint.ipynb']\n",
      "\n",
      "Current Path: /Users/luisosorio/Math578F22-Personal/Python Coding/Python Interview Questions\n",
      "Directories: ['.ipynb_checkpoints']\n",
      "Files: ['Data_Wrangling_Hotel_Project.ipynb', 'Python Interview Questions 2.ipynb', 'Python Interview Questions 3.ipynb', 'Python Interview Questions 1.ipynb']\n",
      "\n",
      "Current Path: /Users/luisosorio/Math578F22-Personal/Python Coding/Python Interview Questions/.ipynb_checkpoints\n",
      "Directories: []\n",
      "Files: ['Python Interview Questions 2-checkpoint.ipynb', 'Data_Wrangling_Hotel_Project-checkpoint.ipynb', 'Python Interview Questions 3-checkpoint.ipynb', 'Python Interview Questions 1-checkpoint.ipynb']\n",
      "\n",
      "Current Path: /Users/luisosorio/Math578F22-Personal/Python Coding/PANDAS LIBRARY\n",
      "Directories: ['.ipynb_checkpoints']\n",
      "Files: ['Stars.csv', 'CLEANING DATA for EMPTY CELLS AND WRONG FORMAT.ipynb', 'mess around with stars data.ipynb', 'data.csv', 'PANDAS CORR AND PLOTTING.ipynb', 'PANDAS INTRODUCTION.ipynb']\n",
      "\n",
      "Current Path: /Users/luisosorio/Math578F22-Personal/Python Coding/PANDAS LIBRARY/.ipynb_checkpoints\n",
      "Directories: []\n",
      "Files: ['CLEANING DATA for EMPTY CELLS AND WRONG FORMAT-checkpoint.ipynb', 'PANDAS INTRODUCTION-checkpoint.ipynb', 'PANDAS CORR AND PLOTTING-checkpoint.ipynb', 'mess around with stars data-checkpoint.ipynb']\n",
      "\n",
      "Current Path: /Users/luisosorio/Math578F22-Personal/Python Coding/Object Oriented Programing (OOP)\n",
      "Directories: ['.ipynb_checkpoints']\n",
      "Files: ['Phone.ipynb', 'items.txt', 'Static & Class Method.ipynb', 'Classes (constructors and __init__).ipynb', 'Item.ipynb', 'Inheritance.ipynb', 'Setters & Getters.ipynb', 'items.csv', 'OOP Principles.ipynb']\n",
      "\n",
      "Current Path: /Users/luisosorio/Math578F22-Personal/Python Coding/Object Oriented Programing (OOP)/.ipynb_checkpoints\n",
      "Directories: []\n",
      "Files: ['items-checkpoint.txt', 'Inheritance-checkpoint.ipynb', 'Classes (constructors and __init__)-checkpoint.ipynb', 'Phone-checkpoint.ipynb', 'Static & Class Method-checkpoint.ipynb', 'items-checkpoint.csv', 'Setters & Getters-checkpoint.ipynb', 'Item-checkpoint.ipynb', 'OOP Principles-checkpoint.ipynb']\n",
      "\n",
      "Current Path: /Users/luisosorio/Math578F22-Personal/Python Coding/.ipynb_checkpoints\n",
      "Directories: []\n",
      "Files: []\n",
      "\n",
      "Current Path: /Users/luisosorio/Math578F22-Personal/Python Coding/Modules\n",
      "Directories: ['.ipynb_checkpoints']\n",
      "Files: ['Operating System Module.ipynb', 'Download Folder Code.ipynb']\n",
      "\n",
      "Current Path: /Users/luisosorio/Math578F22-Personal/Python Coding/Modules/.ipynb_checkpoints\n",
      "Directories: []\n",
      "Files: ['Download Folder Code-checkpoint.ipynb', 'Operating System Module-checkpoint.ipynb']\n",
      "\n",
      "Current Path: /Users/luisosorio/Math578F22-Personal/Python Coding/Statsmodels\n",
      "Directories: ['.ipynb_checkpoints']\n",
      "Files: ['Introduction to Statsmodels.ipynb', 'Fitting Models Using R-Style Formulas.ipynb', 'Getting Started with Statsmodels.ipynb']\n",
      "\n",
      "Current Path: /Users/luisosorio/Math578F22-Personal/Python Coding/Statsmodels/.ipynb_checkpoints\n",
      "Directories: []\n",
      "Files: ['Introduction to Statsmodels-checkpoint.ipynb', 'Getting Started with Statsmodels-checkpoint.ipynb', 'Fitting Models Using R-Style Formulas-checkpoint.ipynb']\n",
      "\n",
      "Current Path: /Users/luisosorio/Math578F22-Personal/Python Coding/Matplottlib (.pyplot)\n",
      "Directories: ['.ipynb_checkpoints']\n",
      "Files: ['gas_prices.csv', 'MATPLOTLIB.PYPLOT Tutorial.ipynb', 'gas_price_figure.png', 'mygraph.png', 'fifa_data.csv']\n",
      "\n",
      "Current Path: /Users/luisosorio/Math578F22-Personal/Python Coding/Matplottlib (.pyplot)/.ipynb_checkpoints\n",
      "Directories: []\n",
      "Files: ['MATPLOTLIB.PYPLOT Tutorial-checkpoint.ipynb']\n",
      "\n",
      "Current Path: /Users/luisosorio/Math578F22-Personal/.git\n",
      "Directories: ['objects', 'info', 'logs', 'hooks', 'refs']\n",
      "Files: ['config', 'HEAD', 'description', 'index', 'packed-refs']\n",
      "\n",
      "Current Path: /Users/luisosorio/Math578F22-Personal/.git/objects\n",
      "Directories: ['pack', 'info']\n",
      "Files: []\n",
      "\n",
      "Current Path: /Users/luisosorio/Math578F22-Personal/.git/objects/pack\n",
      "Directories: []\n",
      "Files: ['pack-62a1d1d1667d7c2c9fdb6821fa400ff1bccbec5d.pack', 'pack-62a1d1d1667d7c2c9fdb6821fa400ff1bccbec5d.idx']\n",
      "\n",
      "Current Path: /Users/luisosorio/Math578F22-Personal/.git/objects/info\n",
      "Directories: []\n",
      "Files: []\n",
      "\n",
      "Current Path: /Users/luisosorio/Math578F22-Personal/.git/info\n",
      "Directories: []\n",
      "Files: ['exclude']\n",
      "\n",
      "Current Path: /Users/luisosorio/Math578F22-Personal/.git/logs\n",
      "Directories: ['refs']\n",
      "Files: ['HEAD']\n",
      "\n",
      "Current Path: /Users/luisosorio/Math578F22-Personal/.git/logs/refs\n",
      "Directories: ['heads', 'remotes']\n",
      "Files: []\n",
      "\n",
      "Current Path: /Users/luisosorio/Math578F22-Personal/.git/logs/refs/heads\n",
      "Directories: []\n",
      "Files: ['main']\n",
      "\n",
      "Current Path: /Users/luisosorio/Math578F22-Personal/.git/logs/refs/remotes\n",
      "Directories: ['origin']\n",
      "Files: []\n",
      "\n",
      "Current Path: /Users/luisosorio/Math578F22-Personal/.git/logs/refs/remotes/origin\n",
      "Directories: []\n",
      "Files: ['HEAD']\n",
      "\n",
      "Current Path: /Users/luisosorio/Math578F22-Personal/.git/hooks\n",
      "Directories: []\n",
      "Files: ['commit-msg.sample', 'pre-rebase.sample', 'pre-commit.sample', 'applypatch-msg.sample', 'fsmonitor-watchman.sample', 'pre-receive.sample', 'prepare-commit-msg.sample', 'post-update.sample', 'pre-merge-commit.sample', 'pre-applypatch.sample', 'pre-push.sample', 'update.sample', 'push-to-checkout.sample']\n",
      "\n",
      "Current Path: /Users/luisosorio/Math578F22-Personal/.git/refs\n",
      "Directories: ['heads', 'tags', 'remotes']\n",
      "Files: []\n",
      "\n",
      "Current Path: /Users/luisosorio/Math578F22-Personal/.git/refs/heads\n",
      "Directories: []\n",
      "Files: ['main']\n",
      "\n",
      "Current Path: /Users/luisosorio/Math578F22-Personal/.git/refs/tags\n",
      "Directories: []\n",
      "Files: []\n",
      "\n",
      "Current Path: /Users/luisosorio/Math578F22-Personal/.git/refs/remotes\n",
      "Directories: ['origin']\n",
      "Files: []\n",
      "\n",
      "Current Path: /Users/luisosorio/Math578F22-Personal/.git/refs/remotes/origin\n",
      "Directories: []\n",
      "Files: ['HEAD']\n",
      "\n",
      "Current Path: /Users/luisosorio/Math578F22-Personal/Machine Learning Projects\n",
      "Directories: ['.ipynb_checkpoints']\n",
      "Files: ['parkinsons.data', 'credits.csv', 'Heart Attack Prediction.ipynb', 'mbti_1.csv', 'amazon.csv', 'Fake.csv', 'ForumMessages.csv', 'Untitled.ipynb', 'Movie Recommendation System.ipynb', 'Credit Card Fraud.ipynb', 'Users.csv', 'heart.csv', 'Gold Price (Forecasting).ipynb', 'gold_monthly_csv.csv', 'P_disease.csv', 'Image Classification (CNN).ipynb', 'Text to Speech.ipynb', 'Personality Predictor.ipynb', 'o2Saturation.csv', 'Mushroom Classification (Edible or Poisonous).ipynb', 'card_transdata.csv', 'movies.csv', 'Amazon Review Sentiment.ipynb', 'True.csv', 'Fake News Predictor.ipynb', 'mushrooms.csv', \"Parkinson's Disease Predictor.ipynb\"]\n",
      "\n",
      "Current Path: /Users/luisosorio/Math578F22-Personal/Machine Learning Projects/.ipynb_checkpoints\n",
      "Directories: []\n",
      "Files: ['Heart Attack Prediction-checkpoint.ipynb', 'Text to Speech-checkpoint.ipynb', 'Credit Card Fraud-checkpoint.ipynb', 'Image Classification (CNN)-checkpoint.ipynb', 'Gold Price (Forecasting)-checkpoint.ipynb', 'Fake News Predictor-checkpoint.ipynb', \"Parkinson's Disease Predictor-checkpoint.ipynb\", 'Amazon Review Sentiment-checkpoint.ipynb', 'Mushroom Classification (Edible or Poisonous)-checkpoint.ipynb', 'Untitled-checkpoint.ipynb', 'Personality Predictor-checkpoint.ipynb', 'Movie Recommendation System-checkpoint.ipynb']\n",
      "\n",
      "Current Path: /Users/luisosorio/Math578F22-Personal/My Assignments\n",
      "Directories: ['.ipynb_checkpoints']\n",
      "Files: ['Assignment06_Luis_Osorio.ipynb', 'Assignment03_Luis_Osorio.ipynb', '.DS_Store', 'Assignment02_Luis_Osorio.ipynb', 'Assignment04_Luis_Osorio.ipynb', 'Assignment01_Luis_Osorio.ipynb', 'Assignment05_Luis_Osorio.ipynb']\n",
      "\n",
      "Current Path: /Users/luisosorio/Math578F22-Personal/My Assignments/.ipynb_checkpoints\n",
      "Directories: []\n",
      "Files: ['Assignment04_Luis_Osorio-checkpoint.ipynb', 'Assignment02_Luis_Osorio-checkpoint.ipynb', 'Assignment01_Luis_Osorio-checkpoint.ipynb', 'Assignment03_Luis_Osorio-checkpoint.ipynb', 'Assignment05_Luis_Osorio-checkpoint.ipynb', 'Assignment06_Luis_Osorio-checkpoint.ipynb']\n",
      "\n",
      "Current Path: /Users/luisosorio/Math578F22-Personal/Real Estate\n",
      "Directories: ['.ipynb_checkpoints']\n",
      "Files: ['housing.csv', 'ParisHousing.csv', 'Paris Housing Price Prediction.ipynb']\n",
      "\n",
      "Current Path: /Users/luisosorio/Math578F22-Personal/Real Estate/.ipynb_checkpoints\n",
      "Directories: []\n",
      "Files: ['Paris Housing Price Prediction-checkpoint.ipynb', 'ParisHousing-checkpoint.csv']\n",
      "\n"
     ]
    }
   ],
   "source": [
    "for dirpath, dirnames, filenames in os.walk('/Users/luisosorio/Math578F22-Personal'):\n",
    "    print('Current Path:',dirpath)\n",
    "    print('Directories:',dirnames)\n",
    "    print('Files:',filenames)\n",
    "    print()"
   ]
  },
  {
   "cell_type": "code",
   "execution_count": 17,
   "id": "567215e9",
   "metadata": {},
   "outputs": [
    {
     "name": "stdout",
     "output_type": "stream",
     "text": [
      "/Users/luisosorio\n"
     ]
    }
   ],
   "source": [
    "print(os.environ.get(\"HOME\"))\n",
    "#HOME DIRECTORY"
   ]
  },
  {
   "cell_type": "code",
   "execution_count": 18,
   "id": "bd90674c",
   "metadata": {},
   "outputs": [
    {
     "name": "stdout",
     "output_type": "stream",
     "text": [
      "/Users/luisosoriotest.txt\n"
     ]
    }
   ],
   "source": [
    "#'test.xt'\n",
    "#create a file for the file above\n",
    "file_path = os.environ.get(\"HOME\") + 'test.txt'\n",
    "print(file_path)\n",
    "#missing a dash! could do '/test.txt'"
   ]
  },
  {
   "cell_type": "code",
   "execution_count": 19,
   "id": "747e50c0",
   "metadata": {},
   "outputs": [
    {
     "name": "stdout",
     "output_type": "stream",
     "text": [
      "/Users/luisosorio/test.txt\n"
     ]
    }
   ],
   "source": [
    "#better way\n",
    "file_path = os.path.join(os.environ.get(\"HOME\"),'test.txt')\n",
    "print(file_path)"
   ]
  },
  {
   "cell_type": "code",
   "execution_count": 20,
   "id": "17a776e7",
   "metadata": {},
   "outputs": [],
   "source": [
    "#with open(file_path,'w') as f:\n",
    "#    f.wte"
   ]
  },
  {
   "cell_type": "code",
   "execution_count": 21,
   "id": "deab30a6",
   "metadata": {},
   "outputs": [
    {
     "name": "stdout",
     "output_type": "stream",
     "text": [
      "test1.txt\n",
      "/Users/luisosorio/Math578F22-Personal\n"
     ]
    }
   ],
   "source": [
    "print(os.path.basename(\"/Users/luisosorio/Math578F22-Personal/test1.txt\")) #note that folder name test1.txt does not exist \n",
    "print(os.path.dirname(\"/Users/luisosorio/Math578F22-Personal/test1.txt\"))"
   ]
  },
  {
   "cell_type": "code",
   "execution_count": 22,
   "id": "60a0c29f",
   "metadata": {},
   "outputs": [
    {
     "name": "stdout",
     "output_type": "stream",
     "text": [
      "('/Users/luisosorio/Math578F22-Personal', 'test1.txt')\n"
     ]
    }
   ],
   "source": [
    "#to get both at the same time\n",
    "print(os.path.split(\"/Users/luisosorio/Math578F22-Personal/test1.txt\"))\n",
    "#dir name first and basename second"
   ]
  },
  {
   "cell_type": "code",
   "execution_count": 23,
   "id": "72b0f77b",
   "metadata": {},
   "outputs": [
    {
     "name": "stdout",
     "output_type": "stream",
     "text": [
      "False\n"
     ]
    }
   ],
   "source": [
    "#check if a path exist like the one before \n",
    "print(os.path.exists('/Users/luisosorio/Math578F22-Personal/test1.txt'))\n",
    "#False means it does not exist"
   ]
  },
  {
   "cell_type": "code",
   "execution_count": 24,
   "id": "89d9c6da",
   "metadata": {},
   "outputs": [
    {
     "name": "stdout",
     "output_type": "stream",
     "text": [
      "False\n"
     ]
    }
   ],
   "source": [
    "#to check if its a directory\n",
    "print(os.path.isdir('/Users/luisosorio/Math578F22-Personal/test1.txt'))"
   ]
  },
  {
   "cell_type": "code",
   "execution_count": 25,
   "id": "9647c89f",
   "metadata": {},
   "outputs": [
    {
     "name": "stdout",
     "output_type": "stream",
     "text": [
      "False\n"
     ]
    }
   ],
   "source": [
    "#to check files\n",
    "print(os.path.isfile('/Users/luisosorio/Math578F22-Personal/test1.txt'))"
   ]
  },
  {
   "cell_type": "code",
   "execution_count": 26,
   "id": "02102f97",
   "metadata": {},
   "outputs": [
    {
     "name": "stdout",
     "output_type": "stream",
     "text": [
      "('/Users/luisosorio/Math578F22-Personal/test1', '.txt')\n"
     ]
    }
   ],
   "source": [
    "print(os.path.splitext('/Users/luisosorio/Math578F22-Personal/test1.txt'))\n",
    "#split extension"
   ]
  },
  {
   "cell_type": "code",
   "execution_count": 27,
   "id": "d92f5674",
   "metadata": {},
   "outputs": [
    {
     "name": "stdout",
     "output_type": "stream",
     "text": [
      "['__all__', '__builtins__', '__cached__', '__doc__', '__file__', '__loader__', '__name__', '__package__', '__spec__', '_get_sep', '_joinrealpath', '_varprog', '_varprogb', 'abspath', 'altsep', 'basename', 'commonpath', 'commonprefix', 'curdir', 'defpath', 'devnull', 'dirname', 'exists', 'expanduser', 'expandvars', 'extsep', 'genericpath', 'getatime', 'getctime', 'getmtime', 'getsize', 'isabs', 'isdir', 'isfile', 'islink', 'ismount', 'join', 'lexists', 'normcase', 'normpath', 'os', 'pardir', 'pathsep', 'realpath', 'relpath', 'samefile', 'sameopenfile', 'samestat', 'sep', 'split', 'splitdrive', 'splitext', 'stat', 'supports_unicode_filenames', 'sys']\n"
     ]
    }
   ],
   "source": [
    "print(dir(os.path))"
   ]
  },
  {
   "cell_type": "code",
   "execution_count": null,
   "id": "8d9f9690",
   "metadata": {},
   "outputs": [],
   "source": []
  }
 ],
 "metadata": {
  "kernelspec": {
   "display_name": "Python 3 (ipykernel)",
   "language": "python",
   "name": "python3"
  },
  "language_info": {
   "codemirror_mode": {
    "name": "ipython",
    "version": 3
   },
   "file_extension": ".py",
   "mimetype": "text/x-python",
   "name": "python",
   "nbconvert_exporter": "python",
   "pygments_lexer": "ipython3",
   "version": "3.10.9"
  }
 },
 "nbformat": 4,
 "nbformat_minor": 5
}
