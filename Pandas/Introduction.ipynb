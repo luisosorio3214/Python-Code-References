{
 "cells": [
  {
   "cell_type": "markdown",
   "id": "93936989-4a94-4123-9258-917cbe1baaec",
   "metadata": {},
   "source": [
    "# Pandas Introduction"
   ]
  },
  {
   "cell_type": "code",
   "execution_count": 1,
   "id": "913b392c",
   "metadata": {},
   "outputs": [],
   "source": [
    "# load the lobrary\n",
    "import pandas as pd"
   ]
  },
  {
   "cell_type": "code",
   "execution_count": 2,
   "id": "607d05fc",
   "metadata": {},
   "outputs": [
    {
     "name": "stdout",
     "output_type": "stream",
     "text": [
      "1.5.3\n"
     ]
    }
   ],
   "source": [
    "# pandas version\n",
    "print(pd.__version__)"
   ]
  },
  {
   "cell_type": "markdown",
   "id": "591a4a36",
   "metadata": {},
   "source": [
    "### A Pandas Series is like a column in a table.\n",
    "\n",
    "### It is a one-dimensional array holding data of any type."
   ]
  },
  {
   "cell_type": "code",
   "execution_count": 3,
   "id": "6b989467",
   "metadata": {},
   "outputs": [
    {
     "name": "stdout",
     "output_type": "stream",
     "text": [
      "0    1\n",
      "1    7\n",
      "2    2\n",
      "dtype: int64\n"
     ]
    }
   ],
   "source": [
    "a = [1, 7, 2]\n",
    "\n",
    "myvar = pd.Series(a)\n",
    "\n",
    "print(myvar)"
   ]
  },
  {
   "cell_type": "markdown",
   "id": "318ef548",
   "metadata": {},
   "source": [
    "### If nothing else is specified, the values are labeled with their index number. First value has index 0, second value has index 1 etc.\n",
    "\n",
    "### This label can be used to access a specified value."
   ]
  },
  {
   "cell_type": "code",
   "execution_count": 4,
   "id": "a7f7de28",
   "metadata": {},
   "outputs": [
    {
     "name": "stdout",
     "output_type": "stream",
     "text": [
      "1\n"
     ]
    }
   ],
   "source": [
    "print(myvar[0])"
   ]
  },
  {
   "cell_type": "markdown",
   "id": "de74ba30",
   "metadata": {},
   "source": [
    "### With the index argument, you can name your own labels."
   ]
  },
  {
   "cell_type": "code",
   "execution_count": 5,
   "id": "df110c22",
   "metadata": {},
   "outputs": [
    {
     "name": "stdout",
     "output_type": "stream",
     "text": [
      "x    1\n",
      "y    7\n",
      "z    2\n",
      "dtype: int64\n"
     ]
    }
   ],
   "source": [
    "a = [1, 7, 2]\n",
    "\n",
    "myvar = pd.Series(a, index = [\"x\", \"y\", \"z\"])\n",
    "\n",
    "print(myvar)"
   ]
  },
  {
   "cell_type": "markdown",
   "id": "ff9da79c",
   "metadata": {},
   "source": [
    "### When you have created labels, you can access an item by referring to the label."
   ]
  },
  {
   "cell_type": "code",
   "execution_count": 6,
   "id": "53da06a4",
   "metadata": {},
   "outputs": [
    {
     "name": "stdout",
     "output_type": "stream",
     "text": [
      "7\n"
     ]
    }
   ],
   "source": [
    "print(myvar[\"y\"])"
   ]
  },
  {
   "cell_type": "markdown",
   "id": "e2e90315",
   "metadata": {},
   "source": [
    "### You can also use a key/value object, like a dictionary, when creating a Series."
   ]
  },
  {
   "cell_type": "code",
   "execution_count": 7,
   "id": "878fcd87",
   "metadata": {},
   "outputs": [
    {
     "name": "stdout",
     "output_type": "stream",
     "text": [
      "day1    420\n",
      "day2    380\n",
      "day3    390\n",
      "dtype: int64\n"
     ]
    }
   ],
   "source": [
    "calories = {\"day1\": 420, \"day2\": 380, \"day3\": 390}\n",
    "\n",
    "myvar = pd.Series(calories)\n",
    "\n",
    "print(myvar)"
   ]
  },
  {
   "cell_type": "markdown",
   "id": "bc48d6a9",
   "metadata": {},
   "source": [
    "### To select only some of the items in the dictionary, use the index argument and specify only the items you want to include in the Series."
   ]
  },
  {
   "cell_type": "code",
   "execution_count": 8,
   "id": "b3897710",
   "metadata": {},
   "outputs": [
    {
     "name": "stdout",
     "output_type": "stream",
     "text": [
      "day1    420\n",
      "day2    380\n",
      "dtype: int64\n"
     ]
    }
   ],
   "source": [
    "calories = {\"day1\": 420, \"day2\": 380, \"day3\": 390}\n",
    "\n",
    "myvar = pd.Series(calories, index = [\"day1\", \"day2\"])\n",
    "\n",
    "print(myvar)"
   ]
  },
  {
   "cell_type": "markdown",
   "id": "930fc95f",
   "metadata": {},
   "source": [
    "### Data sets in Pandas are usually multi-dimensional tables, called DataFrames.\n",
    "\n",
    "### Series is like a column, a DataFrame is the whole table."
   ]
  },
  {
   "cell_type": "code",
   "execution_count": 9,
   "id": "e5c7e3b6",
   "metadata": {},
   "outputs": [
    {
     "name": "stdout",
     "output_type": "stream",
     "text": [
      "   calories  duration\n",
      "0       420        50\n",
      "1       380        40\n",
      "2       390        45\n"
     ]
    }
   ],
   "source": [
    "data = {\n",
    "  \"calories\": [420, 380, 390],\n",
    "  \"duration\": [50, 40, 45]\n",
    "}\n",
    "\n",
    "myvar = pd.DataFrame(data)\n",
    "\n",
    "print(myvar)"
   ]
  },
  {
   "cell_type": "markdown",
   "id": "2849bd48",
   "metadata": {},
   "source": [
    "### A Pandas DataFrame is a 2 dimensional data structure, like a 2 dimensional array, or a table with rows and columns."
   ]
  },
  {
   "cell_type": "code",
   "execution_count": 10,
   "id": "3635bd21",
   "metadata": {},
   "outputs": [
    {
     "name": "stdout",
     "output_type": "stream",
     "text": [
      "   calories  duration\n",
      "0       420        50\n",
      "1       380        40\n",
      "2       390        45\n"
     ]
    }
   ],
   "source": [
    "data = {\n",
    "  \"calories\": [420, 380, 390],\n",
    "  \"duration\": [50, 40, 45]\n",
    "}\n",
    "\n",
    "#load data into a DataFrame object:\n",
    "df = pd.DataFrame(data)\n",
    "\n",
    "print(df) "
   ]
  },
  {
   "cell_type": "markdown",
   "id": "90bdc099",
   "metadata": {},
   "source": [
    "### As you can see from the result above, the DataFrame is like a table with rows and columns.\n",
    "\n",
    "### Pandas use the loc attribute to return one or more specified row(s)"
   ]
  },
  {
   "cell_type": "code",
   "execution_count": 11,
   "id": "7847dc68",
   "metadata": {},
   "outputs": [
    {
     "name": "stdout",
     "output_type": "stream",
     "text": [
      "calories    420\n",
      "duration     50\n",
      "Name: 0, dtype: int64\n"
     ]
    }
   ],
   "source": [
    "#refer to the row index:\n",
    "print(df.loc[0])\n",
    "#returns a pandas series"
   ]
  },
  {
   "cell_type": "code",
   "execution_count": 12,
   "id": "2ab40eca",
   "metadata": {},
   "outputs": [
    {
     "name": "stdout",
     "output_type": "stream",
     "text": [
      "   calories  duration\n",
      "0       420        50\n",
      "1       380        40\n"
     ]
    }
   ],
   "source": [
    "#Return row 0 and 1:\n",
    "#use a list of indexes:\n",
    "print(df.loc[[0, 1]])"
   ]
  },
  {
   "cell_type": "markdown",
   "id": "154dacf5",
   "metadata": {},
   "source": [
    "### With the index argument, you can name your own indexes."
   ]
  },
  {
   "cell_type": "code",
   "execution_count": 13,
   "id": "da5a4d9d",
   "metadata": {},
   "outputs": [
    {
     "name": "stdout",
     "output_type": "stream",
     "text": [
      "      calories  duration\n",
      "day1       420        50\n",
      "day2       380        40\n",
      "day3       390        45\n"
     ]
    }
   ],
   "source": [
    "data = {\n",
    "  \"calories\": [420, 380, 390],\n",
    "  \"duration\": [50, 40, 45]\n",
    "}\n",
    "\n",
    "df = pd.DataFrame(data, index = [\"day1\", \"day2\", \"day3\"])\n",
    "\n",
    "print(df) "
   ]
  },
  {
   "cell_type": "code",
   "execution_count": 14,
   "id": "e12d58de",
   "metadata": {},
   "outputs": [
    {
     "name": "stdout",
     "output_type": "stream",
     "text": [
      "calories    380\n",
      "duration     40\n",
      "Name: day2, dtype: int64\n"
     ]
    }
   ],
   "source": [
    "#refer to the named index:\n",
    "print(df.loc[\"day2\"])"
   ]
  },
  {
   "cell_type": "markdown",
   "id": "cc0c33cc",
   "metadata": {},
   "source": [
    "### If your data sets are stored in a file, Pandas can load them into a DataFrame."
   ]
  },
  {
   "cell_type": "code",
   "execution_count": 15,
   "id": "a3593176",
   "metadata": {},
   "outputs": [],
   "source": [
    "df = pd.read_csv('/Users/luisosorio/Documents/PATH/Stars.csv')"
   ]
  },
  {
   "cell_type": "code",
   "execution_count": 16,
   "id": "9c73cf8e",
   "metadata": {},
   "outputs": [
    {
     "name": "stdout",
     "output_type": "stream",
     "text": [
      "     Temperature              L          R    A_M  Color Spectral_Class  Type\n",
      "0           3068       0.002400     0.1700  16.12    Red              M     0\n",
      "1           3042       0.000500     0.1542  16.60    Red              M     0\n",
      "2           2600       0.000300     0.1020  18.70    Red              M     0\n",
      "3           2800       0.000200     0.1600  16.65    Red              M     0\n",
      "4           1939       0.000138     0.1030  20.06    Red              M     0\n",
      "..           ...            ...        ...    ...    ...            ...   ...\n",
      "235        38940  374830.000000  1356.0000  -9.93   Blue              O     5\n",
      "236        30839  834042.000000  1194.0000 -10.63   Blue              O     5\n",
      "237         8829  537493.000000  1423.0000 -10.73  White              A     5\n",
      "238         9235  404940.000000  1112.0000 -11.23  White              A     5\n",
      "239        37882  294903.000000  1783.0000  -7.80   Blue              O     5\n",
      "\n",
      "[240 rows x 7 columns]\n"
     ]
    }
   ],
   "source": [
    "print(df)\n",
    "#If you have a large DataFrame with many rows, Pandas will only return the first 5 rows, and the last 5 rows:"
   ]
  },
  {
   "cell_type": "code",
   "execution_count": 17,
   "id": "f898c344",
   "metadata": {},
   "outputs": [
    {
     "name": "stdout",
     "output_type": "stream",
     "text": [
      "     Temperature              L           R     A_M               Color Spectral_Class  Type\n",
      "0           3068       0.002400     0.17000  16.120                 Red              M     0\n",
      "1           3042       0.000500     0.15420  16.600                 Red              M     0\n",
      "2           2600       0.000300     0.10200  18.700                 Red              M     0\n",
      "3           2800       0.000200     0.16000  16.650                 Red              M     0\n",
      "4           1939       0.000138     0.10300  20.060                 Red              M     0\n",
      "5           2840       0.000650     0.11000  16.980                 Red              M     0\n",
      "6           2637       0.000730     0.12700  17.220                 Red              M     0\n",
      "7           2600       0.000400     0.09600  17.400                 Red              M     0\n",
      "8           2650       0.000690     0.11000  17.450                 Red              M     0\n",
      "9           2700       0.000180     0.13000  16.050                 Red              M     0\n",
      "10          3600       0.002900     0.51000  10.690                 Red              M     1\n",
      "11          3129       0.012200     0.37610  11.790                 Red              M     1\n",
      "12          3134       0.000400     0.19600  13.210                 Red              M     1\n",
      "13          3628       0.005500     0.39300  10.480                 Red              M     1\n",
      "14          2650       0.000600     0.14000  11.782                 Red              M     1\n",
      "15          3340       0.003800     0.24000  13.070                 Red              M     1\n",
      "16          2799       0.001800     0.16000  14.790                 Red              M     1\n",
      "17          3692       0.003670     0.47000  10.800                 Red              M     1\n",
      "18          3192       0.003620     0.19670  13.530                 Red              M     1\n",
      "19          3441       0.039000     0.35100  11.180                 Red              M     1\n",
      "20         25000       0.056000     0.00840  10.580          Blue White              B     2\n",
      "21          7740       0.000490     0.01234  14.020               White              A     2\n",
      "22          7220       0.000170     0.01100  14.230               White              F     2\n",
      "23          8500       0.000500     0.01000  14.500               White              A     2\n",
      "24         16500       0.013000     0.01400  11.890          Blue White              B     2\n",
      "25         12990       0.000085     0.00984  12.230     Yellowish White              F     2\n",
      "26          8570       0.000810     0.00970  14.200          Blue white              A     2\n",
      "27          7700       0.000110     0.01280  14.470     Yellowish White              F     2\n",
      "28         11790       0.000150     0.01100  12.590     Yellowish White              F     2\n",
      "29          7230       0.000080     0.01300  14.080  Pale yellow orange              F     2\n",
      "30         39000  204000.000000    10.60000  -4.700                Blue              O     3\n",
      "31         30000   28840.000000     6.30000  -4.200          Blue-white              B     3\n",
      "32         15276    1136.000000     7.20000  -1.970          Blue-white              B     3\n",
      "33          9700      74.000000     2.89000   0.160             Whitish              B     3\n",
      "34          5800       0.810000     0.90000   5.050        yellow-white              F     3\n",
      "35          8052       8.700000     1.80000   2.420             Whitish              A     3\n",
      "36          6757       1.430000     1.12000   2.410        yellow-white              F     3\n",
      "37          6380       1.350000     0.98000   2.930        yellow-white              F     3\n",
      "38          5936       1.357000     1.10600   4.460        yellow-white              F     3\n",
      "39          5587       0.819000     0.99000   5.030        yellow-white              F     3\n",
      "40          3826  200000.000000    19.00000  -6.930                 Red              M     4\n",
      "41          3365  340000.000000    23.00000  -6.200                 Red              M     4\n",
      "42          3270  150000.000000    88.00000  -6.020                 Red              M     4\n",
      "43          3200  195000.000000    17.00000  -7.220                 Red              M     4\n",
      "44          3008  280000.000000    25.00000  -6.000                 Red              M     4\n",
      "45          3600  320000.000000    29.00000  -6.600                 Red              M     4\n",
      "46          3575  123000.000000    45.00000  -6.780                 Red              M     4\n",
      "47          3574  200000.000000    89.00000  -5.240                 Red              M     4\n",
      "48          3625  184000.000000    84.00000  -6.740                 Red              M     4\n",
      "49         33750  220000.000000    26.00000  -6.100                Blue              B     4\n",
      "50          3490  270000.000000  1520.00000  -9.400                 Red              M     5\n",
      "51          3750  283000.000000  1260.00000  -7.630                 Red              M     5\n",
      "52          3834  272000.000000  1183.00000  -9.200                 Red              M     5\n",
      "53          3749  550000.000000  1648.00000  -8.050              Orange              M     5\n",
      "54          3650  310000.000000  1324.00000  -7.790                 Red              M     5\n",
      "55          3450  263000.000000  1349.00000 -11.750                 Red              M     5\n",
      "56          3660  363000.000000  1673.00000 -11.920                 Red              M     5\n",
      "57          3450  174000.000000  1284.00000 -11.280                 Red              M     5\n",
      "58          3752  209000.000000   955.00000 -11.240                 Red              M     5\n",
      "59          3535  195000.000000  1546.00000 -11.360                 Red              M     5\n",
      "60          3341       0.005600     0.05700  16.230                 Red              M     0\n",
      "61          3432       0.000670     0.19000  16.940                 Red              M     0\n",
      "62          2983       0.000240     0.09400  16.090                 Red              M     0\n",
      "63          2835       0.000340     0.09180  16.960                 Red              M     0\n",
      "64          2935       0.000140     0.11600  18.890                 Red              M     0\n",
      "65          3295       0.000980     0.13200  17.130                 Red              M     0\n",
      "66          2945       0.000320     0.09300  18.340                 Red              M     0\n",
      "67          2817       0.000980     0.09110  16.450                 Red              M     0\n",
      "68          2774       0.000360     0.11800  17.390                 Red              M     0\n",
      "69          2871       0.000720     0.12000  19.430                 Red              M     0\n",
      "70          3345       0.021000     0.27300  12.300                 Red              M     1\n",
      "71          3607       0.022000     0.38000  10.120                 Red              M     1\n",
      "72          3304       0.008500     0.18000  13.200                 Red              M     1\n",
      "73          3150       0.008800     0.35000  11.940                 Red              M     1\n",
      "74          3550       0.004000     0.29100  10.890                 Red              M     1\n",
      "75          3180       0.001000     0.35000  11.760                 Red              M     1\n",
      "76          2890       0.003400     0.24000  13.460                 Red              M     1\n",
      "77          3342       0.001500     0.30700  11.870                 Red              M     1\n",
      "78          2621       0.000600     0.09800  12.810                 Red              M     1\n",
      "79          3158       0.001350     0.16100  13.980                 Red              M     1\n",
      "80          7100       0.000290     0.01200  14.090        White-Yellow              F     2\n",
      "81         10574       0.000140     0.00920  12.020               White              F     2\n",
      "82          8930       0.000560     0.00950  13.780               white              A     2\n",
      "83         17200       0.000980     0.01500  12.450          Blue White              B     2\n",
      "84         14100       0.000670     0.00890  12.170          Blue White              B     2\n",
      "85          9675       0.000450     0.01090  13.980          Blue White              A     2\n",
      "86         12010       0.000780     0.00920  12.130          Blue White              B     2\n",
      "87         10980       0.000740     0.00870  11.190          Blue White              B     2\n",
      "88         13720       0.000180     0.00892  12.970               white              F     2\n",
      "89         19860       0.001100     0.01310  11.340                Blue              B     2\n",
      "90          5300       0.590000     0.91000   5.490        yellow-white              F     3\n",
      "91          4526       0.153000     0.86500   6.506           yellowish              K     3\n",
      "92          4077       0.085000     0.79500   6.228           yellowish              K     3\n",
      "93          4980       0.357000     1.13000   4.780           Yellowish              K     3\n",
      "94          9030      45.000000     2.63000   1.450          Blue-white              A     3\n",
      "95         11250     672.000000     6.98000  -2.300          Blue-white              A     3\n",
      "96          5112       0.630000     0.87600   4.680          Orange-Red              K     3\n",
      "97          7720       7.920000     1.34000   2.440        yellow-white              F     3\n",
      "98         12098     689.000000     7.01000   0.020          Blue-white              A     3\n",
      "99         36108  198000.000000    10.20000  -4.400                Blue              O     3\n",
      "100        33300  240000.000000    12.00000  -6.500                Blue              B     4\n",
      "101        40000  813000.000000    14.00000  -6.230                Blue              O     4\n",
      "102        23000  127000.000000    36.00000  -5.760                Blue              O     4\n",
      "103        17120  235000.000000    83.00000  -6.890                Blue              O     4\n",
      "104        11096  112000.000000    12.00000  -5.910                Blue              O     4\n",
      "105        14245  231000.000000    42.00000  -6.120                Blue              O     4\n",
      "106        24630  363000.000000    63.00000  -5.830                Blue              O     4\n",
      "107        12893  184000.000000    36.00000  -6.340                Blue              O     4\n",
      "108        24345  142000.000000    57.00000  -6.240                Blue              O     4\n",
      "109        33421  352000.000000    67.00000  -5.790                Blue              O     4\n",
      "110         3459  100000.000000  1289.00000 -10.700                 Red              M     5\n",
      "111         3605  126000.000000  1124.00000 -10.810                 Red              M     5\n",
      "112         3615  200000.000000  1635.00000 -11.330                 Red              M     5\n",
      "113         3399  117000.000000  1486.00000 -10.920                 Red              M     5\n",
      "114         3610  132000.000000  1522.00000 -10.860                 Red              M     5\n",
      "115         3553  145000.000000  1324.00000 -11.030                 Red              M     5\n",
      "116         4015  282000.000000  1534.00000 -11.390                 Red              K     5\n",
      "117         3625   74000.000000   876.00000 -10.250                 Red              M     5\n",
      "118         6850  229000.000000  1467.00000 -10.070                 Red              G     5\n",
      "119         3780  200000.000000  1324.00000 -10.700                 Red              M     5\n",
      "120         3323       0.000430     0.09120  17.160                 Red              M     0\n",
      "121         3531       0.000930     0.09760  19.940                 Red              M     0\n",
      "122         3218       0.000540     0.11000  20.020                 Red              M     0\n",
      "123         3146       0.000150     0.09320  16.920                 Red              M     0\n",
      "124         3511       0.000640     0.10900  17.120                 Red              M     0\n",
      "125         3225       0.000760     0.12100  19.630                 Red              M     0\n",
      "126         2935       0.000870     0.09320  16.880                 Red              M     0\n",
      "127         2861       0.000190     0.08990  16.710                 Red              M     0\n",
      "128         2856       0.000896     0.07820  19.560                 Red              M     0\n",
      "129         2731       0.000437     0.08560  18.090                 Red              M     0\n",
      "130         3095       0.000190     0.49200  10.870                 Red              M     1\n",
      "131         3607       0.000230     0.38000  10.340                 Red              M     1\n",
      "132         3100       0.008000     0.31000  11.170                 Red              M     1\n",
      "133         2989       0.008700     0.34000  13.120                 Red              M     1\n",
      "134         3542       0.000900     0.62000  14.230                 Red              M     1\n",
      "135         3243       0.002300     0.73000  14.750                 Red              M     1\n",
      "136         3091       0.008100     0.24000  11.430                 Red              M     1\n",
      "137         3598       0.001100     0.56000  14.260                 Red              M     1\n",
      "138         3324       0.003400     0.34000  12.230                 Red              M     1\n",
      "139         3541       0.001300     0.25600  14.330                 Red              M     1\n",
      "140        13420       0.000590     0.00981  13.670          Blue White              B     2\n",
      "141        21020       0.001500     0.01120  11.520                Blue              B     2\n",
      "142        18290       0.001300     0.00934  12.780                Blue              B     2\n",
      "143        14520       0.000820     0.00972  11.920          Blue White              B     2\n",
      "144        11900       0.000670     0.00898  11.380          Blue white              B     2\n",
      "145         8924       0.000280     0.00879  14.870          Blue white              A     2\n",
      "146        12912       0.000710     0.00945  12.830          Blue white              B     2\n",
      "147        14732       0.000110     0.00892  12.890               white              F     2\n",
      "148         7723       0.000140     0.00878  14.810               White              A     2\n",
      "149        12984       0.000880     0.00996  11.230          Blue White              B     2\n",
      "150        29560  188000.000000     6.02000  -4.010          Blue-white              B     3\n",
      "151         8945      38.000000     2.48700   0.120          Blue-White              A     3\n",
      "152        14060    1092.000000     5.74500  -2.040          Blue-white              A     3\n",
      "153        16390    1278.000000     5.68000  -3.320          Blue-white              B     3\n",
      "154        25070   14500.000000     5.92000  -3.980          Blue-white              B     3\n",
      "155        28700   16790.000000     6.40000  -4.090          Blue-white              B     3\n",
      "156        26140   14520.000000     5.49000  -3.800          Blue-white              B     3\n",
      "157        20120    4720.000000     6.78000  -3.400          Blue-white              B     3\n",
      "158        13023     998.000000     6.21000  -1.380          Blue-white              A     3\n",
      "159        37800  202900.000000     6.86000  -4.560                Blue              O     3\n",
      "160        25390  223000.000000    57.00000  -5.920                Blue              O     4\n",
      "161        11567  251000.000000    36.00000  -6.245                Blue              O     4\n",
      "162        12675  452000.000000    83.00000  -5.620                Blue              O     4\n",
      "163         5752  245000.000000    97.00000  -6.630                Blue              O     4\n",
      "164         8927  239000.000000    35.00000  -7.340                Blue              O     4\n",
      "165         7282  131000.000000    24.00000  -7.220                Blue              O     4\n",
      "166        19923  152000.000000    73.00000  -5.690                Blue              O     4\n",
      "167        26373  198000.000000    39.00000  -5.830                Blue              O     4\n",
      "168        17383  342900.000000    30.00000  -6.090                Blue              O     4\n",
      "169         9373  424520.000000    24.00000  -5.990                Blue              O     4\n",
      "170         3570  320000.000000  1480.00000  -7.580                 Red              M     5\n",
      "171         3500  138000.000000  1420.00000  -8.180                 Red              M     5\n",
      "172         4287  630000.000000  1315.00000  -9.200              Orange              K     5\n",
      "173        26000  316000.000000  1679.00000  -9.100                Blue              B     5\n",
      "174         3600  240000.000000  1190.00000  -7.890                 Red              M     5\n",
      "175         3614  145000.000000  1553.00000  -7.710                 Red              M     5\n",
      "176        18000  200000.000000  1045.00000  -8.300                Blue              O     5\n",
      "177        11000  170000.000000  1779.00000  -9.900          Blue-white              B     5\n",
      "178        12100  120000.000000   708.90000  -7.840          Blue-white              B     5\n",
      "179        24490  248490.000000  1134.50000  -8.240          Blue-white              B     5\n",
      "180         2831       0.000231     0.09150  16.210                 Red              M     0\n",
      "181         2914       0.000631     0.11600  18.390                 Red              M     0\n",
      "182         3419       0.000245     0.12600  17.560                 Red              M     0\n",
      "183         3218       0.000452     0.09870  17.340                 Red              M     0\n",
      "184         3453       0.000621     0.07730  17.080                 Red              M     0\n",
      "185         2889       0.000352     0.09730  16.930                 Red              M     0\n",
      "186         2968       0.000461     0.11900  17.450                 Red              M     0\n",
      "187         3484       0.000551     0.09980  16.670                 Red              M     0\n",
      "188         2778       0.000849     0.11200  19.450                 Red              M     0\n",
      "189         3523       0.000957     0.12900  16.350                 Red              M     0\n",
      "190         3462       0.005300     0.14800  11.470                 Red              M     1\n",
      "191         3257       0.002400     0.46000  10.730                 Red              M     1\n",
      "192         2994       0.007200     0.28000  13.450                 Red              M     1\n",
      "193         3212       0.001600     0.37800  12.854                 Red              M     1\n",
      "194         3523       0.005400     0.31900  12.430                 Red              M     1\n",
      "195         3598       0.002700     0.67000  13.667                 Red              M     1\n",
      "196         3142       0.001320     0.25800  14.120                 Red              M     1\n",
      "197         3496       0.001250     0.33600  14.940                 Red              M     1\n",
      "198         3324       0.006500     0.47100  12.780                 Red              M     1\n",
      "199         3463       0.002700     0.67500  14.776                 Red              M     1\n",
      "200        16790       0.001400     0.01210  12.870                Blue              B     2\n",
      "201        15680       0.001220     0.01140  11.920                Blue              B     2\n",
      "202        14982       0.001180     0.01130  12.230                Blue              B     2\n",
      "203        13340       0.001090     0.01160  12.900                Blue              B     2\n",
      "204        18340       0.001340     0.01240  11.220                Blue              B     2\n",
      "205        19920       0.001560     0.01420  11.340                Blue              B     2\n",
      "206        24020       0.001590     0.01270  10.550                Blue              B     2\n",
      "207        23092       0.001320     0.01040  10.180                Blue              B     2\n",
      "208        17920       0.001110     0.01060  11.660                Blue              B     2\n",
      "209        19360       0.001250     0.00998  11.620                Blue              B     2\n",
      "210        22350   12450.000000     6.36000  -3.670          Blue-white              B     3\n",
      "211        10012     552.000000     5.85600   0.013          Blue-white              A     3\n",
      "212        13089     788.000000     5.99200  -0.120          Blue-white              A     3\n",
      "213        22012    6748.000000     6.64000  -2.550          Blue-white              B     3\n",
      "214        34190  198200.000000     6.39000  -4.570                Blue              O     3\n",
      "215        32460  173800.000000     6.23700  -4.360                Blue              O     3\n",
      "216         9320      29.000000     1.91000   1.236          Blue-white              A     3\n",
      "217        19400   10920.000000     6.03000  -3.080          Blue-white              B     3\n",
      "218        17140     883.000000     5.65300  -2.640          Blue-white              B     3\n",
      "219         8250       9.250000     1.93000  -0.980        yellow-white              F     3\n",
      "220        23678  244290.000000    35.00000  -6.270                Blue              O     4\n",
      "221        12749  332520.000000    76.00000  -7.020                Blue              O     4\n",
      "222         9383  342940.000000    98.00000  -6.980                Blue              O     4\n",
      "223        23440  537430.000000    81.00000  -5.975                Blue              O     4\n",
      "224        16787  246730.000000    62.00000  -6.350                Blue              O     4\n",
      "225        18734  224780.000000    46.00000  -7.450                Blue              O     4\n",
      "226         9892  593900.000000    80.00000  -7.262                Blue              O     4\n",
      "227        10930  783930.000000    25.00000  -6.224                Blue              O     4\n",
      "228        23095  347820.000000    86.00000  -5.905                Blue              O     4\n",
      "229        21738  748890.000000    92.00000  -7.346                Blue              O     4\n",
      "230        24145  382993.000000  1494.00000  -8.840          Blue-white              B     5\n",
      "231        38234  272830.000000  1356.00000  -9.290                Blue              O     5\n",
      "232        32489  648430.000000  1948.50000 -10.840                Blue              O     5\n",
      "233        27739  849420.000000  1252.00000  -7.590          Blue-white              B     5\n",
      "234        21904  748490.000000  1130.00000  -7.670          Blue-white              B     5\n",
      "235        38940  374830.000000  1356.00000  -9.930                Blue              O     5\n",
      "236        30839  834042.000000  1194.00000 -10.630                Blue              O     5\n",
      "237         8829  537493.000000  1423.00000 -10.730               White              A     5\n",
      "238         9235  404940.000000  1112.00000 -11.230               White              A     5\n",
      "239        37882  294903.000000  1783.00000  -7.800                Blue              O     5\n"
     ]
    }
   ],
   "source": [
    "print(df.to_string())\n",
    "#Tip: use to_string() to print the entire DataFrame."
   ]
  },
  {
   "cell_type": "markdown",
   "id": "9a924541",
   "metadata": {},
   "source": [
    "### The number of rows returned is defined in Pandas option settings.\n",
    "\n",
    "### You can check your system's maximum rows with the pd.options.display.max_rows statement."
   ]
  },
  {
   "cell_type": "code",
   "execution_count": 18,
   "id": "9dc84aad",
   "metadata": {},
   "outputs": [
    {
     "name": "stdout",
     "output_type": "stream",
     "text": [
      "60\n"
     ]
    }
   ],
   "source": [
    "print(pd.options.display.max_rows) "
   ]
  },
  {
   "cell_type": "markdown",
   "id": "70bf9403",
   "metadata": {},
   "source": [
    "### In my system the number is 60, which means that if the DataFrame contains more than 60 rows, the print(df) \n",
    "### statement will return only the headers and the first and last 5 rows.\n",
    "\n",
    "### You can change the maximum rows number with the same statement."
   ]
  },
  {
   "cell_type": "code",
   "execution_count": 19,
   "id": "028a549c",
   "metadata": {},
   "outputs": [],
   "source": [
    "pd.options.display.max_rows = 9999\n",
    "#Increase the maximum number of rows to display the entire DataFrame:"
   ]
  },
  {
   "cell_type": "markdown",
   "id": "a1d5da8b",
   "metadata": {},
   "source": [
    "### Big data sets are often stored, or extracted as JSON.\n",
    "\n",
    "### JSON is plain text, but has the format of an object, and is well known in the world of programming, including Pandas.\n",
    "\n",
    "### In our examples we will be using a JSON file called 'data.json'."
   ]
  },
  {
   "cell_type": "code",
   "execution_count": 20,
   "id": "bd990bd3",
   "metadata": {},
   "outputs": [
    {
     "name": "stdout",
     "output_type": "stream",
     "text": [
      "     Duration  Pulse  Maxpulse  Calories\n",
      "0          60    110       130     409.1\n",
      "1          60    117       145     479.0\n",
      "2          60    103       135     340.0\n",
      "3          45    109       175     282.4\n",
      "4          45    117       148     406.0\n",
      "5          60    102       127     300.5\n",
      "6          60    110       136     374.0\n",
      "7          45    104       134     253.3\n",
      "8          30    109       133     195.1\n",
      "9          60     98       124     269.0\n",
      "10         60    103       147     329.3\n",
      "11         60    100       120     250.7\n",
      "12         60    106       128     345.3\n",
      "13         60    104       132     379.3\n",
      "14         60     98       123     275.0\n",
      "15         60     98       120     215.2\n",
      "16         60    100       120     300.0\n",
      "17         45     90       112       NaN\n",
      "18         60    103       123     323.0\n",
      "19         45     97       125     243.0\n",
      "20         60    108       131     364.2\n",
      "21         45    100       119     282.0\n",
      "22         60    130       101     300.0\n",
      "23         45    105       132     246.0\n",
      "24         60    102       126     334.5\n",
      "25         60    100       120     250.0\n",
      "26         60     92       118     241.0\n",
      "27         60    103       132       NaN\n",
      "28         60    100       132     280.0\n",
      "29         60    102       129     380.3\n",
      "30         60     92       115     243.0\n",
      "31         45     90       112     180.1\n",
      "32         60    101       124     299.0\n",
      "33         60     93       113     223.0\n",
      "34         60    107       136     361.0\n",
      "35         60    114       140     415.0\n",
      "36         60    102       127     300.5\n",
      "37         60    100       120     300.1\n",
      "38         60    100       120     300.0\n",
      "39         45    104       129     266.0\n",
      "40         45     90       112     180.1\n",
      "41         60     98       126     286.0\n",
      "42         60    100       122     329.4\n",
      "43         60    111       138     400.0\n",
      "44         60    111       131     397.0\n",
      "45         60     99       119     273.0\n",
      "46         60    109       153     387.6\n",
      "47         45    111       136     300.0\n",
      "48         45    108       129     298.0\n",
      "49         60    111       139     397.6\n",
      "50         60    107       136     380.2\n",
      "51         80    123       146     643.1\n",
      "52         60    106       130     263.0\n",
      "53         60    118       151     486.0\n",
      "54         30    136       175     238.0\n",
      "55         60    121       146     450.7\n",
      "56         60    118       121     413.0\n",
      "57         45    115       144     305.0\n",
      "58         20    153       172     226.4\n",
      "59         45    123       152     321.0\n",
      "60        210    108       160    1376.0\n",
      "61        160    110       137    1034.4\n",
      "62        160    109       135     853.0\n",
      "63         45    118       141     341.0\n",
      "64         20    110       130     131.4\n",
      "65        180     90       130     800.4\n",
      "66        150    105       135     873.4\n",
      "67        150    107       130     816.0\n",
      "68         20    106       136     110.4\n",
      "69        300    108       143    1500.2\n",
      "70        150     97       129    1115.0\n",
      "71         60    109       153     387.6\n",
      "72         90    100       127     700.0\n",
      "73        150     97       127     953.2\n",
      "74         45    114       146     304.0\n",
      "75         90     98       125     563.2\n",
      "76         45    105       134     251.0\n",
      "77         45    110       141     300.0\n",
      "78        120    100       130     500.4\n",
      "79        270    100       131    1729.0\n",
      "80         30    159       182     319.2\n",
      "81         45    149       169     344.0\n",
      "82         30    103       139     151.1\n",
      "83        120    100       130     500.0\n",
      "84         45    100       120     225.3\n",
      "85         30    151       170     300.1\n",
      "86         45    102       136     234.0\n",
      "87        120    100       157    1000.1\n",
      "88         45    129       103     242.0\n",
      "89         20     83       107      50.3\n",
      "90        180    101       127     600.1\n",
      "91         45    107       137       NaN\n",
      "92         30     90       107     105.3\n",
      "93         15     80       100      50.5\n",
      "94         20    150       171     127.4\n",
      "95         20    151       168     229.4\n",
      "96         30     95       128     128.2\n",
      "97         25    152       168     244.2\n",
      "98         30    109       131     188.2\n",
      "99         90     93       124     604.1\n",
      "100        20     95       112      77.7\n",
      "101        90     90       110     500.0\n",
      "102        90     90       100     500.0\n",
      "103        90     90       100     500.4\n",
      "104        30     92       108      92.7\n",
      "105        30     93       128     124.0\n",
      "106       180     90       120     800.3\n",
      "107        30     90       120      86.2\n",
      "108        90     90       120     500.3\n",
      "109       210    137       184    1860.4\n",
      "110        60    102       124     325.2\n",
      "111        45    107       124     275.0\n",
      "112        15    124       139     124.2\n",
      "113        45    100       120     225.3\n",
      "114        60    108       131     367.6\n",
      "115        60    108       151     351.7\n",
      "116        60    116       141     443.0\n",
      "117        60     97       122     277.4\n",
      "118        60    105       125       NaN\n",
      "119        60    103       124     332.7\n",
      "120        30    112       137     193.9\n",
      "121        45    100       120     100.7\n",
      "122        60    119       169     336.7\n",
      "123        60    107       127     344.9\n",
      "124        60    111       151     368.5\n",
      "125        60     98       122     271.0\n",
      "126        60     97       124     275.3\n",
      "127        60    109       127     382.0\n",
      "128        90     99       125     466.4\n",
      "129        60    114       151     384.0\n",
      "130        60    104       134     342.5\n",
      "131        60    107       138     357.5\n",
      "132        60    103       133     335.0\n",
      "133        60    106       132     327.5\n",
      "134        60    103       136     339.0\n",
      "135        20    136       156     189.0\n",
      "136        45    117       143     317.7\n",
      "137        45    115       137     318.0\n",
      "138        45    113       138     308.0\n",
      "139        20    141       162     222.4\n",
      "140        60    108       135     390.0\n",
      "141        60     97       127       NaN\n",
      "142        45    100       120     250.4\n",
      "143        45    122       149     335.4\n",
      "144        60    136       170     470.2\n",
      "145        45    106       126     270.8\n",
      "146        60    107       136     400.0\n",
      "147        60    112       146     361.9\n",
      "148        30    103       127     185.0\n",
      "149        60    110       150     409.4\n",
      "150        60    106       134     343.0\n",
      "151        60    109       129     353.2\n",
      "152        60    109       138     374.0\n",
      "153        30    150       167     275.8\n",
      "154        60    105       128     328.0\n",
      "155        60    111       151     368.5\n",
      "156        60     97       131     270.4\n",
      "157        60    100       120     270.4\n",
      "158        60    114       150     382.8\n",
      "159        30     80       120     240.9\n",
      "160        30     85       120     250.4\n",
      "161        45     90       130     260.4\n",
      "162        45     95       130     270.0\n",
      "163        45    100       140     280.9\n",
      "164        60    105       140     290.8\n",
      "165        60    110       145     300.4\n",
      "166        60    115       145     310.2\n",
      "167        75    120       150     320.4\n",
      "168        75    125       150     330.4\n"
     ]
    }
   ],
   "source": [
    "# Load the JSON file into a DataFrame:\n",
    "df = pd.read_json('/Users/luisosorio/Documents/PATH/data.json')\n",
    "\n",
    "print(df.to_string())\n",
    "\n",
    "#JSON = Python Dictionary\n",
    "#JSON objects have the same format as Python dictionaries."
   ]
  },
  {
   "cell_type": "code",
   "execution_count": 21,
   "id": "99dc6af6",
   "metadata": {},
   "outputs": [
    {
     "name": "stdout",
     "output_type": "stream",
     "text": [
      "   Duration  Pulse  Maxpulse  Calories\n",
      "0        60    110       130       409\n",
      "1        60    117       145       479\n",
      "2        60    103       135       340\n",
      "3        45    109       175       282\n",
      "4        45    117       148       406\n",
      "5        60    102       127       300\n"
     ]
    }
   ],
   "source": [
    "#Load a Python Dictionary into a DataFrame:\n",
    "data = {\n",
    "  \"Duration\":{\n",
    "    \"0\":60,\n",
    "    \"1\":60,\n",
    "    \"2\":60,\n",
    "    \"3\":45,\n",
    "    \"4\":45,\n",
    "    \"5\":60\n",
    "  },\n",
    "  \"Pulse\":{\n",
    "    \"0\":110,\n",
    "    \"1\":117,\n",
    "    \"2\":103,\n",
    "    \"3\":109,\n",
    "    \"4\":117,\n",
    "    \"5\":102\n",
    "  },\n",
    "  \"Maxpulse\":{\n",
    "    \"0\":130,\n",
    "    \"1\":145,\n",
    "    \"2\":135,\n",
    "    \"3\":175,\n",
    "    \"4\":148,\n",
    "    \"5\":127\n",
    "  },\n",
    "  \"Calories\":{\n",
    "    \"0\":409,\n",
    "    \"1\":479,\n",
    "    \"2\":340,\n",
    "    \"3\":282,\n",
    "    \"4\":406,\n",
    "    \"5\":300\n",
    "  }\n",
    "}\n",
    "\n",
    "df = pd.DataFrame(data)\n",
    "\n",
    "print(df) "
   ]
  },
  {
   "cell_type": "code",
   "execution_count": 22,
   "id": "5096f2ca",
   "metadata": {},
   "outputs": [
    {
     "name": "stdout",
     "output_type": "stream",
     "text": [
      "   Temperature         L       R    A_M Color Spectral_Class  Type\n",
      "0         3068  0.002400  0.1700  16.12   Red              M     0\n",
      "1         3042  0.000500  0.1542  16.60   Red              M     0\n",
      "2         2600  0.000300  0.1020  18.70   Red              M     0\n",
      "3         2800  0.000200  0.1600  16.65   Red              M     0\n",
      "4         1939  0.000138  0.1030  20.06   Red              M     0\n",
      "5         2840  0.000650  0.1100  16.98   Red              M     0\n",
      "6         2637  0.000730  0.1270  17.22   Red              M     0\n",
      "7         2600  0.000400  0.0960  17.40   Red              M     0\n",
      "8         2650  0.000690  0.1100  17.45   Red              M     0\n",
      "9         2700  0.000180  0.1300  16.05   Red              M     0\n"
     ]
    }
   ],
   "source": [
    "#One of the most used method for getting a quick overview of the DataFrame, is the head() method.\n",
    "#The head() method returns the headers and a specified number of rows, starting from the top.\n",
    "\n",
    "#Get a quick overview by printing the first 10 rows of the DataFrame:\n",
    "import pandas as pd\n",
    "\n",
    "df = pd.read_csv('/Users/luisosorio/Documents/PATH/Stars.csv')\n",
    "\n",
    "print(df.head(10))"
   ]
  },
  {
   "cell_type": "code",
   "execution_count": 23,
   "id": "412a58c8",
   "metadata": {},
   "outputs": [
    {
     "name": "stdout",
     "output_type": "stream",
     "text": [
      "   Temperature         L       R    A_M Color Spectral_Class  Type\n",
      "0         3068  0.002400  0.1700  16.12   Red              M     0\n",
      "1         3042  0.000500  0.1542  16.60   Red              M     0\n",
      "2         2600  0.000300  0.1020  18.70   Red              M     0\n",
      "3         2800  0.000200  0.1600  16.65   Red              M     0\n",
      "4         1939  0.000138  0.1030  20.06   Red              M     0\n"
     ]
    }
   ],
   "source": [
    "#Print the first 5 rows of the DataFrame:\n",
    "print(df.head())"
   ]
  },
  {
   "cell_type": "code",
   "execution_count": 24,
   "id": "3c785c38",
   "metadata": {},
   "outputs": [
    {
     "name": "stdout",
     "output_type": "stream",
     "text": [
      "     Temperature         L       R    A_M  Color Spectral_Class  Type\n",
      "235        38940  374830.0  1356.0  -9.93   Blue              O     5\n",
      "236        30839  834042.0  1194.0 -10.63   Blue              O     5\n",
      "237         8829  537493.0  1423.0 -10.73  White              A     5\n",
      "238         9235  404940.0  1112.0 -11.23  White              A     5\n",
      "239        37882  294903.0  1783.0  -7.80   Blue              O     5\n"
     ]
    }
   ],
   "source": [
    "#There is also a tail() method for viewing the last rows of the DataFrame.\n",
    "#The tail() method returns the headers and a specified number of rows, starting from the bottom.\n",
    "\n",
    "#Print the last 5 rows of the DataFrame:\n",
    "print(df.tail()) "
   ]
  },
  {
   "cell_type": "code",
   "execution_count": 25,
   "id": "9087f5b1",
   "metadata": {},
   "outputs": [
    {
     "name": "stdout",
     "output_type": "stream",
     "text": [
      "<class 'pandas.core.frame.DataFrame'>\n",
      "RangeIndex: 240 entries, 0 to 239\n",
      "Data columns (total 7 columns):\n",
      " #   Column          Non-Null Count  Dtype  \n",
      "---  ------          --------------  -----  \n",
      " 0   Temperature     240 non-null    int64  \n",
      " 1   L               240 non-null    float64\n",
      " 2   R               240 non-null    float64\n",
      " 3   A_M             240 non-null    float64\n",
      " 4   Color           240 non-null    object \n",
      " 5   Spectral_Class  240 non-null    object \n",
      " 6   Type            240 non-null    int64  \n",
      "dtypes: float64(3), int64(2), object(2)\n",
      "memory usage: 13.2+ KB\n",
      "None\n"
     ]
    }
   ],
   "source": [
    "#The DataFrames object has a method called info(), that gives you more information about the data set.\n",
    "print(df.info()) "
   ]
  },
  {
   "cell_type": "code",
   "execution_count": null,
   "id": "aea78202",
   "metadata": {},
   "outputs": [],
   "source": []
  }
 ],
 "metadata": {
  "kernelspec": {
   "display_name": "Python 3 (ipykernel)",
   "language": "python",
   "name": "python3"
  },
  "language_info": {
   "codemirror_mode": {
    "name": "ipython",
    "version": 3
   },
   "file_extension": ".py",
   "mimetype": "text/x-python",
   "name": "python",
   "nbconvert_exporter": "python",
   "pygments_lexer": "ipython3",
   "version": "3.10.9"
  }
 },
 "nbformat": 4,
 "nbformat_minor": 5
}
