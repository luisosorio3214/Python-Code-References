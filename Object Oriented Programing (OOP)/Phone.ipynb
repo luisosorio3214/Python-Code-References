{
 "cells": [
  {
   "cell_type": "code",
   "execution_count": 13,
   "id": "81ad1199-7862-4c0a-9e9f-d30809cafc2a",
   "metadata": {},
   "outputs": [],
   "source": [
    "# Phone Class"
   ]
  },
  {
   "cell_type": "code",
   "execution_count": 19,
   "id": "a5be5a28-edcd-4cb6-b2c0-f20df46a4a3f",
   "metadata": {
    "tags": []
   },
   "outputs": [],
   "source": [
    "# to run the Item notebook so we can use the parent class Item\n",
    "%run item.ipynb"
   ]
  },
  {
   "cell_type": "code",
   "execution_count": 20,
   "id": "1f9c5e06-8da3-4554-960a-8782380543a9",
   "metadata": {
    "tags": []
   },
   "outputs": [],
   "source": [
    "# child class\n",
    "class Phone(Item):\n",
    "    def __init__(self, name: str, price: float, quantity = 0, broken_phones = 0): \n",
    "        \n",
    "        # call to super fucntion to have access to all attributes / methods\n",
    "        super().__init__(\n",
    "            name, price, quantity\n",
    "        )\n",
    "        \n",
    "        # run validations to the recieved arguments                \n",
    "        assert broken_phones >= 0, f\"Broken Phones {broken_phones } is not greater than zero\"\n",
    "        # assert is called a constructor\n",
    "        \n",
    "        # assign to self object\n",
    "        self.broke_phones = broken_phones"
   ]
  },
  {
   "cell_type": "code",
   "execution_count": null,
   "id": "ada31838-40ac-4945-9c9a-8fa91fdd022c",
   "metadata": {},
   "outputs": [],
   "source": []
  }
 ],
 "metadata": {
  "kernelspec": {
   "display_name": "Python 3 (ipykernel)",
   "language": "python",
   "name": "python3"
  },
  "language_info": {
   "codemirror_mode": {
    "name": "ipython",
    "version": 3
   },
   "file_extension": ".py",
   "mimetype": "text/x-python",
   "name": "python",
   "nbconvert_exporter": "python",
   "pygments_lexer": "ipython3",
   "version": "3.9.13"
  }
 },
 "nbformat": 4,
 "nbformat_minor": 5
}
