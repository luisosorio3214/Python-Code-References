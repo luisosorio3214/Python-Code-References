{
 "cells": [
  {
   "cell_type": "markdown",
   "id": "a877ab29-11e9-4add-92e7-12abb492db75",
   "metadata": {},
   "source": [
    "# Main "
   ]
  },
  {
   "cell_type": "markdown",
   "id": "8b6dd691-af2e-482e-8d7a-c3ce0b715402",
   "metadata": {},
   "source": [
    "## Getters and Setters"
   ]
  },
  {
   "cell_type": "code",
   "execution_count": 40,
   "id": "4814be47-d1d9-4ea4-8c72-319bccc6f4e1",
   "metadata": {
    "tags": []
   },
   "outputs": [],
   "source": [
    "%run item.ipynb\n",
    "#%run phone.ipynb"
   ]
  },
  {
   "cell_type": "code",
   "execution_count": 23,
   "id": "a1cfcb84-ad51-4e09-961a-0789b83e2a3e",
   "metadata": {
    "tags": []
   },
   "outputs": [
    {
     "name": "stdout",
     "output_type": "stream",
     "text": [
      "[Item('Phone', 100.0, 1), Item('Laptop', 1000.0, 3), Item('Cable', 10.0, 5), Item('Mouse', 50.0, 5), Item('Keyboard', 75.0, 5)]\n"
     ]
    }
   ],
   "source": [
    "Item.instantiate_from_csv()\n",
    "print(Item.all)"
   ]
  },
  {
   "cell_type": "code",
   "execution_count": 26,
   "id": "8ab19cc6-9e74-4ace-8114-478c9d7bd635",
   "metadata": {
    "tags": []
   },
   "outputs": [
    {
     "ename": "AttributeError",
     "evalue": "can't set attribute",
     "output_type": "error",
     "traceback": [
      "\u001b[0;31m---------------------------------------------------------------------------\u001b[0m",
      "\u001b[0;31mAttributeError\u001b[0m                            Traceback (most recent call last)",
      "Cell \u001b[0;32mIn[26], line 2\u001b[0m\n\u001b[1;32m      1\u001b[0m item1 \u001b[38;5;241m=\u001b[39m Item(\u001b[38;5;124m\"\u001b[39m\u001b[38;5;124mMyItem\u001b[39m\u001b[38;5;124m\"\u001b[39m, \u001b[38;5;241m750\u001b[39m)\n\u001b[0;32m----> 2\u001b[0m item1\u001b[38;5;241m.\u001b[39mname \u001b[38;5;241m=\u001b[39m \u001b[38;5;124m\"\u001b[39m\u001b[38;5;124mOtherItem\u001b[39m\u001b[38;5;124m\"\u001b[39m\n\u001b[1;32m      4\u001b[0m \u001b[38;5;28mprint\u001b[39m(item1\u001b[38;5;241m.\u001b[39mname)\n",
      "\u001b[0;31mAttributeError\u001b[0m: can't set attribute"
     ]
    }
   ],
   "source": [
    "item1 = Item(\"MyItem\", 750)\n",
    "item1.name = \"OtherItem\"\n",
    "  \n",
    "print(item1.name)"
   ]
  },
  {
   "cell_type": "markdown",
   "id": "f87b71b0-de35-4dbd-8aa1-8400d7f9eb1f",
   "metadata": {},
   "source": [
    "What if we want to restrict users from changing the name of an instance? Since it is critical attribute. This is called encapsulation. "
   ]
  },
  {
   "cell_type": "code",
   "execution_count": 19,
   "id": "2dc65d9d-8f11-4a20-8195-353a57dd5293",
   "metadata": {
    "tags": []
   },
   "outputs": [
    {
     "name": "stdout",
     "output_type": "stream",
     "text": [
      "AAA\n"
     ]
    }
   ],
   "source": [
    "print(item1.read_only_name)"
   ]
  },
  {
   "cell_type": "code",
   "execution_count": 21,
   "id": "7c36d3c5-7170-4f56-9639-84e6f1748d5d",
   "metadata": {
    "tags": []
   },
   "outputs": [
    {
     "ename": "AttributeError",
     "evalue": "can't set attribute",
     "output_type": "error",
     "traceback": [
      "\u001b[0;31m---------------------------------------------------------------------------\u001b[0m",
      "\u001b[0;31mAttributeError\u001b[0m                            Traceback (most recent call last)",
      "Cell \u001b[0;32mIn[21], line 2\u001b[0m\n\u001b[1;32m      1\u001b[0m \u001b[38;5;66;03m# we can override a property\u001b[39;00m\n\u001b[0;32m----> 2\u001b[0m item1\u001b[38;5;241m.\u001b[39mread_only_name \u001b[38;5;241m=\u001b[39m \u001b[38;5;124m\"\u001b[39m\u001b[38;5;124mBBB\u001b[39m\u001b[38;5;124m\"\u001b[39m\n",
      "\u001b[0;31mAttributeError\u001b[0m: can't set attribute"
     ]
    }
   ],
   "source": [
    "# we can override a property\n",
    "item1.read_only_name = \"BBB\""
   ]
  },
  {
   "cell_type": "code",
   "execution_count": 28,
   "id": "5413496b-5c29-4e50-a433-709243a10d00",
   "metadata": {
    "tags": []
   },
   "outputs": [
    {
     "name": "stdout",
     "output_type": "stream",
     "text": [
      "OtherItem\n"
     ]
    }
   ],
   "source": [
    "# we restricted the _name however you can still change from outside the class\n",
    "# thast because _name is viewable by the user, to fix this we add another underscore\n",
    "item1 = Item(\"MyItem\", 750)\n",
    "item1._name = \"OtherItem\"\n",
    "  \n",
    "print(item1.name)"
   ]
  },
  {
   "cell_type": "code",
   "execution_count": 30,
   "id": "7a1a8c5e-8ace-465d-8c8f-d9685289224f",
   "metadata": {
    "tags": []
   },
   "outputs": [
    {
     "name": "stdout",
     "output_type": "stream",
     "text": [
      "MyItem\n"
     ]
    }
   ],
   "source": [
    "item1 = Item(\"MyItem\", 750)\n",
    "item1._name = \"OtherItem\"\n",
    "  \n",
    "print(item1.name) "
   ]
  },
  {
   "cell_type": "code",
   "execution_count": 35,
   "id": "1795e2cd-a15b-43f0-a8be-d6031cedbdf1",
   "metadata": {
    "tags": []
   },
   "outputs": [
    {
     "name": "stdout",
     "output_type": "stream",
     "text": [
      "MyItem\n"
     ]
    }
   ],
   "source": [
    "item1 = Item(\"MyItem\", 750)\n",
    "item1._name = \"OtherItem\"\n",
    "print(item1.name) "
   ]
  },
  {
   "cell_type": "code",
   "execution_count": 38,
   "id": "61118514-5f3e-4810-82b9-4712e7042a41",
   "metadata": {
    "tags": []
   },
   "outputs": [
    {
     "name": "stdout",
     "output_type": "stream",
     "text": [
      "OtherItem\n"
     ]
    }
   ],
   "source": [
    "item1 = Item(\"MyItem\", 750)\n",
    "\n",
    "# setting an Attribute\n",
    "item1.name = \"OtherItem\"\n",
    "\n",
    "# getting an Attribute\n",
    "print(item1.name) "
   ]
  },
  {
   "cell_type": "code",
   "execution_count": 41,
   "id": "41719016-34ec-4442-8776-5ab1dad22598",
   "metadata": {
    "tags": []
   },
   "outputs": [
    {
     "ename": "Exception",
     "evalue": "The name is too long",
     "output_type": "error",
     "traceback": [
      "\u001b[0;31m---------------------------------------------------------------------------\u001b[0m",
      "\u001b[0;31mException\u001b[0m                                 Traceback (most recent call last)",
      "Cell \u001b[0;32mIn[41], line 4\u001b[0m\n\u001b[1;32m      1\u001b[0m item1 \u001b[38;5;241m=\u001b[39m Item(\u001b[38;5;124m\"\u001b[39m\u001b[38;5;124mMyItem\u001b[39m\u001b[38;5;124m\"\u001b[39m, \u001b[38;5;241m750\u001b[39m)\n\u001b[1;32m      3\u001b[0m \u001b[38;5;66;03m# setting an Attribute\u001b[39;00m\n\u001b[0;32m----> 4\u001b[0m item1\u001b[38;5;241m.\u001b[39mname \u001b[38;5;241m=\u001b[39m \u001b[38;5;124m\"\u001b[39m\u001b[38;5;124mOtherItemmm\u001b[39m\u001b[38;5;124m\"\u001b[39m\n\u001b[1;32m      6\u001b[0m \u001b[38;5;66;03m# getting an Attribute\u001b[39;00m\n\u001b[1;32m      7\u001b[0m \u001b[38;5;28mprint\u001b[39m(item1\u001b[38;5;241m.\u001b[39mname)\n",
      "File \u001b[0;32m/var/folders/kk/5v_5dqcx10lf2z4wjx76gj4c0000gn/T/ipykernel_25043/777598090.py:31\u001b[0m, in \u001b[0;36mItem.name\u001b[0;34m(self, value)\u001b[0m\n\u001b[1;32m     28\u001b[0m \u001b[38;5;129m@name\u001b[39m\u001b[38;5;241m.\u001b[39msetter\n\u001b[1;32m     29\u001b[0m \u001b[38;5;28;01mdef\u001b[39;00m \u001b[38;5;21mname\u001b[39m(\u001b[38;5;28mself\u001b[39m, value):\n\u001b[1;32m     30\u001b[0m     \u001b[38;5;28;01mif\u001b[39;00m \u001b[38;5;28mlen\u001b[39m(value) \u001b[38;5;241m>\u001b[39m \u001b[38;5;241m10\u001b[39m:\n\u001b[0;32m---> 31\u001b[0m         \u001b[38;5;28;01mraise\u001b[39;00m \u001b[38;5;167;01mException\u001b[39;00m(\u001b[38;5;124m\"\u001b[39m\u001b[38;5;124mThe name is too long\u001b[39m\u001b[38;5;124m\"\u001b[39m)\n\u001b[1;32m     32\u001b[0m     \u001b[38;5;28;01melse\u001b[39;00m:\n\u001b[1;32m     33\u001b[0m         \u001b[38;5;28mself\u001b[39m\u001b[38;5;241m.\u001b[39m__name \u001b[38;5;241m=\u001b[39m value\n",
      "\u001b[0;31mException\u001b[0m: The name is too long"
     ]
    }
   ],
   "source": [
    "item1 = Item(\"MyItem\", 750)\n",
    "\n",
    "# setting an Attribute\n",
    "item1.name = \"OtherItemmm\"\n",
    "\n",
    "# getting an Attribute\n",
    "print(item1.name) "
   ]
  },
  {
   "cell_type": "code",
   "execution_count": null,
   "id": "ae06b0e9-99a7-465f-af85-904eb07dcb74",
   "metadata": {},
   "outputs": [],
   "source": []
  }
 ],
 "metadata": {
  "kernelspec": {
   "display_name": "Python 3 (ipykernel)",
   "language": "python",
   "name": "python3"
  },
  "language_info": {
   "codemirror_mode": {
    "name": "ipython",
    "version": 3
   },
   "file_extension": ".py",
   "mimetype": "text/x-python",
   "name": "python",
   "nbconvert_exporter": "python",
   "pygments_lexer": "ipython3",
   "version": "3.9.13"
  }
 },
 "nbformat": 4,
 "nbformat_minor": 5
}
