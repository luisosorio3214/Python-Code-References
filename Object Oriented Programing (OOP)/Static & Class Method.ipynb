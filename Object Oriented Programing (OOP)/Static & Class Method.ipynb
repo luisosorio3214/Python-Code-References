{
 "cells": [
  {
   "cell_type": "markdown",
   "id": "1633365e-eafc-48e6-97ba-a91668018853",
   "metadata": {},
   "source": [
    "# Class Vs Static Methods"
   ]
  },
  {
   "cell_type": "code",
   "execution_count": 13,
   "id": "e83de4c3-dda0-4013-9546-fec9458b3437",
   "metadata": {
    "tags": []
   },
   "outputs": [],
   "source": [
    "# to read the csv file\n",
    "import csv"
   ]
  },
  {
   "cell_type": "markdown",
   "id": "8a6bf1d4-c6ed-4ceb-a061-674dc42bfdd0",
   "metadata": {},
   "source": [
    "How can we create a csv files and instantiate all those objects?"
   ]
  },
  {
   "cell_type": "code",
   "execution_count": 14,
   "id": "ce64817d-614d-4e7d-af87-b93e96f3df85",
   "metadata": {
    "tags": []
   },
   "outputs": [
    {
     "name": "stdout",
     "output_type": "stream",
     "text": [
      "{'name': \"'Phone'\", 'price': '100', 'quantity': '1'}\n",
      "{'name': \"'Laptop'\", 'price': '1000', 'quantity': '3'}\n",
      "{'name': \"'Cable'\", 'price': '10', 'quantity': '5'}\n",
      "{'name': \"'Mouse'\", 'price': '50', 'quantity': '5'}\n",
      "{'name': \"'Keyboard'\", 'price': '75', 'quantity': '5'}\n"
     ]
    }
   ],
   "source": [
    "class Item:\n",
    "    # class attribute\n",
    "    pay_rate = 0.8 # The pay rate after 20% discount\n",
    "    all = []\n",
    "    def __init__(self, name: str, price: float, quantity = 0): \n",
    "        \n",
    "        # run validations to the recieved arguments                \n",
    "        assert price >= 0, f\"Price {price} is not greater than zero!\"    \n",
    "        assert quantity >= 0, f\"Quantity {quantity} is not greater than zero\"\n",
    "        # assert is called a constructor\n",
    "        \n",
    "        # assign to self object\n",
    "        self.name = name                                        \n",
    "        self.price = price\n",
    "        self.quantity = quantity\n",
    "        \n",
    "        # Actions to excute\n",
    "        Item.all.append(self)\n",
    "        \n",
    "    def calculate_total_price(self):            \n",
    "        return self.price * self.quantity  \n",
    "    \n",
    "    def apply_discount(self):\n",
    "        self.price = self.price * self.pay_rate\n",
    "    \n",
    "    def __repr__(self):\n",
    "        return f\"Item('{self.name}', {self.price}, {self.quantity})\"\n",
    "    \n",
    "    # decorator\n",
    "    @classmethod\n",
    "    def instantiate_from_csv(cls):  # convert to class method and takes class as first argument\n",
    "         with open('items.csv', 'r') as f:\n",
    "                reader = csv.DictReader(f) # read our content as a list of dictionaries\n",
    "                items = list(reader)\n",
    "         for item in items:\n",
    "            print(item)\n",
    "            \n",
    "Item.instantiate_from_csv()"
   ]
  },
  {
   "cell_type": "markdown",
   "id": "3b5271f5-ab14-451b-a763-cbe5f6c0cb55",
   "metadata": {},
   "source": [
    "As we can see we got some dictionaries for each instance."
   ]
  },
  {
   "cell_type": "code",
   "execution_count": 20,
   "id": "e88f7112-5680-4dff-8d73-3d19def4663d",
   "metadata": {
    "tags": []
   },
   "outputs": [
    {
     "name": "stdout",
     "output_type": "stream",
     "text": [
      "[Item('Phone', 100.0, 1), Item('Laptop', 1000.0, 3), Item('Cable', 10.0, 5), Item('Mouse', 50.0, 5), Item('Keyboard', 75.0, 5)]\n"
     ]
    }
   ],
   "source": [
    "class Item:\n",
    "    # class attribute\n",
    "    pay_rate = 0.8 # The pay rate after 20% discount\n",
    "    all = []\n",
    "    def __init__(self, name: str, price: float, quantity = 0): \n",
    "        \n",
    "        # run validations to the recieved arguments                \n",
    "        assert price >= 0, f\"Price {price} is not greater than zero!\"    \n",
    "        assert quantity >= 0, f\"Quantity {quantity} is not greater than zero\"\n",
    "        # assert is called a constructor\n",
    "        \n",
    "        # assign to self object\n",
    "        self.name = name                                        \n",
    "        self.price = price\n",
    "        self.quantity = quantity\n",
    "        \n",
    "        # Actions to excute\n",
    "        Item.all.append(self)\n",
    "        \n",
    "    def calculate_total_price(self):            \n",
    "        return self.price * self.quantity  \n",
    "    \n",
    "    def apply_discount(self):\n",
    "        self.price = self.price * self.pay_rate\n",
    "    \n",
    "    def __repr__(self):\n",
    "        return f\"Item({self.name}, {self.price}, {self.quantity})\"\n",
    "    \n",
    "    \n",
    "    # decorator\n",
    "    @classmethod\n",
    "    def instantiate_from_csv(cls):  # convert to class method and takes class as first argument\n",
    "         with open('items.csv', 'r') as f:\n",
    "                reader = csv.DictReader(f) # read our content as a list of dictionaries\n",
    "                items = list(reader)\n",
    "                \n",
    "         for item in items:\n",
    "            Item(\n",
    "                name = item.get('name'), \n",
    "                price = float(item.get('price')),       # have to specify the datatype since it pulls it as strings\n",
    "                quantity = int(item.get('quantity')),\n",
    "            )\n",
    "            \n",
    "Item.instantiate_from_csv()\n",
    "print(Item.all)"
   ]
  },
  {
   "cell_type": "markdown",
   "id": "67a6bdcb-31ee-4700-b1b1-518ee1713455",
   "metadata": {},
   "source": [
    "## Static Methods"
   ]
  },
  {
   "cell_type": "code",
   "execution_count": 24,
   "id": "8b3a0c92-c341-4ccc-9c78-97311639966f",
   "metadata": {
    "tags": []
   },
   "outputs": [
    {
     "name": "stdout",
     "output_type": "stream",
     "text": [
      "False\n",
      "True\n",
      "True\n"
     ]
    }
   ],
   "source": [
    "class Item:\n",
    "    # class attribute\n",
    "    pay_rate = 0.8 # The pay rate after 20% discount\n",
    "    all = []\n",
    "    def __init__(self, name: str, price: float, quantity = 0): \n",
    "        \n",
    "        # run validations to the recieved arguments                \n",
    "        assert price >= 0, f\"Price {price} is not greater than zero!\"    \n",
    "        assert quantity >= 0, f\"Quantity {quantity} is not greater than zero\"\n",
    "        # assert is called a constructor\n",
    "        \n",
    "        # assign to self object\n",
    "        self.name = name                                        \n",
    "        self.price = price\n",
    "        self.quantity = quantity\n",
    "        \n",
    "        # Actions to excute\n",
    "        Item.all.append(self)\n",
    "        \n",
    "    def calculate_total_price(self):            \n",
    "        return self.price * self.quantity  \n",
    "    \n",
    "    def apply_discount(self):\n",
    "        self.price = self.price * self.pay_rate\n",
    "    \n",
    "    def __repr__(self):\n",
    "        return f\"Item({self.name}, {self.price}, {self.quantity})\"\n",
    "    \n",
    "    \n",
    "    # decorator\n",
    "    @classmethod\n",
    "    def instantiate_from_csv(cls):  # convert to class method and takes class as first argument\n",
    "         with open('items.csv', 'r') as f:\n",
    "                reader = csv.DictReader(f) # read our content as a list of dictionaries\n",
    "                items = list(reader)\n",
    "                \n",
    "         for item in items:\n",
    "            Item(\n",
    "                name = item.get('name'), \n",
    "                price = float(item.get('price')),       # have to specify the datatype since it pulls it as strings\n",
    "                quantity = int(item.get('quantity')),\n",
    "            )\n",
    "    \n",
    "    # Static Method\n",
    "    @staticmethod\n",
    "    def is_integer(num):\n",
    "        # we will count out the floats that are point zero\n",
    "        # for i.e.: 5.0, 10.0\n",
    "        if isinstance(num, float):\n",
    "            # count out the floats that are point zero\n",
    "            return num.is_integer()\n",
    "        elif isinstance(num, int):\n",
    "            return True\n",
    "        else: \n",
    "            return False\n",
    "        \n",
    "\n",
    "print(Item.is_integer(7.5))\n",
    "print(Item.is_integer(7))\n",
    "print(Item.is_integer(7.0))"
   ]
  },
  {
   "cell_type": "markdown",
   "id": "fb560097-bf2b-4bdc-8ef2-f9874b355ac4",
   "metadata": {},
   "source": [
    "When to use a class method or a static method?\n",
    "\n",
    "You should use a static method when something has a relationship with the class, but not something that must be unique per instance. You can use a static method as a function outside of class!\n",
    "\n",
    "You should use a class method when something has a relationship with the class, but usually, those are used to manipulate different structures of data to instantiate objects, like we have done with CSV. \n",
    "\n",
    "The main difference is that static methods are not passing the object reference as the first argument in the background."
   ]
  },
  {
   "cell_type": "code",
   "execution_count": null,
   "id": "ce8923e8-7ab5-430a-bf6e-1b587ac6a99b",
   "metadata": {},
   "outputs": [],
   "source": []
  }
 ],
 "metadata": {
  "kernelspec": {
   "display_name": "Python 3 (ipykernel)",
   "language": "python",
   "name": "python3"
  },
  "language_info": {
   "codemirror_mode": {
    "name": "ipython",
    "version": 3
   },
   "file_extension": ".py",
   "mimetype": "text/x-python",
   "name": "python",
   "nbconvert_exporter": "python",
   "pygments_lexer": "ipython3",
   "version": "3.9.13"
  }
 },
 "nbformat": 4,
 "nbformat_minor": 5
}
