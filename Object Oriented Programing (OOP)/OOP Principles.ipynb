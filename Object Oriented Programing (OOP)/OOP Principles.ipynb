{
 "cells": [
  {
   "cell_type": "markdown",
   "id": "3faa4bd8-1bfb-4e07-9896-85123fbefcec",
   "metadata": {},
   "source": [
    "# OOP Principles"
   ]
  },
  {
   "cell_type": "markdown",
   "id": "94a46738-6eb6-409e-b9ea-35c9f64f2472",
   "metadata": {
    "tags": []
   },
   "source": [
    "### Encapsulation"
   ]
  },
  {
   "cell_type": "markdown",
   "id": "8f2bd28b-1489-4bf7-866d-c5cbbd3c3af1",
   "metadata": {},
   "source": [
    "Encapsulation - restricts overriding attributes on objects."
   ]
  },
  {
   "cell_type": "code",
   "execution_count": 98,
   "id": "497c20cd-af8b-4609-80f7-a10e6127c2ff",
   "metadata": {
    "tags": []
   },
   "outputs": [],
   "source": [
    "%run item.ipynb"
   ]
  },
  {
   "cell_type": "code",
   "execution_count": 99,
   "id": "45923005-340a-426f-8166-00a489fbf1bd",
   "metadata": {
    "tags": []
   },
   "outputs": [],
   "source": [
    "Item.instantiate_from_csv()"
   ]
  },
  {
   "cell_type": "code",
   "execution_count": 100,
   "id": "9485e292-6bd9-429a-8ec2-f2b4dccf3ce9",
   "metadata": {
    "tags": []
   },
   "outputs": [
    {
     "name": "stdout",
     "output_type": "stream",
     "text": [
      "750\n"
     ]
    }
   ],
   "source": [
    "item1 = Item(\"MyItem\", 750)\n",
    "\n",
    "item1.__price = -900 \n",
    "\n",
    "print(item1.price)"
   ]
  },
  {
   "cell_type": "code",
   "execution_count": 101,
   "id": "2ef40e03-aae1-4afc-ba22-46cfda9bec36",
   "metadata": {
    "tags": []
   },
   "outputs": [
    {
     "name": "stdout",
     "output_type": "stream",
     "text": [
      "900.0\n"
     ]
    }
   ],
   "source": [
    "item1 = Item(\"MyItem\", 750)\n",
    "\n",
    "item1.apply_increment(0.2)\n",
    "\n",
    "print(item1.price)"
   ]
  },
  {
   "cell_type": "code",
   "execution_count": 102,
   "id": "ee1c0b66-3dfe-4672-afa8-7db18a74259a",
   "metadata": {
    "tags": []
   },
   "outputs": [
    {
     "name": "stdout",
     "output_type": "stream",
     "text": [
      "[Item('Phone', 100.0, 1), Item('Laptop', 1000.0, 3), Item('Cable', 10.0, 5), Item('Mouse', 50.0, 5), Item('Keyboard', 75.0, 5), Item(MyItem, 750, 0), Item(MyItem, 900.0, 0)]\n"
     ]
    }
   ],
   "source": [
    "print(Item.all)"
   ]
  },
  {
   "cell_type": "code",
   "execution_count": 103,
   "id": "29234574-3229-4e50-8d1c-c91f6e442b81",
   "metadata": {
    "tags": []
   },
   "outputs": [
    {
     "name": "stdout",
     "output_type": "stream",
     "text": [
      "720.0\n"
     ]
    }
   ],
   "source": [
    "item1.apply_discount()\n",
    "print(item1.price)"
   ]
  },
  {
   "cell_type": "markdown",
   "id": "1c55e511-e2e3-448b-abd1-0f62f767dc33",
   "metadata": {},
   "source": [
    "## Abstraction"
   ]
  },
  {
   "cell_type": "code",
   "execution_count": 107,
   "id": "cc66fd1b-e82c-48df-909a-4f35f8e6dffc",
   "metadata": {
    "tags": []
   },
   "outputs": [],
   "source": [
    "item1 = Item(\"MyItem\", 750, 6)\n",
    "\n",
    "item1.send_email()\n",
    "\n",
    "# want to hide this method from the users\n",
    "# want this method to be private\n",
    "\n",
    "#item1.connect()\n",
    "\n",
    "# to make a method private you simply put double __ underscore of the name of the method after def"
   ]
  },
  {
   "cell_type": "markdown",
   "id": "3a402c0f-f8f1-4eaa-bef5-8c6b678bf73a",
   "metadata": {},
   "source": [
    "## inheritance"
   ]
  },
  {
   "cell_type": "code",
   "execution_count": 105,
   "id": "d4e13c0b-5d8d-4612-bc94-d897cea0868a",
   "metadata": {
    "tags": []
   },
   "outputs": [],
   "source": [
    "%run phone.ipynb"
   ]
  },
  {
   "cell_type": "code",
   "execution_count": 106,
   "id": "80dfed6f-abd2-4c83-b4a4-b68a9cb4d2ca",
   "metadata": {
    "tags": []
   },
   "outputs": [],
   "source": [
    "item1 = Phone(\"jscPhone\", 1000, 3)\n"
   ]
  },
  {
   "cell_type": "markdown",
   "id": "09f50f00-2dd7-42eb-b2a6-4f8d06e4a8b4",
   "metadata": {},
   "source": [
    "## Polymorphism"
   ]
  },
  {
   "cell_type": "markdown",
   "id": "e68562fd-a330-4a3f-b240-83bb4f6a8a16",
   "metadata": {},
   "source": [
    "Refers to use of a single type entity to represent different types in different scenarios."
   ]
  },
  {
   "cell_type": "code",
   "execution_count": 110,
   "id": "14abad07-facf-4c15-b48c-d764b17b76a8",
   "metadata": {
    "tags": []
   },
   "outputs": [
    {
     "name": "stdout",
     "output_type": "stream",
     "text": [
      "3\n"
     ]
    }
   ],
   "source": [
    "# polymorphism in action\n",
    "name = 'jim'\n",
    "print(len(name))\n",
    "# python len knows how to handle different objects"
   ]
  },
  {
   "cell_type": "code",
   "execution_count": 111,
   "id": "6437a6f4-d5ed-454b-80fc-c68a93583b50",
   "metadata": {
    "tags": []
   },
   "outputs": [
    {
     "name": "stdout",
     "output_type": "stream",
     "text": [
      "2\n"
     ]
    }
   ],
   "source": [
    "some_list = ['some', 'name']\n",
    "print(len(some_list))"
   ]
  },
  {
   "cell_type": "code",
   "execution_count": 116,
   "id": "64a24e0a-3892-420c-8e29-1d742f04f617",
   "metadata": {
    "tags": []
   },
   "outputs": [],
   "source": [
    "class Keyboard(Item):\n",
    "    pay_rate = 0.70    # Keyboard class has 30 percent discount\n",
    "    def __init__(self, name: str, price: float, quantity = 0): \n",
    "        \n",
    "        # call to super fucntion to have access to all attributes / methods\n",
    "        super().__init__(\n",
    "            name, price, quantity\n",
    "        )"
   ]
  },
  {
   "cell_type": "code",
   "execution_count": 117,
   "id": "10bb7e70-edad-458c-a8c3-3dd8478fdcc1",
   "metadata": {
    "tags": []
   },
   "outputs": [
    {
     "name": "stdout",
     "output_type": "stream",
     "text": [
      "700.0\n"
     ]
    }
   ],
   "source": [
    "item1 = Keyboard(\"jscKeyboard\", 1000, 3)\n",
    "\n",
    "item1.apply_discount()\n",
    "\n",
    "print(item1.price)"
   ]
  },
  {
   "cell_type": "code",
   "execution_count": null,
   "id": "0f228b22-2018-4d01-b166-2b9163a046cc",
   "metadata": {},
   "outputs": [],
   "source": []
  }
 ],
 "metadata": {
  "kernelspec": {
   "display_name": "Python 3 (ipykernel)",
   "language": "python",
   "name": "python3"
  },
  "language_info": {
   "codemirror_mode": {
    "name": "ipython",
    "version": 3
   },
   "file_extension": ".py",
   "mimetype": "text/x-python",
   "name": "python",
   "nbconvert_exporter": "python",
   "pygments_lexer": "ipython3",
   "version": "3.9.13"
  }
 },
 "nbformat": 4,
 "nbformat_minor": 5
}
