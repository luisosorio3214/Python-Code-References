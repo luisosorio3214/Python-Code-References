{
 "cells": [
  {
   "cell_type": "markdown",
   "id": "573234bc-b8ae-4466-9b0e-ebed461db251",
   "metadata": {},
   "source": [
    "# Object Oriented Programming "
   ]
  },
  {
   "cell_type": "markdown",
   "id": "725d47ad-3167-4bdd-9a8a-29dae1a01e60",
   "metadata": {},
   "source": [
    "## Classes"
   ]
  },
  {
   "cell_type": "code",
   "execution_count": 1,
   "id": "ad25a19d-18a3-4106-a807-2cfeb727f8fb",
   "metadata": {
    "tags": []
   },
   "outputs": [
    {
     "name": "stdout",
     "output_type": "stream",
     "text": [
      "<class 'str'>\n",
      "<class 'int'>\n",
      "<class 'int'>\n",
      "<class 'int'>\n"
     ]
    }
   ],
   "source": [
    "item1 = 'Phone'\n",
    "item1_price = 100\n",
    "item1_quantity = 5\n",
    "item1_price_total = item1_price * item1_quantity\n",
    "\n",
    "print(type(item1))\n",
    "print(type(item1_price))\n",
    "print(type(item1_quantity))\n",
    "print(type(item1_price_total))"
   ]
  },
  {
   "cell_type": "markdown",
   "id": "6245a821-4bcc-423b-99e0-f4a779c866cc",
   "metadata": {},
   "source": [
    "The data types has been instantiated by a class"
   ]
  },
  {
   "cell_type": "code",
   "execution_count": 3,
   "id": "c925af93-5b22-4862-a7d4-79ce20675f66",
   "metadata": {
    "tags": []
   },
   "outputs": [
    {
     "name": "stdout",
     "output_type": "stream",
     "text": [
      "AAA\n"
     ]
    }
   ],
   "source": [
    "random_str = 'aaa'\n",
    "print(random_str.upper())"
   ]
  },
  {
   "cell_type": "markdown",
   "id": "060f3de6-535a-469d-89c6-4b57c0467357",
   "metadata": {},
   "source": [
    "How can we create methods like these? \n",
    "\n",
    "Answer:\n",
    "We create them within a class. Functions inside classes are called methods."
   ]
  },
  {
   "cell_type": "code",
   "execution_count": 8,
   "id": "5fac011c-32be-480d-87ef-cf18030adef9",
   "metadata": {
    "tags": []
   },
   "outputs": [
    {
     "name": "stdout",
     "output_type": "stream",
     "text": [
      "500\n",
      "3000\n"
     ]
    }
   ],
   "source": [
    "# creation of a class\n",
    "# then instantiate some objects to this class\n",
    "\n",
    "class Item:\n",
    "    # magic methods\n",
    "    def __init__(self, name):\n",
    "        print('I am created!')\n",
    "    def calculate_total_price(self, x, y):  # takes the instance as first argument\n",
    "        return x * y                        # its commmon to take the first argument called self\n",
    "\n",
    "\n",
    "item1 = Item() # call the __init__ automatically\n",
    "# attributes\n",
    "item1.name = 'Phone'\n",
    "item1.price = 100\n",
    "item1.quantity = 5\n",
    "print(item1.calculate_total_price(item1.price, item1.quantity))\n",
    "\n",
    "\n",
    "item2 = Item()\n",
    "# attributes\n",
    "item2.name = 'Laptop'\n",
    "item2.price = 1000\n",
    "item2.quantity = 3\n",
    "print(item2.calculate_total_price(item2.price, item2.quantity))"
   ]
  },
  {
   "cell_type": "code",
   "execution_count": 7,
   "id": "6c55ea75-1445-4fec-9267-b2b421834b53",
   "metadata": {
    "tags": []
   },
   "outputs": [
    {
     "name": "stdout",
     "output_type": "stream",
     "text": [
      "<class '__main__.Item'>\n",
      "<class 'str'>\n",
      "<class 'int'>\n",
      "<class 'int'>\n"
     ]
    }
   ],
   "source": [
    "print(type(item1))\n",
    "print(type(item1.name))\n",
    "print(type(item1.price))\n",
    "print(type(item1.quantity))"
   ]
  },
  {
   "cell_type": "markdown",
   "id": "74641741-b2fc-44a7-8001-d36207c20c61",
   "metadata": {},
   "source": [
    "Now item1 is its own data type called Item."
   ]
  },
  {
   "cell_type": "code",
   "execution_count": 12,
   "id": "0cbb74be-ee3d-44d6-97b3-4c7ea0ec2a97",
   "metadata": {
    "tags": []
   },
   "outputs": [
    {
     "name": "stdout",
     "output_type": "stream",
     "text": [
      "An instance created: Phone\n",
      "An instance created: Laptop\n",
      "Phone\n",
      "Laptop\n",
      "100\n",
      "1000\n",
      "5\n",
      "3\n"
     ]
    }
   ],
   "source": [
    "class Item:\n",
    "    # magic methods\n",
    "    def __init__(self, name, price, quantity #can set = 0):\n",
    "        print(f'An instance created: {name}')\n",
    "        self.name = name # dynamic attribute\n",
    "        self.price = price\n",
    "        self.quantity = quantity\n",
    "    def calculate_total_price(self, x , y):        # takes the object as first argument\n",
    "        return x * y                               # its commmon to take the first argument called self\n",
    "\n",
    "\n",
    "item1 = Item('Phone', 100, 5) # call the __init__ automatically\n",
    "\n",
    "item2 = Item('Laptop', 1000, 3)\n",
    "item2.num_pad = False\n",
    "\n",
    "print(item1.name)\n",
    "print(item2.name)\n",
    "\n",
    "print(item1.price)\n",
    "print(item2.price)\n",
    "\n",
    "print(item1.quantity)\n",
    "print(item2.quantity)"
   ]
  },
  {
   "cell_type": "markdown",
   "id": "908cfe40-b06d-4932-8d24-9714a8578843",
   "metadata": {},
   "source": [
    "## Constructors and __init__"
   ]
  },
  {
   "cell_type": "code",
   "execution_count": 15,
   "id": "50ce12ac-d94f-4439-9131-f5e82b530e93",
   "metadata": {
    "tags": []
   },
   "outputs": [
    {
     "name": "stdout",
     "output_type": "stream",
     "text": [
      "100100100100100\n",
      "3000\n"
     ]
    }
   ],
   "source": [
    "class Item:\n",
    "    # magic methods\n",
    "    def __init__(self, name, price, quantity = 0):\n",
    "        self.name = name # dynamic attribute\n",
    "        self.price = price\n",
    "        self.quantity = quantity\n",
    "    def calculate_total_price(self):         # takes the object as first argument\n",
    "        return self.price * self.quantity    # its commmon to take the first argument called self    \n",
    "           \n",
    "\n",
    "item1 = Item('Phone', '100', 5)   # call the __init__ automatically\n",
    "\n",
    "item2 = Item('Laptop', 1000, 3)   \n",
    "item2.num_pad = False\n",
    "\n",
    "print(item1.calculate_total_price())\n",
    "print(item2.calculate_total_price())"
   ]
  },
  {
   "cell_type": "code",
   "execution_count": 16,
   "id": "df13eec4-affb-425b-b8ca-9dee8e970b00",
   "metadata": {
    "tags": []
   },
   "outputs": [
    {
     "name": "stdout",
     "output_type": "stream",
     "text": [
      "100100100100100\n",
      "3000\n"
     ]
    }
   ],
   "source": [
    "class Item:\n",
    "    # magic methods\n",
    "    def __init__(self, name, price, quantity = 0):\n",
    "        self.name = name # dynamic attribute\n",
    "        self.price = price\n",
    "        self.quantity = quantity\n",
    "    def calculate_total_price(self):            \n",
    "        return self.price * self.quantity  \n",
    "\n",
    "item1 = Item('Phone', '100', 5) # what happens if we pass a string instead of integer\n",
    "\n",
    "item2 = Item('Laptop', 1000, 3)\n",
    "item2.num_pad = False\n",
    "\n",
    "print(item1.calculate_total_price())\n",
    "print(item2.calculate_total_price())"
   ]
  },
  {
   "cell_type": "markdown",
   "id": "659a5f44-4eb3-4d43-afc6-d9b865ba3b58",
   "metadata": {},
   "source": [
    "It prints the string 3 times since the quantity is 3. So we have to validate the date types passed in. "
   ]
  },
  {
   "cell_type": "code",
   "execution_count": 18,
   "id": "f978bc5a-55cd-45f5-9910-a4aa49d57ee5",
   "metadata": {
    "tags": []
   },
   "outputs": [
    {
     "ename": "AssertionError",
     "evalue": "Quantity -1 is not greater than zero",
     "output_type": "error",
     "traceback": [
      "\u001b[0;31m---------------------------------------------------------------------------\u001b[0m",
      "\u001b[0;31mAssertionError\u001b[0m                            Traceback (most recent call last)",
      "Cell \u001b[0;32mIn[18], line 17\u001b[0m\n\u001b[1;32m     14\u001b[0m     \u001b[38;5;28;01mdef\u001b[39;00m \u001b[38;5;21mcalculate_total_price\u001b[39m(\u001b[38;5;28mself\u001b[39m):            \n\u001b[1;32m     15\u001b[0m         \u001b[38;5;28;01mreturn\u001b[39;00m \u001b[38;5;28mself\u001b[39m\u001b[38;5;241m.\u001b[39mprice \u001b[38;5;241m*\u001b[39m \u001b[38;5;28mself\u001b[39m\u001b[38;5;241m.\u001b[39mquantity  \n\u001b[0;32m---> 17\u001b[0m item1 \u001b[38;5;241m=\u001b[39m \u001b[43mItem\u001b[49m\u001b[43m(\u001b[49m\u001b[38;5;124;43m'\u001b[39;49m\u001b[38;5;124;43mPhone\u001b[39;49m\u001b[38;5;124;43m'\u001b[39;49m\u001b[43m,\u001b[49m\u001b[43m \u001b[49m\u001b[38;5;241;43m100\u001b[39;49m\u001b[43m,\u001b[49m\u001b[43m \u001b[49m\u001b[38;5;241;43m-\u001b[39;49m\u001b[38;5;241;43m1\u001b[39;49m\u001b[43m)\u001b[49m \u001b[38;5;66;03m# what happens if we pass a string instead of integer\u001b[39;00m\n\u001b[1;32m     19\u001b[0m item2 \u001b[38;5;241m=\u001b[39m Item(\u001b[38;5;124m'\u001b[39m\u001b[38;5;124mLaptop\u001b[39m\u001b[38;5;124m'\u001b[39m, \u001b[38;5;241m1000\u001b[39m, \u001b[38;5;241m-\u001b[39m\u001b[38;5;241m3\u001b[39m)\n\u001b[1;32m     20\u001b[0m item2\u001b[38;5;241m.\u001b[39mnum_pad \u001b[38;5;241m=\u001b[39m \u001b[38;5;28;01mFalse\u001b[39;00m\n",
      "Cell \u001b[0;32mIn[18], line 6\u001b[0m, in \u001b[0;36mItem.__init__\u001b[0;34m(self, name, price, quantity)\u001b[0m\n\u001b[1;32m      3\u001b[0m \u001b[38;5;28;01mdef\u001b[39;00m \u001b[38;5;21m__init__\u001b[39m(\u001b[38;5;28mself\u001b[39m, name: \u001b[38;5;28mstr\u001b[39m, price: \u001b[38;5;28mfloat\u001b[39m, quantity \u001b[38;5;241m=\u001b[39m \u001b[38;5;241m0\u001b[39m):  \u001b[38;5;66;03m# specify the datatypes, however quantity \u001b[39;00m\n\u001b[1;32m      4\u001b[0m     \u001b[38;5;66;03m# run validations to the recieved arguments             # quantity is set to integer since we made it = 0\u001b[39;00m\n\u001b[1;32m      5\u001b[0m     \u001b[38;5;28;01massert\u001b[39;00m price \u001b[38;5;241m>\u001b[39m\u001b[38;5;241m=\u001b[39m \u001b[38;5;241m0\u001b[39m, \u001b[38;5;124mf\u001b[39m\u001b[38;5;124m\"\u001b[39m\u001b[38;5;124mPrice \u001b[39m\u001b[38;5;132;01m{\u001b[39;00mprice\u001b[38;5;132;01m}\u001b[39;00m\u001b[38;5;124m is not greater than zero\u001b[39m\u001b[38;5;124m\"\u001b[39m    \u001b[38;5;66;03m# set our own warning messages\u001b[39;00m\n\u001b[0;32m----> 6\u001b[0m     \u001b[38;5;28;01massert\u001b[39;00m quantity \u001b[38;5;241m>\u001b[39m\u001b[38;5;241m=\u001b[39m \u001b[38;5;241m0\u001b[39m, \u001b[38;5;124mf\u001b[39m\u001b[38;5;124m\"\u001b[39m\u001b[38;5;124mQuantity \u001b[39m\u001b[38;5;132;01m{\u001b[39;00mquantity\u001b[38;5;132;01m}\u001b[39;00m\u001b[38;5;124m is not greater than zero\u001b[39m\u001b[38;5;124m\"\u001b[39m\n\u001b[1;32m      8\u001b[0m     \u001b[38;5;66;03m# assign to self object\u001b[39;00m\n\u001b[1;32m      9\u001b[0m     \u001b[38;5;28mself\u001b[39m\u001b[38;5;241m.\u001b[39mname \u001b[38;5;241m=\u001b[39m name                                        \n",
      "\u001b[0;31mAssertionError\u001b[0m: Quantity -1 is not greater than zero"
     ]
    }
   ],
   "source": [
    "class Item:\n",
    "    # magic methods\n",
    "    def __init__(self, name: str, price: float, quantity = 0):  # specify the datatypes, however quantity \n",
    "        # run validations to the recieved arguments                # quantity is set to integer since we made it = 0\n",
    "        assert price >= 0, f\"Price {price} is not greater than zero!\"    # set our own warning messages\n",
    "        assert quantity >= 0, f\"Quantity {quantity} is not greater than zero\"\n",
    "        \n",
    "        # assign to self object\n",
    "        self.name = name                                        \n",
    "        self.price = price\n",
    "        self.quantity = quantity\n",
    "        \n",
    "        \n",
    "    def calculate_total_price(self):            \n",
    "        return self.price * self.quantity  \n",
    "\n",
    "item1 = Item('Phone', 100, -1) # what happens if we pass a string instead of integer\n",
    "\n",
    "item2 = Item('Laptop', 1000, -3)\n",
    "item2.num_pad = False\n",
    "\n",
    "print(item1.calculate_total_price())\n",
    "print(item2.calculate_total_price())"
   ]
  },
  {
   "cell_type": "markdown",
   "id": "d3f3966f-7173-4950-be50-60c6f7282554",
   "metadata": {},
   "source": [
    "As we can the assert forces an argument to be specfic within certain conditions."
   ]
  },
  {
   "cell_type": "code",
   "execution_count": 21,
   "id": "37fee967-9db0-48af-8422-75d5fa62fef1",
   "metadata": {
    "tags": []
   },
   "outputs": [
    {
     "name": "stdout",
     "output_type": "stream",
     "text": [
      "0.8\n",
      "0.8\n",
      "0.8\n"
     ]
    }
   ],
   "source": [
    "class Item:\n",
    "    # class attribute\n",
    "    pay_rate = 0.8 # The pay rate after 20% discount\n",
    "    \n",
    "    def __init__(self, name: str, price: float, quantity = 0): \n",
    "        \n",
    "        # run validations to the recieved arguments                \n",
    "        assert price >= 0, f\"Price {price} is not greater than zero!\"    \n",
    "        assert quantity >= 0, f\"Quantity {quantity} is not greater than zero\"\n",
    "        # assert is called a constructor\n",
    "        \n",
    "        # assign to self object\n",
    "        self.name = name                                        \n",
    "        self.price = price\n",
    "        self.quantity = quantity\n",
    "        \n",
    "    def calculate_total_price(self):            \n",
    "        return self.price * self.quantity  \n",
    "\n",
    "item1 = Item('Phone', 100, 5) \n",
    "\n",
    "item2 = Item('Laptop', 1000, 3)\n",
    "item2.num_pad = False\n",
    "\n",
    "print(Item.pay_rate)\n",
    "print(item1.pay_rate)\n",
    "print(item2.pay_rate)"
   ]
  },
  {
   "cell_type": "markdown",
   "id": "d677a2ed-6291-4eb5-83bb-d063403a29a2",
   "metadata": {},
   "source": [
    "We can call a class attribute several ways. To understand this our istance item1 will try to look for the attribute pay_rate at the first level, an attribute for item1. Since pay_rate is not an attribute for item1 then it would look for an attribute at the class level, hence the name class attribute."
   ]
  },
  {
   "cell_type": "code",
   "execution_count": 23,
   "id": "47360e9a-ec25-4822-8133-3d99e09efe5d",
   "metadata": {
    "tags": []
   },
   "outputs": [
    {
     "name": "stdout",
     "output_type": "stream",
     "text": [
      "{'__module__': '__main__', 'pay_rate': 0.8, '__init__': <function Item.__init__ at 0x7f91612931f0>, 'calculate_total_price': <function Item.calculate_total_price at 0x7f9161293af0>, '__dict__': <attribute '__dict__' of 'Item' objects>, '__weakref__': <attribute '__weakref__' of 'Item' objects>, '__doc__': None}\n",
      "\n",
      "{'name': 'Phone', 'price': 100, 'quantity': 5}\n"
     ]
    }
   ],
   "source": [
    "class Item:\n",
    "    # class attribute\n",
    "    pay_rate = 0.8 # The pay rate after 20% discount\n",
    "    \n",
    "    def __init__(self, name: str, price: float, quantity = 0): \n",
    "        \n",
    "        # run validations to the recieved arguments                \n",
    "        assert price >= 0, f\"Price {price} is not greater than zero!\"    \n",
    "        assert quantity >= 0, f\"Quantity {quantity} is not greater than zero\"\n",
    "        # assert is called a constructor\n",
    "        \n",
    "        # assign to self object\n",
    "        self.name = name                                        \n",
    "        self.price = price\n",
    "        self.quantity = quantity\n",
    "        \n",
    "    def calculate_total_price(self):            \n",
    "        return self.price * self.quantity  \n",
    "    \n",
    "\n",
    "item1 = Item('Phone', 100, 5) \n",
    "\n",
    "item2 = Item('Laptop', 1000, 3)\n",
    "item2.num_pad = False\n",
    "\n",
    "print(Item.__dict__) # bring all the attribute for class level\n",
    "print()\n",
    "print(item1.__dict__) # bring all the attributes for instance level"
   ]
  },
  {
   "cell_type": "code",
   "execution_count": 26,
   "id": "4e6ac7f0-1b14-4323-98b7-a2c4c1e64923",
   "metadata": {
    "tags": []
   },
   "outputs": [
    {
     "name": "stdout",
     "output_type": "stream",
     "text": [
      "80.0\n",
      "800.0\n"
     ]
    }
   ],
   "source": [
    "class Item:\n",
    "    # class attribute\n",
    "    pay_rate = 0.8 # The pay rate after 20% discount\n",
    "    \n",
    "    def __init__(self, name: str, price: float, quantity = 0): \n",
    "        \n",
    "        # run validations to the recieved arguments                \n",
    "        assert price >= 0, f\"Price {price} is not greater than zero!\"    \n",
    "        assert quantity >= 0, f\"Quantity {quantity} is not greater than zero\"\n",
    "        # assert is called a constructor\n",
    "        \n",
    "        # assign to self object\n",
    "        self.name = name                                        \n",
    "        self.price = price\n",
    "        self.quantity = quantity\n",
    "        \n",
    "    def calculate_total_price(self):            \n",
    "        return self.price * self.quantity  \n",
    "    def apply_discount(self):\n",
    "        self.price = self.price * Item.pay_rate # Item.price_rate for class level have to specify\n",
    "        \n",
    "        \n",
    "item1 = Item('Phone', 100, 5) \n",
    "\n",
    "item1.apply_discount()\n",
    "print(item1.price) \n",
    "\n",
    "# what if theres different discounts for different items then \n",
    "item2 = Item('Laptop', 1000, 3)\n",
    "item2.pay_rate = 0.7\n",
    "item2.apply_discount()\n",
    "print(item2.price) "
   ]
  },
  {
   "cell_type": "markdown",
   "id": "83f79246-cfd8-42e5-b00a-ebc4969e7959",
   "metadata": {},
   "source": [
    "As we can see the discount for item2 still used the 20 percent off rather than the 30 percent off that we specified. the reason for this is because we used Item.pay_rate which takes from class attribute. we tried the change the instance attribute so its common practice to use self.pay_rate rather than Item.pay_rate. "
   ]
  },
  {
   "cell_type": "code",
   "execution_count": 27,
   "id": "d48342ba-28d1-46fc-8f51-f52c2fa0028e",
   "metadata": {
    "tags": []
   },
   "outputs": [
    {
     "name": "stdout",
     "output_type": "stream",
     "text": [
      "80.0\n",
      "700.0\n"
     ]
    }
   ],
   "source": [
    "class Item:\n",
    "    # class attribute\n",
    "    pay_rate = 0.8 # The pay rate after 20% discount\n",
    "    \n",
    "    def __init__(self, name: str, price: float, quantity = 0): \n",
    "        \n",
    "        # run validations to the recieved arguments                \n",
    "        assert price >= 0, f\"Price {price} is not greater than zero!\"    \n",
    "        assert quantity >= 0, f\"Quantity {quantity} is not greater than zero\"\n",
    "        # assert is called a constructor\n",
    "        \n",
    "        # assign to self object\n",
    "        self.name = name                                        \n",
    "        self.price = price\n",
    "        self.quantity = quantity\n",
    "        \n",
    "    def calculate_total_price(self):            \n",
    "        return self.price * self.quantity  \n",
    "    def apply_discount(self):\n",
    "        self.price = self.price * self.pay_rate # self.price_rate if we override it than it will change through the instance level\n",
    "        \n",
    "        \n",
    "item1 = Item('Phone', 100, 5) \n",
    "\n",
    "item1.apply_discount()\n",
    "print(item1.price) \n",
    "\n",
    "# what if theres different discounts for different items then \n",
    "item2 = Item('Laptop', 1000, 3)\n",
    "item2.pay_rate = 0.7\n",
    "item2.apply_discount()\n",
    "print(item2.price) "
   ]
  },
  {
   "cell_type": "markdown",
   "id": "3a222987-5dcf-4fde-8687-86d78caa7dd3",
   "metadata": {},
   "source": [
    "Now we have for item1 a 20% discount and for item2 we have 30% discount."
   ]
  },
  {
   "cell_type": "code",
   "execution_count": 33,
   "id": "f49ffcc1-7487-4b2f-b9d8-afb92f9f99f4",
   "metadata": {
    "tags": []
   },
   "outputs": [
    {
     "name": "stdout",
     "output_type": "stream",
     "text": [
      "[<__main__.Item object at 0x7f91604e91f0>, <__main__.Item object at 0x7f916003e880>, <__main__.Item object at 0x7f916003e160>, <__main__.Item object at 0x7f916003edf0>, <__main__.Item object at 0x7f916003ecd0>]\n",
      "\n",
      "Phone\n",
      "Laptop\n",
      "Cable\n",
      "Mouse\n",
      "Keyboard\n"
     ]
    }
   ],
   "source": [
    "class Item:\n",
    "    # class attribute\n",
    "    pay_rate = 0.8 # The pay rate after 20% discount\n",
    "    all = []\n",
    "    def __init__(self, name: str, price: float, quantity = 0): \n",
    "        \n",
    "        # run validations to the recieved arguments                \n",
    "        assert price >= 0, f\"Price {price} is not greater than zero!\"    \n",
    "        assert quantity >= 0, f\"Quantity {quantity} is not greater than zero\"\n",
    "        # assert is called a constructor\n",
    "        \n",
    "        # assign to self object\n",
    "        self.name = name                                        \n",
    "        self.price = price\n",
    "        self.quantity = quantity\n",
    "        \n",
    "        # Actions to excute\n",
    "        Item.all.append(self)\n",
    "        \n",
    "    def calculate_total_price(self):            \n",
    "        return self.price * self.quantity  \n",
    "    \n",
    "    def apply_discount(self):\n",
    "        self.price = self.price * self.pay_rate \n",
    "        \n",
    "item1 = Item('Phone', 100, 1) \n",
    "item2 = Item('Laptop', 1000, 3)\n",
    "item3 = Item('Cable', 10, 5)\n",
    "item4 = Item('Mouse', 50, 5)\n",
    "item5 = Item('Keyboard', 75, 5)\n",
    "\n",
    "print(Item.all)\n",
    "print()\n",
    "for instance in Item.all:\n",
    "    print(instance.name)"
   ]
  },
  {
   "cell_type": "markdown",
   "id": "7b177bb9-d2c6-4ea6-904b-f79216f70285",
   "metadata": {},
   "source": [
    "How to get a list of all the instances in the class. What if want the names for each instance? Then we simply create a for loop. However there is a way to make the Items.all look nice by using a magic method."
   ]
  },
  {
   "cell_type": "code",
   "execution_count": 35,
   "id": "a3888367-43a7-45e8-8ec2-fe9b1b117381",
   "metadata": {
    "tags": []
   },
   "outputs": [
    {
     "name": "stdout",
     "output_type": "stream",
     "text": [
      "[Item('Phone', 100, 1), Item('Laptop', 1000, 3), Item('Cable', 10, 5), Item('Mouse', 50, 5), Item('Keyboard', 75, 5)]\n"
     ]
    }
   ],
   "source": [
    "class Item:\n",
    "    # class attribute\n",
    "    pay_rate = 0.8 # The pay rate after 20% discount\n",
    "    all = []\n",
    "    def __init__(self, name: str, price: float, quantity = 0): \n",
    "        \n",
    "        # run validations to the recieved arguments                \n",
    "        assert price >= 0, f\"Price {price} is not greater than zero!\"    \n",
    "        assert quantity >= 0, f\"Quantity {quantity} is not greater than zero\"\n",
    "        # assert is called a constructor\n",
    "        \n",
    "        # assign to self object\n",
    "        self.name = name                                        \n",
    "        self.price = price\n",
    "        self.quantity = quantity\n",
    "        \n",
    "        # Actions to excute\n",
    "        Item.all.append(self)\n",
    "        \n",
    "    def calculate_total_price(self):            \n",
    "        return self.price * self.quantity  \n",
    "    \n",
    "    def apply_discount(self):\n",
    "        self.price = self.price * self.pay_rate\n",
    "    \n",
    "    def __repr__(self):\n",
    "        return f\"Item('{self.name}', {self.price}, {self.quantity})\"\n",
    "        \n",
    "item1 = Item('Phone', 100, 1) \n",
    "item2 = Item('Laptop', 1000, 3)\n",
    "item3 = Item('Cable', 10, 5)\n",
    "item4 = Item('Mouse', 50, 5)\n",
    "item5 = Item('Keyboard', 75, 5)\n",
    "\n",
    "print(Item.all)\n"
   ]
  },
  {
   "cell_type": "markdown",
   "id": "ee9e7a55-c72d-4c8e-84b5-079509a6ce62",
   "metadata": {},
   "source": [
    "Its common practice to format it the way above so you can create new instances by copy and paste."
   ]
  },
  {
   "cell_type": "code",
   "execution_count": null,
   "id": "b2afaa0f-168b-4e53-9e24-45407d5dc6a6",
   "metadata": {},
   "outputs": [],
   "source": [
    " "
   ]
  }
 ],
 "metadata": {
  "kernelspec": {
   "display_name": "Python 3 (ipykernel)",
   "language": "python",
   "name": "python3"
  },
  "language_info": {
   "codemirror_mode": {
    "name": "ipython",
    "version": 3
   },
   "file_extension": ".py",
   "mimetype": "text/x-python",
   "name": "python",
   "nbconvert_exporter": "python",
   "pygments_lexer": "ipython3",
   "version": "3.9.13"
  }
 },
 "nbformat": 4,
 "nbformat_minor": 5
}
